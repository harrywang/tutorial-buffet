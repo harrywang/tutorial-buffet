{
 "cells": [
  {
   "cell_type": "markdown",
   "metadata": {},
   "source": [
    "# TF-IDF and BM25\n",
    "\n",
    "Using the classic Cranfield dataset, this notebook shows how to use [TF-IDF](https://scikit-learn.org/stable/modules/generated/sklearn.feature_extraction.text.TfidfVectorizer.html) and [BM25](https://pypi.org/project/rank-bm25) to calculate the similarity scores between a query and the documents and show the evaluation scores, i.e., precision and recall. Note that the ranking of the returned documents is not yet considered."
   ]
  },
  {
   "cell_type": "code",
   "execution_count": 1,
   "metadata": {},
   "outputs": [],
   "source": [
    "import numpy as np\n",
    "import pandas as pd"
   ]
  },
  {
   "cell_type": "code",
   "execution_count": 2,
   "metadata": {},
   "outputs": [],
   "source": [
    "# load data into dataframes\n",
    "docs = pd.read_json(\"data/cranfield_docs.json\")\n",
    "queries = pd.read_json(\"data/cranfield_queries.json\")\n",
    "relevance = pd.read_json(\"data/cranfield_relevance.json\")"
   ]
  },
  {
   "cell_type": "code",
   "execution_count": 3,
   "metadata": {},
   "outputs": [
    {
     "output_type": "execute_result",
     "data": {
      "text/plain": [
       "   id         author                                       bibliography  \\\n",
       "0   1   brenckman,m.                         j. ae. scs. 25, 1958, 324.   \n",
       "1   2      ting-yili  department of aeronautical engineering, rensse...   \n",
       "2   3  m. b. glauert  department of mathematics, university of manch...   \n",
       "3   4       yen,k.t.                         j. ae. scs. 22, 1955, 728.   \n",
       "4   5   wasserman,b.                         j. ae. scs. 24, 1957, 924.   \n",
       "\n",
       "                                                body  \\\n",
       "0  experimental investigation of the aerodynamics...   \n",
       "1  simple shear flow past a flat plate in an inco...   \n",
       "2  the boundary layer in simple shear flow past a...   \n",
       "3  approximate solutions of the incompressible la...   \n",
       "4  one-dimensional transient heat conduction into...   \n",
       "\n",
       "                                               title  \n",
       "0  experimental investigation of the aerodynamics...  \n",
       "1  simple shear flow past a flat plate in an inco...  \n",
       "2  the boundary layer in simple shear flow past a...  \n",
       "3  approximate solutions of the incompressible la...  \n",
       "4  one-dimensional transient heat conduction into...  "
      ],
      "text/html": "<div>\n<style scoped>\n    .dataframe tbody tr th:only-of-type {\n        vertical-align: middle;\n    }\n\n    .dataframe tbody tr th {\n        vertical-align: top;\n    }\n\n    .dataframe thead th {\n        text-align: right;\n    }\n</style>\n<table border=\"1\" class=\"dataframe\">\n  <thead>\n    <tr style=\"text-align: right;\">\n      <th></th>\n      <th>id</th>\n      <th>author</th>\n      <th>bibliography</th>\n      <th>body</th>\n      <th>title</th>\n    </tr>\n  </thead>\n  <tbody>\n    <tr>\n      <th>0</th>\n      <td>1</td>\n      <td>brenckman,m.</td>\n      <td>j. ae. scs. 25, 1958, 324.</td>\n      <td>experimental investigation of the aerodynamics...</td>\n      <td>experimental investigation of the aerodynamics...</td>\n    </tr>\n    <tr>\n      <th>1</th>\n      <td>2</td>\n      <td>ting-yili</td>\n      <td>department of aeronautical engineering, rensse...</td>\n      <td>simple shear flow past a flat plate in an inco...</td>\n      <td>simple shear flow past a flat plate in an inco...</td>\n    </tr>\n    <tr>\n      <th>2</th>\n      <td>3</td>\n      <td>m. b. glauert</td>\n      <td>department of mathematics, university of manch...</td>\n      <td>the boundary layer in simple shear flow past a...</td>\n      <td>the boundary layer in simple shear flow past a...</td>\n    </tr>\n    <tr>\n      <th>3</th>\n      <td>4</td>\n      <td>yen,k.t.</td>\n      <td>j. ae. scs. 22, 1955, 728.</td>\n      <td>approximate solutions of the incompressible la...</td>\n      <td>approximate solutions of the incompressible la...</td>\n    </tr>\n    <tr>\n      <th>4</th>\n      <td>5</td>\n      <td>wasserman,b.</td>\n      <td>j. ae. scs. 24, 1957, 924.</td>\n      <td>one-dimensional transient heat conduction into...</td>\n      <td>one-dimensional transient heat conduction into...</td>\n    </tr>\n  </tbody>\n</table>\n</div>"
     },
     "metadata": {},
     "execution_count": 3
    }
   ],
   "source": [
    "docs.head()"
   ]
  },
  {
   "cell_type": "code",
   "execution_count": 4,
   "metadata": {},
   "outputs": [
    {
     "output_type": "execute_result",
     "data": {
      "text/plain": [
       "   query_id                                              query\n",
       "0         1  what similarity laws must be obeyed when const...\n",
       "1         2  what are the structural and aeroelastic proble...\n",
       "2         3  what problems of heat conduction in composite ...\n",
       "3         4  can a criterion be developed to show empirical...\n",
       "4         5  what chemical kinetic system is applicable to ..."
      ],
      "text/html": "<div>\n<style scoped>\n    .dataframe tbody tr th:only-of-type {\n        vertical-align: middle;\n    }\n\n    .dataframe tbody tr th {\n        vertical-align: top;\n    }\n\n    .dataframe thead th {\n        text-align: right;\n    }\n</style>\n<table border=\"1\" class=\"dataframe\">\n  <thead>\n    <tr style=\"text-align: right;\">\n      <th></th>\n      <th>query_id</th>\n      <th>query</th>\n    </tr>\n  </thead>\n  <tbody>\n    <tr>\n      <th>0</th>\n      <td>1</td>\n      <td>what similarity laws must be obeyed when const...</td>\n    </tr>\n    <tr>\n      <th>1</th>\n      <td>2</td>\n      <td>what are the structural and aeroelastic proble...</td>\n    </tr>\n    <tr>\n      <th>2</th>\n      <td>3</td>\n      <td>what problems of heat conduction in composite ...</td>\n    </tr>\n    <tr>\n      <th>3</th>\n      <td>4</td>\n      <td>can a criterion be developed to show empirical...</td>\n    </tr>\n    <tr>\n      <th>4</th>\n      <td>5</td>\n      <td>what chemical kinetic system is applicable to ...</td>\n    </tr>\n  </tbody>\n</table>\n</div>"
     },
     "metadata": {},
     "execution_count": 4
    }
   ],
   "source": [
    "queries.head()"
   ]
  },
  {
   "cell_type": "code",
   "execution_count": 5,
   "metadata": {},
   "outputs": [
    {
     "output_type": "execute_result",
     "data": {
      "text/plain": [
       "                                                      query\n",
       "query_id                                                   \n",
       "1         what similarity laws must be obeyed when const...\n",
       "2         what are the structural and aeroelastic proble...\n",
       "3         what problems of heat conduction in composite ...\n",
       "4         can a criterion be developed to show empirical...\n",
       "5         what chemical kinetic system is applicable to ...\n",
       "...                                                     ...\n",
       "221       papers applicable to this problem (calculation...\n",
       "222       has anyone investigated the shear buckling of ...\n",
       "223       papers on shear buckling of unstiffened rectan...\n",
       "224       in practice, how close to reality are the assu...\n",
       "225       what design factors can be used to control lif...\n",
       "\n",
       "[225 rows x 1 columns]"
      ],
      "text/html": "<div>\n<style scoped>\n    .dataframe tbody tr th:only-of-type {\n        vertical-align: middle;\n    }\n\n    .dataframe tbody tr th {\n        vertical-align: top;\n    }\n\n    .dataframe thead th {\n        text-align: right;\n    }\n</style>\n<table border=\"1\" class=\"dataframe\">\n  <thead>\n    <tr style=\"text-align: right;\">\n      <th></th>\n      <th>query</th>\n    </tr>\n    <tr>\n      <th>query_id</th>\n      <th></th>\n    </tr>\n  </thead>\n  <tbody>\n    <tr>\n      <th>1</th>\n      <td>what similarity laws must be obeyed when const...</td>\n    </tr>\n    <tr>\n      <th>2</th>\n      <td>what are the structural and aeroelastic proble...</td>\n    </tr>\n    <tr>\n      <th>3</th>\n      <td>what problems of heat conduction in composite ...</td>\n    </tr>\n    <tr>\n      <th>4</th>\n      <td>can a criterion be developed to show empirical...</td>\n    </tr>\n    <tr>\n      <th>5</th>\n      <td>what chemical kinetic system is applicable to ...</td>\n    </tr>\n    <tr>\n      <th>...</th>\n      <td>...</td>\n    </tr>\n    <tr>\n      <th>221</th>\n      <td>papers applicable to this problem (calculation...</td>\n    </tr>\n    <tr>\n      <th>222</th>\n      <td>has anyone investigated the shear buckling of ...</td>\n    </tr>\n    <tr>\n      <th>223</th>\n      <td>papers on shear buckling of unstiffened rectan...</td>\n    </tr>\n    <tr>\n      <th>224</th>\n      <td>in practice, how close to reality are the assu...</td>\n    </tr>\n    <tr>\n      <th>225</th>\n      <td>what design factors can be used to control lif...</td>\n    </tr>\n  </tbody>\n</table>\n<p>225 rows × 1 columns</p>\n</div>"
     },
     "metadata": {},
     "execution_count": 5
    }
   ],
   "source": [
    "queries.set_index('query_id', inplace=True)\n",
    "queries"
   ]
  },
  {
   "cell_type": "code",
   "execution_count": 6,
   "metadata": {},
   "outputs": [
    {
     "output_type": "execute_result",
     "data": {
      "text/plain": [
       "'what similarity laws must be obeyed when constructing aeroelastic models of heated high speed aircraft .'"
      ]
     },
     "metadata": {},
     "execution_count": 6
    }
   ],
   "source": [
    "queries['query'][1]"
   ]
  },
  {
   "cell_type": "code",
   "execution_count": 7,
   "metadata": {},
   "outputs": [
    {
     "output_type": "execute_result",
     "data": {
      "text/plain": [
       "   query_id  r_score  doc_id\n",
       "0         1        2     184\n",
       "1         1        2      29\n",
       "2         1        2      31\n",
       "3         1        3      12\n",
       "4         1        3      51"
      ],
      "text/html": "<div>\n<style scoped>\n    .dataframe tbody tr th:only-of-type {\n        vertical-align: middle;\n    }\n\n    .dataframe tbody tr th {\n        vertical-align: top;\n    }\n\n    .dataframe thead th {\n        text-align: right;\n    }\n</style>\n<table border=\"1\" class=\"dataframe\">\n  <thead>\n    <tr style=\"text-align: right;\">\n      <th></th>\n      <th>query_id</th>\n      <th>r_score</th>\n      <th>doc_id</th>\n    </tr>\n  </thead>\n  <tbody>\n    <tr>\n      <th>0</th>\n      <td>1</td>\n      <td>2</td>\n      <td>184</td>\n    </tr>\n    <tr>\n      <th>1</th>\n      <td>1</td>\n      <td>2</td>\n      <td>29</td>\n    </tr>\n    <tr>\n      <th>2</th>\n      <td>1</td>\n      <td>2</td>\n      <td>31</td>\n    </tr>\n    <tr>\n      <th>3</th>\n      <td>1</td>\n      <td>3</td>\n      <td>12</td>\n    </tr>\n    <tr>\n      <th>4</th>\n      <td>1</td>\n      <td>3</td>\n      <td>51</td>\n    </tr>\n  </tbody>\n</table>\n</div>"
     },
     "metadata": {},
     "execution_count": 7
    }
   ],
   "source": [
    "relevance.head()"
   ]
  },
  {
   "cell_type": "code",
   "execution_count": 8,
   "metadata": {},
   "outputs": [],
   "source": [
    "train_docs = docs['body'].tolist()"
   ]
  },
  {
   "cell_type": "code",
   "execution_count": 9,
   "metadata": {},
   "outputs": [
    {
     "output_type": "stream",
     "name": "stderr",
     "text": [
      "[nltk_data] Downloading collection 'popular'\n",
      "[nltk_data]    | \n",
      "[nltk_data]    | Downloading package cmudict to\n",
      "[nltk_data]    |     /Users/harrywang/nltk_data...\n",
      "[nltk_data]    |   Package cmudict is already up-to-date!\n",
      "[nltk_data]    | Downloading package gazetteers to\n",
      "[nltk_data]    |     /Users/harrywang/nltk_data...\n",
      "[nltk_data]    |   Package gazetteers is already up-to-date!\n",
      "[nltk_data]    | Downloading package genesis to\n",
      "[nltk_data]    |     /Users/harrywang/nltk_data...\n",
      "[nltk_data]    |   Package genesis is already up-to-date!\n",
      "[nltk_data]    | Downloading package gutenberg to\n",
      "[nltk_data]    |     /Users/harrywang/nltk_data...\n",
      "[nltk_data]    |   Package gutenberg is already up-to-date!\n",
      "[nltk_data]    | Downloading package inaugural to\n",
      "[nltk_data]    |     /Users/harrywang/nltk_data...\n",
      "[nltk_data]    |   Package inaugural is already up-to-date!\n",
      "[nltk_data]    | Downloading package movie_reviews to\n",
      "[nltk_data]    |     /Users/harrywang/nltk_data...\n",
      "[nltk_data]    |   Package movie_reviews is already up-to-date!\n",
      "[nltk_data]    | Downloading package names to\n",
      "[nltk_data]    |     /Users/harrywang/nltk_data...\n",
      "[nltk_data]    |   Package names is already up-to-date!\n",
      "[nltk_data]    | Downloading package shakespeare to\n",
      "[nltk_data]    |     /Users/harrywang/nltk_data...\n",
      "[nltk_data]    |   Package shakespeare is already up-to-date!\n",
      "[nltk_data]    | Downloading package stopwords to\n",
      "[nltk_data]    |     /Users/harrywang/nltk_data...\n",
      "[nltk_data]    |   Package stopwords is already up-to-date!\n",
      "[nltk_data]    | Downloading package treebank to\n",
      "[nltk_data]    |     /Users/harrywang/nltk_data...\n",
      "[nltk_data]    |   Package treebank is already up-to-date!\n",
      "[nltk_data]    | Downloading package twitter_samples to\n",
      "[nltk_data]    |     /Users/harrywang/nltk_data...\n",
      "[nltk_data]    |   Package twitter_samples is already up-to-date!\n",
      "[nltk_data]    | Downloading package omw to\n",
      "[nltk_data]    |     /Users/harrywang/nltk_data...\n",
      "[nltk_data]    |   Package omw is already up-to-date!\n",
      "[nltk_data]    | Downloading package wordnet to\n",
      "[nltk_data]    |     /Users/harrywang/nltk_data...\n",
      "[nltk_data]    |   Package wordnet is already up-to-date!\n",
      "[nltk_data]    | Downloading package wordnet_ic to\n",
      "[nltk_data]    |     /Users/harrywang/nltk_data...\n",
      "[nltk_data]    |   Package wordnet_ic is already up-to-date!\n",
      "[nltk_data]    | Downloading package words to\n",
      "[nltk_data]    |     /Users/harrywang/nltk_data...\n",
      "[nltk_data]    |   Package words is already up-to-date!\n",
      "[nltk_data]    | Downloading package maxent_ne_chunker to\n",
      "[nltk_data]    |     /Users/harrywang/nltk_data...\n",
      "[nltk_data]    |   Package maxent_ne_chunker is already up-to-date!\n",
      "[nltk_data]    | Downloading package punkt to\n",
      "[nltk_data]    |     /Users/harrywang/nltk_data...\n",
      "[nltk_data]    |   Package punkt is already up-to-date!\n",
      "[nltk_data]    | Downloading package snowball_data to\n",
      "[nltk_data]    |     /Users/harrywang/nltk_data...\n",
      "[nltk_data]    |   Package snowball_data is already up-to-date!\n",
      "[nltk_data]    | Downloading package averaged_perceptron_tagger to\n",
      "[nltk_data]    |     /Users/harrywang/nltk_data...\n",
      "[nltk_data]    |   Package averaged_perceptron_tagger is already up-\n",
      "[nltk_data]    |       to-date!\n",
      "[nltk_data]    | \n",
      "[nltk_data]  Done downloading collection popular\n"
     ]
    },
    {
     "output_type": "execute_result",
     "data": {
      "text/plain": [
       "True"
      ]
     },
     "metadata": {},
     "execution_count": 9
    }
   ],
   "source": [
    "# only need nltk if custom tokenizer is used\n",
    "import nltk\n",
    "nltk.download('popular')  # download the nltk packages locally"
   ]
  },
  {
   "cell_type": "code",
   "execution_count": 10,
   "metadata": {},
   "outputs": [],
   "source": [
    "# https://tartarus.org/martin/PorterStemmer/def.txt\n",
    "from nltk.stem.porter import PorterStemmer\n",
    "porter_stemmer = PorterStemmer()\n",
    "import re # regular expression\n",
    "\n",
    "\n",
    "def stemming_tokenizer(str_input):\n",
    "    words = re.sub(r\"[^A-Za-z\\-]\", \" \", str_input).lower().split() # delete non letter charactors\n",
    "    #words = re.sub(r\"[^A-Za-z0-9\\-]\", \" \", str_input).lower().split() # include numbers\n",
    "    words = [porter_stemmer.stem(word) for word in words]\n",
    "    return words"
   ]
  },
  {
   "cell_type": "code",
   "execution_count": 11,
   "metadata": {},
   "outputs": [],
   "source": [
    "# train the tf-idf model\n",
    "# max_df: 0.9 - discard the term if the term appears more than 80% of all documents\n",
    "# min_idf: 0.1 - discard the term if the teram appears in less than 20% of all documents \n",
    "# ngram_range: (1,3) - try unigrams, bigrams and trigrams\n",
    "# tokenizer=stemming_tokenizer - use customized tokenizer\n",
    "# use_idf=True, norm='l2' default\n",
    "# using stemming_tokenizer improves precision/recall a lot!\n",
    "\n",
    "from sklearn.feature_extraction.text import TfidfVectorizer\n",
    "from sklearn.metrics.pairwise import cosine_similarity \n",
    "\n",
    "tfidf_vectorizer = TfidfVectorizer(\n",
    "        tokenizer=stemming_tokenizer, \n",
    "        max_df=0.9, \n",
    "        min_df=0.1, \n",
    "        stop_words='english',\n",
    "        use_idf=True, \n",
    "        ngram_range=(1, 3)\n",
    ")\n",
    "\n",
    "\n",
    "tfidf_vect= tfidf_vectorizer.fit(train_docs)"
   ]
  },
  {
   "cell_type": "code",
   "execution_count": 12,
   "metadata": {},
   "outputs": [
    {
     "output_type": "execute_result",
     "data": {
      "text/plain": [
       "130"
      ]
     },
     "metadata": {},
     "execution_count": 12
    }
   ],
   "source": [
    "# number of words/features\n",
    "len(tfidf_vect.get_feature_names())"
   ]
  },
  {
   "cell_type": "code",
   "execution_count": 13,
   "metadata": {},
   "outputs": [
    {
     "output_type": "execute_result",
     "data": {
      "text/plain": [
       "   aerodynam  agreement  air   analysi  angl  appli    applic  approxim  \\\n",
       "0   0.000000        0.0  0.0  0.000000   0.0    0.0  0.000000       0.0   \n",
       "1   0.155785        0.0  0.0  0.066279   0.0    0.0  0.072221       0.0   \n",
       "2   0.000000        0.0  0.0  0.147704   0.0    0.0  0.000000       0.0   \n",
       "\n",
       "   assum  base  ...  type  use      valu  vari  variou  veloc   wa  wall  \\\n",
       "0    0.0   0.0  ...   0.0  0.0  0.000000   0.0     0.0    0.0  0.0   0.0   \n",
       "1    0.0   0.0  ...   0.0  0.0  0.063679   0.0     0.0    0.0  0.0   0.0   \n",
       "2    0.0   0.0  ...   0.0  0.0  0.141909   0.0     0.0    0.0  0.0   0.0   \n",
       "\n",
       "   wave      wing  \n",
       "0   0.0  0.000000  \n",
       "1   0.0  0.000000  \n",
       "2   0.0  0.322923  \n",
       "\n",
       "[3 rows x 130 columns]"
      ],
      "text/html": "<div>\n<style scoped>\n    .dataframe tbody tr th:only-of-type {\n        vertical-align: middle;\n    }\n\n    .dataframe tbody tr th {\n        vertical-align: top;\n    }\n\n    .dataframe thead th {\n        text-align: right;\n    }\n</style>\n<table border=\"1\" class=\"dataframe\">\n  <thead>\n    <tr style=\"text-align: right;\">\n      <th></th>\n      <th>aerodynam</th>\n      <th>agreement</th>\n      <th>air</th>\n      <th>analysi</th>\n      <th>angl</th>\n      <th>appli</th>\n      <th>applic</th>\n      <th>approxim</th>\n      <th>assum</th>\n      <th>base</th>\n      <th>...</th>\n      <th>type</th>\n      <th>use</th>\n      <th>valu</th>\n      <th>vari</th>\n      <th>variou</th>\n      <th>veloc</th>\n      <th>wa</th>\n      <th>wall</th>\n      <th>wave</th>\n      <th>wing</th>\n    </tr>\n  </thead>\n  <tbody>\n    <tr>\n      <th>0</th>\n      <td>0.000000</td>\n      <td>0.0</td>\n      <td>0.0</td>\n      <td>0.000000</td>\n      <td>0.0</td>\n      <td>0.0</td>\n      <td>0.000000</td>\n      <td>0.0</td>\n      <td>0.0</td>\n      <td>0.0</td>\n      <td>...</td>\n      <td>0.0</td>\n      <td>0.0</td>\n      <td>0.000000</td>\n      <td>0.0</td>\n      <td>0.0</td>\n      <td>0.0</td>\n      <td>0.0</td>\n      <td>0.0</td>\n      <td>0.0</td>\n      <td>0.000000</td>\n    </tr>\n    <tr>\n      <th>1</th>\n      <td>0.155785</td>\n      <td>0.0</td>\n      <td>0.0</td>\n      <td>0.066279</td>\n      <td>0.0</td>\n      <td>0.0</td>\n      <td>0.072221</td>\n      <td>0.0</td>\n      <td>0.0</td>\n      <td>0.0</td>\n      <td>...</td>\n      <td>0.0</td>\n      <td>0.0</td>\n      <td>0.063679</td>\n      <td>0.0</td>\n      <td>0.0</td>\n      <td>0.0</td>\n      <td>0.0</td>\n      <td>0.0</td>\n      <td>0.0</td>\n      <td>0.000000</td>\n    </tr>\n    <tr>\n      <th>2</th>\n      <td>0.000000</td>\n      <td>0.0</td>\n      <td>0.0</td>\n      <td>0.147704</td>\n      <td>0.0</td>\n      <td>0.0</td>\n      <td>0.000000</td>\n      <td>0.0</td>\n      <td>0.0</td>\n      <td>0.0</td>\n      <td>...</td>\n      <td>0.0</td>\n      <td>0.0</td>\n      <td>0.141909</td>\n      <td>0.0</td>\n      <td>0.0</td>\n      <td>0.0</td>\n      <td>0.0</td>\n      <td>0.0</td>\n      <td>0.0</td>\n      <td>0.322923</td>\n    </tr>\n  </tbody>\n</table>\n<p>3 rows × 130 columns</p>\n</div>"
     },
     "metadata": {},
     "execution_count": 13
    }
   ],
   "source": [
    "# testing data\n",
    "# first sentence is the query\n",
    "# rest are the documents\n",
    "test_texts = [\n",
    "    \"photo-thermoelastic investigation\",\n",
    "    \"a simple model study of transient temperature and thermal stress distribution due to aerodynamic heating .   the present work is concerned with the determination of transient temperatures and thermal stresses in simple models intended to simulate parts or the whole of an aircraft structure of the built- up variety subjected to aerodynamic heating .   the first case considered is that of convective heat transfer into one side of a flat plate, representing a thick skin, and the effect of the resulting temperature distribution in inducing thermal stresses associated with bending restraint at the plate edges . numerical results are presented for the transient temperature differentials in the plate when the environment temperature first increases linearly with time and then remains constant, the period of linear increase representing the time of acceleration of the aircraft .  corresponding thermal stress information is presented .   the second case is that of the wide-flanged i-beam with convective heat transfer into the outer faces of the flanges .  numerical results are presented for transient temperature differentials for a wide range of values of the applicable parameters and for an environment temperature variation as described above . corresponding thermal stresses in a beam of infinite length are determined .  a theoretical analysis of the stress distribution in a beam of finite length is carried out and numerical results obtained for one case .\",\n",
    "    \"photo-thermoelastic investigation of transient thermal stresses in a multiweb wing structure .   photothermoelastic experiments were performed on a long multiweb wing model for which a theoretical analysis is available in the literature .  the experimental procedures utilized to simulate the conditions prescribed in the theory are fully described .   correlation of theory and experiment in terms of dimensionless temperature, stress, time, and biot number revealed that the theory predicted values higher than the experimentally observed maximum thermal stresses at the center of the web .  \",\n",
    "]\n",
    "\n",
    "test_result = tfidf_vect.transform(test_texts)\n",
    "pd.DataFrame(test_result.toarray(), columns=tfidf_vect.get_feature_names())"
   ]
  },
  {
   "cell_type": "code",
   "execution_count": 14,
   "metadata": {},
   "outputs": [
    {
     "output_type": "execute_result",
     "data": {
      "text/plain": [
       "          0        1         2\n",
       "0  1.000000  0.00000  0.132622\n",
       "1  0.000000  1.00000  0.413150\n",
       "2  0.132622  0.41315  1.000000"
      ],
      "text/html": "<div>\n<style scoped>\n    .dataframe tbody tr th:only-of-type {\n        vertical-align: middle;\n    }\n\n    .dataframe tbody tr th {\n        vertical-align: top;\n    }\n\n    .dataframe thead th {\n        text-align: right;\n    }\n</style>\n<table border=\"1\" class=\"dataframe\">\n  <thead>\n    <tr style=\"text-align: right;\">\n      <th></th>\n      <th>0</th>\n      <th>1</th>\n      <th>2</th>\n    </tr>\n  </thead>\n  <tbody>\n    <tr>\n      <th>0</th>\n      <td>1.000000</td>\n      <td>0.00000</td>\n      <td>0.132622</td>\n    </tr>\n    <tr>\n      <th>1</th>\n      <td>0.000000</td>\n      <td>1.00000</td>\n      <td>0.413150</td>\n    </tr>\n    <tr>\n      <th>2</th>\n      <td>0.132622</td>\n      <td>0.41315</td>\n      <td>1.000000</td>\n    </tr>\n  </tbody>\n</table>\n</div>"
     },
     "metadata": {},
     "execution_count": 14
    }
   ],
   "source": [
    "# cosine similarity for the testing data\n",
    "test_similarity = cosine_similarity(test_result)\n",
    "pd.DataFrame(test_similarity)"
   ]
  },
  {
   "cell_type": "code",
   "execution_count": 15,
   "metadata": {},
   "outputs": [],
   "source": [
    "# given a query and similarity_thershold return the ids of docs\n",
    "# this is the relevant docs that based on our tf-idf algorithm for the query\n",
    "def get_doc_ids_tfidf(query_id, similarity_threshold):\n",
    "    \n",
    "    all_docs = train_docs.copy() # make a copy of all docs list\n",
    "    all_docs.insert(0, queries['query'][query_id]) # inser the current query at the begining of the list\n",
    "    \n",
    "    test_result = tfidf_vect.transform(all_docs) # generate the tfidf matrix\n",
    "    # pd.DataFrame(test_result.toarray(), columns=tfidf_vect.get_feature_names())\n",
    "    df = pd.DataFrame(cosine_similarity(test_result)) # calculate the pair-wise similarity and convert to df\n",
    "    df = df.rename(columns = {0:'similarity'}) # rename the first column \n",
    "    df = df.sort_values('similarity', ascending=False) # sort the result based on similarity score\n",
    "    df_filtered = df[df['similarity']>similarity_threshold] # filter the result based on similarity threshold\n",
    "    returned_doc_ids_list = df_filtered.index.tolist() # get the ids of the returned docs\n",
    "    return returned_doc_ids_list"
   ]
  },
  {
   "cell_type": "code",
   "execution_count": 16,
   "metadata": {},
   "outputs": [],
   "source": [
    "# get the doc ids with relevance score \n",
    "# this is the ground truth of relevance docs for the query based on the human annotated data\n",
    "def get_true_doc_ids(query_id, relevance_threshold):\n",
    "    # filter based on r_score (1, 2, 3, or 4) and relevance_threshold\n",
    "    true_doc_ids = relevance[(relevance['query_id']==query_id) & (relevance['r_score']<=relevance_threshold)]\n",
    "    true_doc_ids_list = true_doc_ids['doc_id'].to_list()\n",
    "    return true_doc_ids_list"
   ]
  },
  {
   "cell_type": "code",
   "execution_count": 17,
   "metadata": {},
   "outputs": [],
   "source": [
    "# calculate evaluation scores: precision and recall\n",
    "\n",
    "def show_eval_scores(returned_doc_ids_list, true_doc_ids_list):\n",
    "    \n",
    "    # true positive \n",
    "    tp = [x for x in true_doc_ids_list if x in returned_doc_ids_list]\n",
    "    #tp.sort()\n",
    "    #print(tp, len(tp))\n",
    "    \n",
    "    # false positive\n",
    "    fp = [x for x in returned_doc_ids_list if x not in tp]\n",
    "    #fp.sort()\n",
    "    #print(fp, len(fp))\n",
    "    \n",
    "    # false negative\n",
    "    fn = [x for x in true_doc_ids_list if x not in tp]\n",
    "    #fn.sort()\n",
    "    #print(fn, len(fn))\n",
    "    \n",
    "    precision = len(tp)/(len(tp)+len(fp))\n",
    "    recall = len(tp)/(len(tp)+len(fn))\n",
    "\n",
    "\n",
    "    print(f'precision is {precision:.3%}')\n",
    "    print(f'recall is {recall:.3%}')\n",
    "    \n",
    "    return precision, recall"
   ]
  },
  {
   "cell_type": "code",
   "execution_count": 18,
   "metadata": {},
   "outputs": [],
   "source": [
    "# utility function to put everything together\n",
    "def show_result_tfidf(query_id, similarity_threshold, relevance_threshold):\n",
    "    \n",
    "    print(f\"query: {queries['query'][query_id]}\")\n",
    "    print('calculating results......')\n",
    "    # we set a similarity threshold and get the ids of those documents\n",
    "    # similarity_threshold 0.65 is used in https://www.aaai.org/Papers/FLAIRS/2003/Flairs03-082.pdf\n",
    "    returned_doc_ids_list = get_doc_ids_tfidf(query_id, similarity_threshold)\n",
    "    \n",
    "    print(f'total # of returned docs: {len(returned_doc_ids_list)}')\n",
    "\n",
    "    # we choose relevance_threshold = 3, relevance 1, 2 and 3 mean relevant for returned documents\n",
    "    # see readme for definitions about r_score\n",
    "    true_doc_ids_list = get_true_doc_ids(query_id, relevance_threshold)\n",
    "    print(f'total # of true docs: {len(true_doc_ids_list)}')\n",
    "\n",
    "    print(f'similarity_threshold is {similarity_threshold} and relevance_threshold is {relevance_threshold}')\n",
    "\n",
    "    show_eval_scores(returned_doc_ids_list, true_doc_ids_list)"
   ]
  },
  {
   "cell_type": "code",
   "execution_count": 19,
   "metadata": {},
   "outputs": [],
   "source": [
    "# given a query and similarity_thershold return the ids of docs\n",
    "# this is the relevant docs that based on our tf-idf algorithm for the query\n",
    "\n",
    "from rank_bm25 import BM25Okapi\n",
    "\n",
    "def get_doc_ids_bm25(query_id, bm25_top_n):\n",
    "    \n",
    "    all_docs = train_docs.copy() # make a copy of all docs list\n",
    "    tokenized_corpus = [ stemming_tokenizer(doc) for doc in all_docs]\n",
    "    bm25 = BM25Okapi(tokenized_corpus)\n",
    "    \n",
    "    query = queries['query'][query_id]\n",
    "    tokenized_query = stemming_tokenizer(query)\n",
    "    \n",
    "    doc_scores = bm25.get_scores(tokenized_query)\n",
    "    df = pd.DataFrame(doc_scores)\n",
    "    df = df.rename(columns = {0:'bm25_score'}) # rename the first column \n",
    "    df = df.sort_values('bm25_score', ascending=False) # sort the result based on similarity score\n",
    "    df_filtered = df[0:bm25_top_n] # filter the result based on similarity threshold\n",
    "    returned_doc_ids_list = df_filtered.index.tolist() # get the ids of the returned docs\n",
    "    return returned_doc_ids_list"
   ]
  },
  {
   "cell_type": "code",
   "execution_count": 20,
   "metadata": {},
   "outputs": [],
   "source": [
    "# utility function to put everything together\n",
    "def show_result_bm25(query_id, bm25_top_n, relevance_threshold):\n",
    "    \n",
    "    print(f\"query: {queries['query'][query_id]}\")\n",
    "    print('calculating results......')\n",
    "    # we set a bm25_top_n and get the ids of those documents\n",
    "    returned_doc_ids_list = get_doc_ids_bm25(query_id, bm25_top_n)\n",
    "    print(f'total # of returned docs: {len(returned_doc_ids_list)}')\n",
    "    \n",
    "    # we choose relevance_threshold = 3, relevance 1, 2 and 3 mean relevant for returned documents\n",
    "    # see readme for definitions about r_score\n",
    "    true_doc_ids_list = get_true_doc_ids(query_id, relevance_threshold)\n",
    "    print(f'total # of true docs: {len(true_doc_ids_list)}')\n",
    "    \n",
    "    print(f'bm25 top_n is {bm25_top_n} and relevance_threshold is {relevance_threshold}')\n",
    "\n",
    "    show_eval_scores(returned_doc_ids_list, true_doc_ids_list)"
   ]
  },
  {
   "cell_type": "code",
   "execution_count": 21,
   "metadata": {},
   "outputs": [
    {
     "output_type": "stream",
     "name": "stdout",
     "text": [
      "query: what similarity laws must be obeyed when constructing aeroelastic models of heated high speed aircraft .\n",
      "calculating results......\n",
      "total # of returned docs: 30\n",
      "total # of true docs: 22\n",
      "similarity_threshold is 0.3 and relevance_threshold is 3\n",
      "precision is 23.333%\n",
      "recall is 31.818%\n",
      "query: what similarity laws must be obeyed when constructing aeroelastic models of heated high speed aircraft .\n",
      "calculating results......\n",
      "total # of returned docs: 30\n",
      "total # of true docs: 22\n",
      "bm25 top_n is 30 and relevance_threshold is 3\n",
      "precision is 6.667%\n",
      "recall is 9.091%\n"
     ]
    }
   ],
   "source": [
    "# query_id = 1, similarity_threshold = 0.3, relevance_threshold = 3\n",
    "show_result_tfidf(1, 0.3, 3)\n",
    "show_result_bm25(1, 30, 3)"
   ]
  },
  {
   "cell_type": "code",
   "execution_count": 22,
   "metadata": {},
   "outputs": [
    {
     "output_type": "stream",
     "name": "stdout",
     "text": [
      "query: what are the structural and aeroelastic problems associated with flight of high speed aircraft .\n",
      "calculating results......\n",
      "total # of returned docs: 36\n",
      "total # of true docs: 21\n",
      "similarity_threshold is 0.3 and relevance_threshold is 3\n",
      "precision is 11.111%\n",
      "recall is 19.048%\n",
      "query: what are the structural and aeroelastic problems associated with flight of high speed aircraft .\n",
      "calculating results......\n",
      "total # of returned docs: 36\n",
      "total # of true docs: 21\n",
      "bm25 top_n is 36 and relevance_threshold is 3\n",
      "precision is 2.778%\n",
      "recall is 4.762%\n"
     ]
    }
   ],
   "source": [
    "# query_id = 2, similarity_threshold = 0.3, relevance_threshold = 3\n",
    "show_result_tfidf(2, 0.3, 3)\n",
    "show_result_bm25(2, 36, 3)"
   ]
  }
 ],
 "metadata": {
  "kernelspec": {
   "name": "python3",
   "display_name": "Python 3.8.5 64-bit ('venv')",
   "metadata": {
    "interpreter": {
     "hash": "bd1d08a0813cca4956b43de2949a39b81fa5e9b49aad6a4479486e0c46b0a494"
    }
   }
  },
  "language_info": {
   "codemirror_mode": {
    "name": "ipython",
    "version": 3
   },
   "file_extension": ".py",
   "mimetype": "text/x-python",
   "name": "python",
   "nbconvert_exporter": "python",
   "pygments_lexer": "ipython3",
   "version": "3.8.5-final"
  }
 },
 "nbformat": 4,
 "nbformat_minor": 4
}