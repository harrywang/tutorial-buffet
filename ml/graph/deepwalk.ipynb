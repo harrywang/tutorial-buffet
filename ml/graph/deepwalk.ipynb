{
 "metadata": {
  "language_info": {
   "codemirror_mode": {
    "name": "ipython",
    "version": 3
   },
   "file_extension": ".py",
   "mimetype": "text/x-python",
   "name": "python",
   "nbconvert_exporter": "python",
   "pygments_lexer": "ipython3",
   "version": "3.8.1"
  },
  "orig_nbformat": 2,
  "kernelspec": {
   "name": "python3",
   "display_name": "Python 3.8.1 64-bit ('venv': venv)"
  },
  "interpreter": {
   "hash": "dfaf7907fc7a130ad9b58185b6c82eed8b855d23de167cceb8e4ff8de6134a4f"
  }
 },
 "nbformat": 4,
 "nbformat_minor": 2,
 "cells": [
  {
   "cell_type": "markdown",
   "source": [
    "Random Walk is a technique to extract sequences from a graph. We can use these sequences to train a skip-gram model to learn node embeddings.\n",
    "\n",
    "To obtain node embeddings, we first need to arrange for sequences of nodes from the graph. \n",
    "\n",
    "How do we get these sequences from a graph? Well, there is a technique for this task called Random Walk.\n",
    "\n",
    "After generating node-sequences, we have to feed them to a skip-gram model to get node embeddings. That entire process is known as DeepWalk.\n",
    "\n",
    "You can get the dataset from https://densitydesign.github.io/strumentalia-seealsology/\n",
    "\n",
    "Steps to download:\n",
    "\n",
    "a) Enter the following links:\n",
    "\n",
    "https://en.wikipedia.org/wiki/Space_research\n",
    "\n",
    "https://en.wikipedia.org/wiki/Space_Race\n",
    "\n",
    "https://en.wikipedia.org/wiki/Space_exploration\n",
    "\n",
    "b) Download the TSV file."
   ],
   "metadata": {}
  },
  {
   "cell_type": "code",
   "execution_count": 1,
   "source": [
    "import networkx as nx\n",
    "import pandas as pd\n",
    "import numpy as np\n",
    "import random\n",
    "from tqdm import tqdm\n",
    "from sklearn.decomposition import PCA\n",
    "\n",
    "import matplotlib.pyplot as plt"
   ],
   "outputs": [],
   "metadata": {}
  },
  {
   "cell_type": "code",
   "execution_count": 2,
   "source": [
    "# Both source and target contain Wikipedia entities. \n",
    "# For any row, the entity, in target, has its hyperlink in the Wikipedia page of the entity in the source column.\n",
    "df = pd.read_csv(\"space_data.tsv\", sep = \"\\t\")\n",
    "df.head()"
   ],
   "outputs": [
    {
     "output_type": "execute_result",
     "data": {
      "text/plain": [
       "              source                                         target  depth\n",
       "0  space exploration  discovery and exploration of the solar system      1\n",
       "1  space exploration               in-space propulsion technologies      1\n",
       "2  space exploration                             robotic spacecraft      1\n",
       "3  space exploration              timeline of planetary exploration      1\n",
       "4  space exploration                      landings on other planets      1"
      ],
      "text/html": [
       "<div>\n",
       "<style scoped>\n",
       "    .dataframe tbody tr th:only-of-type {\n",
       "        vertical-align: middle;\n",
       "    }\n",
       "\n",
       "    .dataframe tbody tr th {\n",
       "        vertical-align: top;\n",
       "    }\n",
       "\n",
       "    .dataframe thead th {\n",
       "        text-align: right;\n",
       "    }\n",
       "</style>\n",
       "<table border=\"1\" class=\"dataframe\">\n",
       "  <thead>\n",
       "    <tr style=\"text-align: right;\">\n",
       "      <th></th>\n",
       "      <th>source</th>\n",
       "      <th>target</th>\n",
       "      <th>depth</th>\n",
       "    </tr>\n",
       "  </thead>\n",
       "  <tbody>\n",
       "    <tr>\n",
       "      <th>0</th>\n",
       "      <td>space exploration</td>\n",
       "      <td>discovery and exploration of the solar system</td>\n",
       "      <td>1</td>\n",
       "    </tr>\n",
       "    <tr>\n",
       "      <th>1</th>\n",
       "      <td>space exploration</td>\n",
       "      <td>in-space propulsion technologies</td>\n",
       "      <td>1</td>\n",
       "    </tr>\n",
       "    <tr>\n",
       "      <th>2</th>\n",
       "      <td>space exploration</td>\n",
       "      <td>robotic spacecraft</td>\n",
       "      <td>1</td>\n",
       "    </tr>\n",
       "    <tr>\n",
       "      <th>3</th>\n",
       "      <td>space exploration</td>\n",
       "      <td>timeline of planetary exploration</td>\n",
       "      <td>1</td>\n",
       "    </tr>\n",
       "    <tr>\n",
       "      <th>4</th>\n",
       "      <td>space exploration</td>\n",
       "      <td>landings on other planets</td>\n",
       "      <td>1</td>\n",
       "    </tr>\n",
       "  </tbody>\n",
       "</table>\n",
       "</div>"
      ]
     },
     "metadata": {},
     "execution_count": 2
    }
   ],
   "metadata": {}
  },
  {
   "cell_type": "code",
   "execution_count": 3,
   "source": [
    "df.info()"
   ],
   "outputs": [
    {
     "output_type": "stream",
     "name": "stdout",
     "text": [
      "<class 'pandas.core.frame.DataFrame'>\n",
      "RangeIndex: 3328 entries, 0 to 3327\n",
      "Data columns (total 3 columns):\n",
      " #   Column  Non-Null Count  Dtype \n",
      "---  ------  --------------  ----- \n",
      " 0   source  3328 non-null   object\n",
      " 1   target  3328 non-null   object\n",
      " 2   depth   3328 non-null   int64 \n",
      "dtypes: int64(1), object(2)\n",
      "memory usage: 78.1+ KB\n"
     ]
    }
   ],
   "metadata": {}
  },
  {
   "cell_type": "code",
   "execution_count": 5,
   "source": [
    "# build the graph from the dataframe\n",
    "G = nx.from_pandas_edgelist(df, \"source\", \"target\", edge_attr=True, create_using=nx.Graph())"
   ],
   "outputs": [],
   "metadata": {}
  },
  {
   "cell_type": "code",
   "execution_count": 6,
   "source": [
    "# number of nodes\n",
    "len(G)"
   ],
   "outputs": [
    {
     "output_type": "execute_result",
     "data": {
      "text/plain": [
       "2088"
      ]
     },
     "metadata": {},
     "execution_count": 6
    }
   ],
   "metadata": {}
  },
  {
   "cell_type": "code",
   "execution_count": 9,
   "source": [
    "# display neighbors of a node - only show the first 4\n",
    "list(G.neighbors('space exploration'))[:4]"
   ],
   "outputs": [
    {
     "output_type": "execute_result",
     "data": {
      "text/plain": [
       "['discovery and exploration of the solar system',\n",
       " 'in-space propulsion technologies',\n",
       " 'robotic spacecraft',\n",
       " 'timeline of planetary exploration']"
      ]
     },
     "metadata": {},
     "execution_count": 9
    }
   ],
   "metadata": {}
  },
  {
   "cell_type": "code",
   "execution_count": 12,
   "source": [
    "# return random walk of a node, which is a node sequence\n",
    "def get_randomwalk(node, path_length):\n",
    "    \n",
    "    random_walk = [node]\n",
    "    \n",
    "    for i in range(path_length-1):\n",
    "        temp = list(G.neighbors(node))  # get all neighbors of the node\n",
    "        temp = list(set(temp) - set(random_walk))  # make sure the starting node won't be selected\n",
    "        if len(temp) == 0:  # it may stop before 10 steps\n",
    "            break\n",
    "\n",
    "        random_node = random.choice(temp)  # random choose one neighbor node\n",
    "        random_walk.append(random_node)  # attach the neighbor node to the walk\n",
    "        node = random_node  # assign the random node as the current node\n",
    "        \n",
    "    return random_walk"
   ],
   "outputs": [],
   "metadata": {}
  },
  {
   "cell_type": "code",
   "execution_count": 13,
   "source": [
    "# every time the result might be different\n",
    "get_randomwalk('space exploration', 10)"
   ],
   "outputs": [
    {
     "output_type": "execute_result",
     "data": {
      "text/plain": [
       "['space exploration',\n",
       " 'exploration of mars',\n",
       " 'timeline of solar system exploration',\n",
       " 'timeline of space travel by nationality',\n",
       " 'timeline of the space race',\n",
       " 'space race',\n",
       " 'comparison of asian national space programs',\n",
       " 'asian century',\n",
       " \"asia's space race\",\n",
       " 'militarization of space']"
      ]
     },
     "metadata": {},
     "execution_count": 13
    }
   ],
   "metadata": {}
  },
  {
   "cell_type": "code",
   "execution_count": 14,
   "source": [
    "# get all nodes \n",
    "list(G.nodes())[1:10]"
   ],
   "outputs": [
    {
     "output_type": "execute_result",
     "data": {
      "text/plain": [
       "['discovery and exploration of the solar system',\n",
       " 'in-space propulsion technologies',\n",
       " 'robotic spacecraft',\n",
       " 'timeline of planetary exploration',\n",
       " 'landings on other planets',\n",
       " 'pioneer program',\n",
       " 'luna program',\n",
       " 'zond program',\n",
       " 'venera program']"
      ]
     },
     "metadata": {},
     "execution_count": 14
    }
   ],
   "metadata": {}
  },
  {
   "cell_type": "code",
   "execution_count": 16,
   "source": [
    "# get all random walks for all nodes/entire graph\n",
    "# for each node we get five random walks\n",
    "all_nodes = list(G.nodes()) # get list of all nodes from the graph\n",
    "\n",
    "random_walks = []\n",
    "for n in tqdm(all_nodes):\n",
    "    for i in range(5):  # get five random walk results for one starting node\n",
    "        random_walks.append(get_randomwalk(n, 10))  # each walk with 10 nodes"
   ],
   "outputs": [
    {
     "output_type": "stream",
     "name": "stderr",
     "text": [
      "100%|██████████| 2088/2088 [00:00<00:00, 7160.86it/s]\n"
     ]
    }
   ],
   "metadata": {}
  },
  {
   "cell_type": "code",
   "execution_count": 18,
   "source": [
    "# count of all random walks for the entire graph\n",
    "# total nodes: 2088, we get 5 random walks from each\n",
    "# total is 2088 x 5 = 10440\n",
    "len(random_walks)"
   ],
   "outputs": [
    {
     "output_type": "execute_result",
     "data": {
      "text/plain": [
       "10440"
      ]
     },
     "metadata": {},
     "execution_count": 18
    }
   ],
   "metadata": {}
  },
  {
   "cell_type": "code",
   "execution_count": 21,
   "source": [
    "# show the first three walks\n",
    "random_walks[1:3]"
   ],
   "outputs": [
    {
     "output_type": "execute_result",
     "data": {
      "text/plain": [
       "[['space exploration',\n",
       "  'space architecture',\n",
       "  'in-situ resource utilization',\n",
       "  'shackleton energy company',\n",
       "  'space colonization',\n",
       "  'exploration of mars',\n",
       "  'timeline of solar system exploration',\n",
       "  'timeline of discovery of solar system planets and their moons',\n",
       "  'solar system'],\n",
       " ['space exploration',\n",
       "  'energy development',\n",
       "  'energy industry liberalization and privatization (thailand)',\n",
       "  'nuclear power in thailand']]"
      ]
     },
     "metadata": {},
     "execution_count": 21
    }
   ],
   "metadata": {}
  },
  {
   "cell_type": "code",
   "execution_count": 22,
   "source": [
    "from gensim.models import Word2Vec\n",
    "\n",
    "import warnings\n",
    "warnings.filterwarnings('ignore')"
   ],
   "outputs": [],
   "metadata": {}
  },
  {
   "cell_type": "code",
   "execution_count": 23,
   "source": [
    "# train skip-gram (word2vec) model\n",
    "model = Word2Vec(window=4, sg=1, hs=0,\n",
    "                 negative=10, # for negative sampling\n",
    "                 alpha=0.03, min_alpha=0.0007,\n",
    "                 seed=14)\n",
    "\n",
    "model.build_vocab(random_walks, progress_per=2)\n",
    "\n",
    "model.train(random_walks, total_examples=model.corpus_count, epochs=20, report_delay=1)"
   ],
   "outputs": [
    {
     "output_type": "execute_result",
     "data": {
      "text/plain": [
       "(976662, 1006660)"
      ]
     },
     "metadata": {},
     "execution_count": 23
    }
   ],
   "metadata": {}
  },
  {
   "cell_type": "code",
   "execution_count": 24,
   "source": [
    "model.similar_by_word('space tourism')"
   ],
   "outputs": [
    {
     "output_type": "execute_result",
     "data": {
      "text/plain": [
       "[('space flight participant', 0.8429018259048462),\n",
       " ('astronaut training', 0.7625536918640137),\n",
       " ('space adventures', 0.7552694082260132),\n",
       " ('micro-g environment', 0.7545735836029053),\n",
       " ('reduced-gravity aircraft', 0.7543785572052002),\n",
       " ('paragliding', 0.7403179407119751),\n",
       " ('rocketship tours', 0.7222610712051392),\n",
       " ('space tourism society', 0.718080461025238),\n",
       " ('ultralight aviation', 0.7142132520675659),\n",
       " ('glider pilot license', 0.7119032740592957)]"
      ]
     },
     "metadata": {},
     "execution_count": 24
    }
   ],
   "metadata": {}
  },
  {
   "cell_type": "code",
   "execution_count": 26,
   "source": [
    "terms = ['lunar escape systems','soviet moonshot', 'soyuz 7k-l1', \n",
    "         'moon landing','space food', 'food systems on space exploration missions', \n",
    "         'meal, ready-to-eat','space law', 'metalaw', 'moon treaty', \n",
    "         'legal aspects of computing','astronaut training', 'reduced-gravity aircraft', \n",
    "         'space adaptation syndrome', 'micro-g environment']"
   ],
   "outputs": [],
   "metadata": {}
  },
  {
   "cell_type": "code",
   "execution_count": 34,
   "source": [
    "# each node returns a (1, 100) embedding\n",
    "model[['space tourism']]\n",
    "#print(model[['space tourism']].shape)"
   ],
   "outputs": [
    {
     "output_type": "execute_result",
     "data": {
      "text/plain": [
       "array([[-0.49097192, -0.33822984,  0.08244473,  0.0481334 , -0.02178863,\n",
       "         0.46268326, -0.22990486, -0.789395  ,  0.13268805, -0.1830654 ,\n",
       "        -0.93857276, -0.701671  , -0.45918247, -0.05825095,  0.251782  ,\n",
       "         0.04404972, -0.0825301 , -0.17479151,  0.83468634,  0.41999403,\n",
       "         0.392125  , -0.22535619,  0.20065038, -0.15025069,  0.19163056,\n",
       "         0.11776656, -0.0992338 , -0.60718477, -0.01014619,  0.40851486,\n",
       "         0.6561566 , -0.10652129,  0.11577462, -0.29919326, -0.15046678,\n",
       "         0.08266804, -0.56534743, -0.2675005 , -0.35523114, -0.01518859,\n",
       "         0.43108776, -0.22538476, -0.06966323, -0.12038989,  0.19176245,\n",
       "        -0.1835013 , -0.21765757, -0.32862172,  0.3648343 ,  0.385255  ,\n",
       "         0.34557903, -0.1681979 , -0.12482258,  0.13391973,  0.6641358 ,\n",
       "        -0.19743147,  0.3692429 , -0.75630224, -0.10723785, -0.2676149 ,\n",
       "         0.04822698, -0.44226718,  0.59065706, -0.1876925 , -0.1285905 ,\n",
       "        -0.5019893 ,  0.08352001,  0.13675877, -0.30364716, -0.07752973,\n",
       "         0.1634296 ,  0.12098955,  0.36489812,  0.285418  ,  0.06324449,\n",
       "         0.13381742, -0.27220392, -0.5039049 ,  0.07155664, -1.0188391 ,\n",
       "        -0.53701407,  0.09964728,  0.12446935,  0.25237924, -0.69979525,\n",
       "        -0.1254601 , -0.16210614, -0.47531456,  0.21504353, -0.39536777,\n",
       "         0.06012189,  0.01819557, -0.3236898 ,  0.17646687,  0.5903099 ,\n",
       "         0.8864507 ,  0.46240255,  0.3517168 , -0.14112075, -0.15353404]],\n",
       "      dtype=float32)"
      ]
     },
     "metadata": {},
     "execution_count": 34
    }
   ],
   "metadata": {}
  },
  {
   "cell_type": "code",
   "execution_count": 41,
   "source": [
    "# each node has 100 features \n",
    "# use PCA to get it down to 2 for plotting\n",
    "print(model[terms].shape)\n",
    "pca = PCA(n_components=2)\n",
    "result = pca.fit_transform(model[terms])\n",
    "print(result.shape)"
   ],
   "outputs": [
    {
     "output_type": "stream",
     "name": "stdout",
     "text": [
      "(15, 100)\n",
      "(15, 2)\n"
     ]
    }
   ],
   "metadata": {}
  },
  {
   "cell_type": "code",
   "execution_count": 42,
   "source": [
    "def plot_nodes(word_list):\n",
    "    X = model[word_list]\n",
    "    \n",
    "    # reduce dimensions to 2\n",
    "    pca = PCA(n_components=2)\n",
    "    result = pca.fit_transform(X)\n",
    "    \n",
    "    \n",
    "    plt.figure(figsize=(12,9))\n",
    "    # create a scatter plot of the projection\n",
    "    plt.scatter(result[:, 0], result[:, 1])\n",
    "    for i, word in enumerate(word_list):\n",
    "        plt.annotate(word, xy=(result[i, 0], result[i, 1]))\n",
    "        \n",
    "    plt.show()"
   ],
   "outputs": [],
   "metadata": {}
  },
  {
   "cell_type": "code",
   "execution_count": 43,
   "source": [
    "plot_nodes(terms)"
   ],
   "outputs": [
    {
     "output_type": "display_data",
     "data": {
      "text/plain": [
       "<Figure size 864x648 with 1 Axes>"
      ],
      "image/svg+xml": "<?xml version=\"1.0\" encoding=\"utf-8\" standalone=\"no\"?>\n<!DOCTYPE svg PUBLIC \"-//W3C//DTD SVG 1.1//EN\"\n  \"http://www.w3.org/Graphics/SVG/1.1/DTD/svg11.dtd\">\n<!-- Created with matplotlib (https://matplotlib.org/) -->\n<svg height=\"520.318125pt\" version=\"1.1\" viewBox=\"0 0 793.746449 520.318125\" width=\"793.746449pt\" xmlns=\"http://www.w3.org/2000/svg\" xmlns:xlink=\"http://www.w3.org/1999/xlink\">\n <metadata>\n  <rdf:RDF xmlns:cc=\"http://creativecommons.org/ns#\" xmlns:dc=\"http://purl.org/dc/elements/1.1/\" xmlns:rdf=\"http://www.w3.org/1999/02/22-rdf-syntax-ns#\">\n   <cc:Work>\n    <dc:type rdf:resource=\"http://purl.org/dc/dcmitype/StillImage\"/>\n    <dc:date>2021-08-19T08:54:47.924230</dc:date>\n    <dc:format>image/svg+xml</dc:format>\n    <dc:creator>\n     <cc:Agent>\n      <dc:title>Matplotlib v3.3.4, https://matplotlib.org/</dc:title>\n     </cc:Agent>\n    </dc:creator>\n   </cc:Work>\n  </rdf:RDF>\n </metadata>\n <defs>\n  <style type=\"text/css\">*{stroke-linecap:butt;stroke-linejoin:round;}</style>\n </defs>\n <g id=\"figure_1\">\n  <g id=\"patch_1\">\n   <path d=\"M 0 520.318125 \nL 793.746449 520.318125 \nL 793.746449 0 \nL 0 0 \nz\n\" style=\"fill:none;\"/>\n  </g>\n  <g id=\"axes_1\">\n   <g id=\"patch_2\">\n    <path d=\"M 38.482813 496.44 \nL 708.082813 496.44 \nL 708.082813 7.2 \nL 38.482813 7.2 \nz\n\" style=\"fill:#ffffff;\"/>\n   </g>\n   <g id=\"PathCollection_1\">\n    <defs>\n     <path d=\"M 0 3 \nC 0.795609 3 1.55874 2.683901 2.12132 2.12132 \nC 2.683901 1.55874 3 0.795609 3 0 \nC 3 -0.795609 2.683901 -1.55874 2.12132 -2.12132 \nC 1.55874 -2.683901 0.795609 -3 0 -3 \nC -0.795609 -3 -1.55874 -2.683901 -2.12132 -2.12132 \nC -2.683901 -1.55874 -3 -0.795609 -3 0 \nC -3 0.795609 -2.683901 1.55874 -2.12132 2.12132 \nC -1.55874 2.683901 -0.795609 3 0 3 \nz\n\" id=\"m7951e4beb3\" style=\"stroke:#1f77b4;\"/>\n    </defs>\n    <g clip-path=\"url(#p0454008acf)\">\n     <use style=\"fill:#1f77b4;stroke:#1f77b4;\" x=\"677.646449\" xlink:href=\"#m7951e4beb3\" y=\"443.046113\"/>\n     <use style=\"fill:#1f77b4;stroke:#1f77b4;\" x=\"620.262492\" xlink:href=\"#m7951e4beb3\" y=\"414.500907\"/>\n     <use style=\"fill:#1f77b4;stroke:#1f77b4;\" x=\"567.902907\" xlink:href=\"#m7951e4beb3\" y=\"404.275877\"/>\n     <use style=\"fill:#1f77b4;stroke:#1f77b4;\" x=\"626.541469\" xlink:href=\"#m7951e4beb3\" y=\"474.201818\"/>\n     <use style=\"fill:#1f77b4;stroke:#1f77b4;\" x=\"88.752634\" xlink:href=\"#m7951e4beb3\" y=\"468.826126\"/>\n     <use style=\"fill:#1f77b4;stroke:#1f77b4;\" x=\"68.919176\" xlink:href=\"#m7951e4beb3\" y=\"448.267979\"/>\n     <use style=\"fill:#1f77b4;stroke:#1f77b4;\" x=\"104.716177\" xlink:href=\"#m7951e4beb3\" y=\"453.813329\"/>\n     <use style=\"fill:#1f77b4;stroke:#1f77b4;\" x=\"383.792488\" xlink:href=\"#m7951e4beb3\" y=\"29.438182\"/>\n     <use style=\"fill:#1f77b4;stroke:#1f77b4;\" x=\"441.044668\" xlink:href=\"#m7951e4beb3\" y=\"65.880216\"/>\n     <use style=\"fill:#1f77b4;stroke:#1f77b4;\" x=\"462.665474\" xlink:href=\"#m7951e4beb3\" y=\"43.186136\"/>\n     <use style=\"fill:#1f77b4;stroke:#1f77b4;\" x=\"396.394504\" xlink:href=\"#m7951e4beb3\" y=\"66.465932\"/>\n     <use style=\"fill:#1f77b4;stroke:#1f77b4;\" x=\"185.088189\" xlink:href=\"#m7951e4beb3\" y=\"201.928656\"/>\n     <use style=\"fill:#1f77b4;stroke:#1f77b4;\" x=\"98.458991\" xlink:href=\"#m7951e4beb3\" y=\"208.687975\"/>\n     <use style=\"fill:#1f77b4;stroke:#1f77b4;\" x=\"116.147367\" xlink:href=\"#m7951e4beb3\" y=\"313.827358\"/>\n     <use style=\"fill:#1f77b4;stroke:#1f77b4;\" x=\"161.239369\" xlink:href=\"#m7951e4beb3\" y=\"231.131819\"/>\n    </g>\n   </g>\n   <g id=\"matplotlib.axis_1\">\n    <g id=\"xtick_1\">\n     <g id=\"line2d_1\">\n      <defs>\n       <path d=\"M 0 0 \nL 0 3.5 \n\" id=\"m0821421c5f\" style=\"stroke:#000000;stroke-width:0.8;\"/>\n      </defs>\n      <g>\n       <use style=\"stroke:#000000;stroke-width:0.8;\" x=\"82.562792\" xlink:href=\"#m0821421c5f\" y=\"496.44\"/>\n      </g>\n     </g>\n     <g id=\"text_1\">\n      <!-- −2 -->\n      <g transform=\"translate(75.191698 511.038437)scale(0.1 -0.1)\">\n       <defs>\n        <path d=\"M 10.59375 35.5 \nL 73.1875 35.5 \nL 73.1875 27.203125 \nL 10.59375 27.203125 \nz\n\" id=\"DejaVuSans-8722\"/>\n        <path d=\"M 19.1875 8.296875 \nL 53.609375 8.296875 \nL 53.609375 0 \nL 7.328125 0 \nL 7.328125 8.296875 \nQ 12.9375 14.109375 22.625 23.890625 \nQ 32.328125 33.6875 34.8125 36.53125 \nQ 39.546875 41.84375 41.421875 45.53125 \nQ 43.3125 49.21875 43.3125 52.78125 \nQ 43.3125 58.59375 39.234375 62.25 \nQ 35.15625 65.921875 28.609375 65.921875 \nQ 23.96875 65.921875 18.8125 64.3125 \nQ 13.671875 62.703125 7.8125 59.421875 \nL 7.8125 69.390625 \nQ 13.765625 71.78125 18.9375 73 \nQ 24.125 74.21875 28.421875 74.21875 \nQ 39.75 74.21875 46.484375 68.546875 \nQ 53.21875 62.890625 53.21875 53.421875 \nQ 53.21875 48.921875 51.53125 44.890625 \nQ 49.859375 40.875 45.40625 35.40625 \nQ 44.1875 33.984375 37.640625 27.21875 \nQ 31.109375 20.453125 19.1875 8.296875 \nz\n\" id=\"DejaVuSans-50\"/>\n       </defs>\n       <use xlink:href=\"#DejaVuSans-8722\"/>\n       <use x=\"83.789062\" xlink:href=\"#DejaVuSans-50\"/>\n      </g>\n     </g>\n    </g>\n    <g id=\"xtick_2\">\n     <g id=\"line2d_2\">\n      <g>\n       <use style=\"stroke:#000000;stroke-width:0.8;\" x=\"207.9338\" xlink:href=\"#m0821421c5f\" y=\"496.44\"/>\n      </g>\n     </g>\n     <g id=\"text_2\">\n      <!-- −1 -->\n      <g transform=\"translate(200.562707 511.038437)scale(0.1 -0.1)\">\n       <defs>\n        <path d=\"M 12.40625 8.296875 \nL 28.515625 8.296875 \nL 28.515625 63.921875 \nL 10.984375 60.40625 \nL 10.984375 69.390625 \nL 28.421875 72.90625 \nL 38.28125 72.90625 \nL 38.28125 8.296875 \nL 54.390625 8.296875 \nL 54.390625 0 \nL 12.40625 0 \nz\n\" id=\"DejaVuSans-49\"/>\n       </defs>\n       <use xlink:href=\"#DejaVuSans-8722\"/>\n       <use x=\"83.789062\" xlink:href=\"#DejaVuSans-49\"/>\n      </g>\n     </g>\n    </g>\n    <g id=\"xtick_3\">\n     <g id=\"line2d_3\">\n      <g>\n       <use style=\"stroke:#000000;stroke-width:0.8;\" x=\"333.304809\" xlink:href=\"#m0821421c5f\" y=\"496.44\"/>\n      </g>\n     </g>\n     <g id=\"text_3\">\n      <!-- 0 -->\n      <g transform=\"translate(330.123559 511.038437)scale(0.1 -0.1)\">\n       <defs>\n        <path d=\"M 31.78125 66.40625 \nQ 24.171875 66.40625 20.328125 58.90625 \nQ 16.5 51.421875 16.5 36.375 \nQ 16.5 21.390625 20.328125 13.890625 \nQ 24.171875 6.390625 31.78125 6.390625 \nQ 39.453125 6.390625 43.28125 13.890625 \nQ 47.125 21.390625 47.125 36.375 \nQ 47.125 51.421875 43.28125 58.90625 \nQ 39.453125 66.40625 31.78125 66.40625 \nz\nM 31.78125 74.21875 \nQ 44.046875 74.21875 50.515625 64.515625 \nQ 56.984375 54.828125 56.984375 36.375 \nQ 56.984375 17.96875 50.515625 8.265625 \nQ 44.046875 -1.421875 31.78125 -1.421875 \nQ 19.53125 -1.421875 13.0625 8.265625 \nQ 6.59375 17.96875 6.59375 36.375 \nQ 6.59375 54.828125 13.0625 64.515625 \nQ 19.53125 74.21875 31.78125 74.21875 \nz\n\" id=\"DejaVuSans-48\"/>\n       </defs>\n       <use xlink:href=\"#DejaVuSans-48\"/>\n      </g>\n     </g>\n    </g>\n    <g id=\"xtick_4\">\n     <g id=\"line2d_4\">\n      <g>\n       <use style=\"stroke:#000000;stroke-width:0.8;\" x=\"458.675818\" xlink:href=\"#m0821421c5f\" y=\"496.44\"/>\n      </g>\n     </g>\n     <g id=\"text_4\">\n      <!-- 1 -->\n      <g transform=\"translate(455.494568 511.038437)scale(0.1 -0.1)\">\n       <use xlink:href=\"#DejaVuSans-49\"/>\n      </g>\n     </g>\n    </g>\n    <g id=\"xtick_5\">\n     <g id=\"line2d_5\">\n      <g>\n       <use style=\"stroke:#000000;stroke-width:0.8;\" x=\"584.046826\" xlink:href=\"#m0821421c5f\" y=\"496.44\"/>\n      </g>\n     </g>\n     <g id=\"text_5\">\n      <!-- 2 -->\n      <g transform=\"translate(580.865576 511.038437)scale(0.1 -0.1)\">\n       <use xlink:href=\"#DejaVuSans-50\"/>\n      </g>\n     </g>\n    </g>\n   </g>\n   <g id=\"matplotlib.axis_2\">\n    <g id=\"ytick_1\">\n     <g id=\"line2d_6\">\n      <defs>\n       <path d=\"M 0 0 \nL -3.5 0 \n\" id=\"m5e8f793e2c\" style=\"stroke:#000000;stroke-width:0.8;\"/>\n      </defs>\n      <g>\n       <use style=\"stroke:#000000;stroke-width:0.8;\" x=\"38.482813\" xlink:href=\"#m5e8f793e2c\" y=\"452.052081\"/>\n      </g>\n     </g>\n     <g id=\"text_6\">\n      <!-- −1.5 -->\n      <g transform=\"translate(7.2 455.8513)scale(0.1 -0.1)\">\n       <defs>\n        <path d=\"M 10.6875 12.40625 \nL 21 12.40625 \nL 21 0 \nL 10.6875 0 \nz\n\" id=\"DejaVuSans-46\"/>\n        <path d=\"M 10.796875 72.90625 \nL 49.515625 72.90625 \nL 49.515625 64.59375 \nL 19.828125 64.59375 \nL 19.828125 46.734375 \nQ 21.96875 47.46875 24.109375 47.828125 \nQ 26.265625 48.1875 28.421875 48.1875 \nQ 40.625 48.1875 47.75 41.5 \nQ 54.890625 34.8125 54.890625 23.390625 \nQ 54.890625 11.625 47.5625 5.09375 \nQ 40.234375 -1.421875 26.90625 -1.421875 \nQ 22.3125 -1.421875 17.546875 -0.640625 \nQ 12.796875 0.140625 7.71875 1.703125 \nL 7.71875 11.625 \nQ 12.109375 9.234375 16.796875 8.0625 \nQ 21.484375 6.890625 26.703125 6.890625 \nQ 35.15625 6.890625 40.078125 11.328125 \nQ 45.015625 15.765625 45.015625 23.390625 \nQ 45.015625 31 40.078125 35.4375 \nQ 35.15625 39.890625 26.703125 39.890625 \nQ 22.75 39.890625 18.8125 39.015625 \nQ 14.890625 38.140625 10.796875 36.28125 \nz\n\" id=\"DejaVuSans-53\"/>\n       </defs>\n       <use xlink:href=\"#DejaVuSans-8722\"/>\n       <use x=\"83.789062\" xlink:href=\"#DejaVuSans-49\"/>\n       <use x=\"147.412109\" xlink:href=\"#DejaVuSans-46\"/>\n       <use x=\"179.199219\" xlink:href=\"#DejaVuSans-53\"/>\n      </g>\n     </g>\n    </g>\n    <g id=\"ytick_2\">\n     <g id=\"line2d_7\">\n      <g>\n       <use style=\"stroke:#000000;stroke-width:0.8;\" x=\"38.482813\" xlink:href=\"#m5e8f793e2c\" y=\"396.200907\"/>\n      </g>\n     </g>\n     <g id=\"text_7\">\n      <!-- −1.0 -->\n      <g transform=\"translate(7.2 400.000126)scale(0.1 -0.1)\">\n       <use xlink:href=\"#DejaVuSans-8722\"/>\n       <use x=\"83.789062\" xlink:href=\"#DejaVuSans-49\"/>\n       <use x=\"147.412109\" xlink:href=\"#DejaVuSans-46\"/>\n       <use x=\"179.199219\" xlink:href=\"#DejaVuSans-48\"/>\n      </g>\n     </g>\n    </g>\n    <g id=\"ytick_3\">\n     <g id=\"line2d_8\">\n      <g>\n       <use style=\"stroke:#000000;stroke-width:0.8;\" x=\"38.482813\" xlink:href=\"#m5e8f793e2c\" y=\"340.349733\"/>\n      </g>\n     </g>\n     <g id=\"text_8\">\n      <!-- −0.5 -->\n      <g transform=\"translate(7.2 344.148951)scale(0.1 -0.1)\">\n       <use xlink:href=\"#DejaVuSans-8722\"/>\n       <use x=\"83.789062\" xlink:href=\"#DejaVuSans-48\"/>\n       <use x=\"147.412109\" xlink:href=\"#DejaVuSans-46\"/>\n       <use x=\"179.199219\" xlink:href=\"#DejaVuSans-53\"/>\n      </g>\n     </g>\n    </g>\n    <g id=\"ytick_4\">\n     <g id=\"line2d_9\">\n      <g>\n       <use style=\"stroke:#000000;stroke-width:0.8;\" x=\"38.482813\" xlink:href=\"#m5e8f793e2c\" y=\"284.498558\"/>\n      </g>\n     </g>\n     <g id=\"text_9\">\n      <!-- 0.0 -->\n      <g transform=\"translate(15.579688 288.297777)scale(0.1 -0.1)\">\n       <use xlink:href=\"#DejaVuSans-48\"/>\n       <use x=\"63.623047\" xlink:href=\"#DejaVuSans-46\"/>\n       <use x=\"95.410156\" xlink:href=\"#DejaVuSans-48\"/>\n      </g>\n     </g>\n    </g>\n    <g id=\"ytick_5\">\n     <g id=\"line2d_10\">\n      <g>\n       <use style=\"stroke:#000000;stroke-width:0.8;\" x=\"38.482813\" xlink:href=\"#m5e8f793e2c\" y=\"228.647384\"/>\n      </g>\n     </g>\n     <g id=\"text_10\">\n      <!-- 0.5 -->\n      <g transform=\"translate(15.579688 232.446603)scale(0.1 -0.1)\">\n       <use xlink:href=\"#DejaVuSans-48\"/>\n       <use x=\"63.623047\" xlink:href=\"#DejaVuSans-46\"/>\n       <use x=\"95.410156\" xlink:href=\"#DejaVuSans-53\"/>\n      </g>\n     </g>\n    </g>\n    <g id=\"ytick_6\">\n     <g id=\"line2d_11\">\n      <g>\n       <use style=\"stroke:#000000;stroke-width:0.8;\" x=\"38.482813\" xlink:href=\"#m5e8f793e2c\" y=\"172.79621\"/>\n      </g>\n     </g>\n     <g id=\"text_11\">\n      <!-- 1.0 -->\n      <g transform=\"translate(15.579688 176.595429)scale(0.1 -0.1)\">\n       <use xlink:href=\"#DejaVuSans-49\"/>\n       <use x=\"63.623047\" xlink:href=\"#DejaVuSans-46\"/>\n       <use x=\"95.410156\" xlink:href=\"#DejaVuSans-48\"/>\n      </g>\n     </g>\n    </g>\n    <g id=\"ytick_7\">\n     <g id=\"line2d_12\">\n      <g>\n       <use style=\"stroke:#000000;stroke-width:0.8;\" x=\"38.482813\" xlink:href=\"#m5e8f793e2c\" y=\"116.945036\"/>\n      </g>\n     </g>\n     <g id=\"text_12\">\n      <!-- 1.5 -->\n      <g transform=\"translate(15.579688 120.744255)scale(0.1 -0.1)\">\n       <use xlink:href=\"#DejaVuSans-49\"/>\n       <use x=\"63.623047\" xlink:href=\"#DejaVuSans-46\"/>\n       <use x=\"95.410156\" xlink:href=\"#DejaVuSans-53\"/>\n      </g>\n     </g>\n    </g>\n    <g id=\"ytick_8\">\n     <g id=\"line2d_13\">\n      <g>\n       <use style=\"stroke:#000000;stroke-width:0.8;\" x=\"38.482813\" xlink:href=\"#m5e8f793e2c\" y=\"61.093862\"/>\n      </g>\n     </g>\n     <g id=\"text_13\">\n      <!-- 2.0 -->\n      <g transform=\"translate(15.579688 64.89308)scale(0.1 -0.1)\">\n       <use xlink:href=\"#DejaVuSans-50\"/>\n       <use x=\"63.623047\" xlink:href=\"#DejaVuSans-46\"/>\n       <use x=\"95.410156\" xlink:href=\"#DejaVuSans-48\"/>\n      </g>\n     </g>\n    </g>\n   </g>\n   <g id=\"patch_3\">\n    <path d=\"M 38.482813 496.44 \nL 38.482813 7.2 \n\" style=\"fill:none;stroke:#000000;stroke-linecap:square;stroke-linejoin:miter;stroke-width:0.8;\"/>\n   </g>\n   <g id=\"patch_4\">\n    <path d=\"M 708.082813 496.44 \nL 708.082813 7.2 \n\" style=\"fill:none;stroke:#000000;stroke-linecap:square;stroke-linejoin:miter;stroke-width:0.8;\"/>\n   </g>\n   <g id=\"patch_5\">\n    <path d=\"M 38.482813 496.44 \nL 708.082813 496.44 \n\" style=\"fill:none;stroke:#000000;stroke-linecap:square;stroke-linejoin:miter;stroke-width:0.8;\"/>\n   </g>\n   <g id=\"patch_6\">\n    <path d=\"M 38.482813 7.2 \nL 708.082813 7.2 \n\" style=\"fill:none;stroke:#000000;stroke-linecap:square;stroke-linejoin:miter;stroke-width:0.8;\"/>\n   </g>\n   <g id=\"text_14\">\n    <!-- lunar escape systems -->\n    <g transform=\"translate(677.646449 443.046113)scale(0.1 -0.1)\">\n     <defs>\n      <path d=\"M 9.421875 75.984375 \nL 18.40625 75.984375 \nL 18.40625 0 \nL 9.421875 0 \nz\n\" id=\"DejaVuSans-108\"/>\n      <path d=\"M 8.5 21.578125 \nL 8.5 54.6875 \nL 17.484375 54.6875 \nL 17.484375 21.921875 \nQ 17.484375 14.15625 20.5 10.265625 \nQ 23.53125 6.390625 29.59375 6.390625 \nQ 36.859375 6.390625 41.078125 11.03125 \nQ 45.3125 15.671875 45.3125 23.6875 \nL 45.3125 54.6875 \nL 54.296875 54.6875 \nL 54.296875 0 \nL 45.3125 0 \nL 45.3125 8.40625 \nQ 42.046875 3.421875 37.71875 1 \nQ 33.40625 -1.421875 27.6875 -1.421875 \nQ 18.265625 -1.421875 13.375 4.4375 \nQ 8.5 10.296875 8.5 21.578125 \nz\nM 31.109375 56 \nz\n\" id=\"DejaVuSans-117\"/>\n      <path d=\"M 54.890625 33.015625 \nL 54.890625 0 \nL 45.90625 0 \nL 45.90625 32.71875 \nQ 45.90625 40.484375 42.875 44.328125 \nQ 39.84375 48.1875 33.796875 48.1875 \nQ 26.515625 48.1875 22.3125 43.546875 \nQ 18.109375 38.921875 18.109375 30.90625 \nL 18.109375 0 \nL 9.078125 0 \nL 9.078125 54.6875 \nL 18.109375 54.6875 \nL 18.109375 46.1875 \nQ 21.34375 51.125 25.703125 53.5625 \nQ 30.078125 56 35.796875 56 \nQ 45.21875 56 50.046875 50.171875 \nQ 54.890625 44.34375 54.890625 33.015625 \nz\n\" id=\"DejaVuSans-110\"/>\n      <path d=\"M 34.28125 27.484375 \nQ 23.390625 27.484375 19.1875 25 \nQ 14.984375 22.515625 14.984375 16.5 \nQ 14.984375 11.71875 18.140625 8.90625 \nQ 21.296875 6.109375 26.703125 6.109375 \nQ 34.1875 6.109375 38.703125 11.40625 \nQ 43.21875 16.703125 43.21875 25.484375 \nL 43.21875 27.484375 \nz\nM 52.203125 31.203125 \nL 52.203125 0 \nL 43.21875 0 \nL 43.21875 8.296875 \nQ 40.140625 3.328125 35.546875 0.953125 \nQ 30.953125 -1.421875 24.3125 -1.421875 \nQ 15.921875 -1.421875 10.953125 3.296875 \nQ 6 8.015625 6 15.921875 \nQ 6 25.140625 12.171875 29.828125 \nQ 18.359375 34.515625 30.609375 34.515625 \nL 43.21875 34.515625 \nL 43.21875 35.40625 \nQ 43.21875 41.609375 39.140625 45 \nQ 35.0625 48.390625 27.6875 48.390625 \nQ 23 48.390625 18.546875 47.265625 \nQ 14.109375 46.140625 10.015625 43.890625 \nL 10.015625 52.203125 \nQ 14.9375 54.109375 19.578125 55.046875 \nQ 24.21875 56 28.609375 56 \nQ 40.484375 56 46.34375 49.84375 \nQ 52.203125 43.703125 52.203125 31.203125 \nz\n\" id=\"DejaVuSans-97\"/>\n      <path d=\"M 41.109375 46.296875 \nQ 39.59375 47.171875 37.8125 47.578125 \nQ 36.03125 48 33.890625 48 \nQ 26.265625 48 22.1875 43.046875 \nQ 18.109375 38.09375 18.109375 28.8125 \nL 18.109375 0 \nL 9.078125 0 \nL 9.078125 54.6875 \nL 18.109375 54.6875 \nL 18.109375 46.1875 \nQ 20.953125 51.171875 25.484375 53.578125 \nQ 30.03125 56 36.53125 56 \nQ 37.453125 56 38.578125 55.875 \nQ 39.703125 55.765625 41.0625 55.515625 \nz\n\" id=\"DejaVuSans-114\"/>\n      <path id=\"DejaVuSans-32\"/>\n      <path d=\"M 56.203125 29.59375 \nL 56.203125 25.203125 \nL 14.890625 25.203125 \nQ 15.484375 15.921875 20.484375 11.0625 \nQ 25.484375 6.203125 34.421875 6.203125 \nQ 39.59375 6.203125 44.453125 7.46875 \nQ 49.3125 8.734375 54.109375 11.28125 \nL 54.109375 2.78125 \nQ 49.265625 0.734375 44.1875 -0.34375 \nQ 39.109375 -1.421875 33.890625 -1.421875 \nQ 20.796875 -1.421875 13.15625 6.1875 \nQ 5.515625 13.8125 5.515625 26.8125 \nQ 5.515625 40.234375 12.765625 48.109375 \nQ 20.015625 56 32.328125 56 \nQ 43.359375 56 49.78125 48.890625 \nQ 56.203125 41.796875 56.203125 29.59375 \nz\nM 47.21875 32.234375 \nQ 47.125 39.59375 43.09375 43.984375 \nQ 39.0625 48.390625 32.421875 48.390625 \nQ 24.90625 48.390625 20.390625 44.140625 \nQ 15.875 39.890625 15.1875 32.171875 \nz\n\" id=\"DejaVuSans-101\"/>\n      <path d=\"M 44.28125 53.078125 \nL 44.28125 44.578125 \nQ 40.484375 46.53125 36.375 47.5 \nQ 32.28125 48.484375 27.875 48.484375 \nQ 21.1875 48.484375 17.84375 46.4375 \nQ 14.5 44.390625 14.5 40.28125 \nQ 14.5 37.15625 16.890625 35.375 \nQ 19.28125 33.59375 26.515625 31.984375 \nL 29.59375 31.296875 \nQ 39.15625 29.25 43.1875 25.515625 \nQ 47.21875 21.78125 47.21875 15.09375 \nQ 47.21875 7.46875 41.1875 3.015625 \nQ 35.15625 -1.421875 24.609375 -1.421875 \nQ 20.21875 -1.421875 15.453125 -0.5625 \nQ 10.6875 0.296875 5.421875 2 \nL 5.421875 11.28125 \nQ 10.40625 8.6875 15.234375 7.390625 \nQ 20.0625 6.109375 24.8125 6.109375 \nQ 31.15625 6.109375 34.5625 8.28125 \nQ 37.984375 10.453125 37.984375 14.40625 \nQ 37.984375 18.0625 35.515625 20.015625 \nQ 33.0625 21.96875 24.703125 23.78125 \nL 21.578125 24.515625 \nQ 13.234375 26.265625 9.515625 29.90625 \nQ 5.8125 33.546875 5.8125 39.890625 \nQ 5.8125 47.609375 11.28125 51.796875 \nQ 16.75 56 26.8125 56 \nQ 31.78125 56 36.171875 55.265625 \nQ 40.578125 54.546875 44.28125 53.078125 \nz\n\" id=\"DejaVuSans-115\"/>\n      <path d=\"M 48.78125 52.59375 \nL 48.78125 44.1875 \nQ 44.96875 46.296875 41.140625 47.34375 \nQ 37.3125 48.390625 33.40625 48.390625 \nQ 24.65625 48.390625 19.8125 42.84375 \nQ 14.984375 37.3125 14.984375 27.296875 \nQ 14.984375 17.28125 19.8125 11.734375 \nQ 24.65625 6.203125 33.40625 6.203125 \nQ 37.3125 6.203125 41.140625 7.25 \nQ 44.96875 8.296875 48.78125 10.40625 \nL 48.78125 2.09375 \nQ 45.015625 0.34375 40.984375 -0.53125 \nQ 36.96875 -1.421875 32.421875 -1.421875 \nQ 20.0625 -1.421875 12.78125 6.34375 \nQ 5.515625 14.109375 5.515625 27.296875 \nQ 5.515625 40.671875 12.859375 48.328125 \nQ 20.21875 56 33.015625 56 \nQ 37.15625 56 41.109375 55.140625 \nQ 45.0625 54.296875 48.78125 52.59375 \nz\n\" id=\"DejaVuSans-99\"/>\n      <path d=\"M 18.109375 8.203125 \nL 18.109375 -20.796875 \nL 9.078125 -20.796875 \nL 9.078125 54.6875 \nL 18.109375 54.6875 \nL 18.109375 46.390625 \nQ 20.953125 51.265625 25.265625 53.625 \nQ 29.59375 56 35.59375 56 \nQ 45.5625 56 51.78125 48.09375 \nQ 58.015625 40.1875 58.015625 27.296875 \nQ 58.015625 14.40625 51.78125 6.484375 \nQ 45.5625 -1.421875 35.59375 -1.421875 \nQ 29.59375 -1.421875 25.265625 0.953125 \nQ 20.953125 3.328125 18.109375 8.203125 \nz\nM 48.6875 27.296875 \nQ 48.6875 37.203125 44.609375 42.84375 \nQ 40.53125 48.484375 33.40625 48.484375 \nQ 26.265625 48.484375 22.1875 42.84375 \nQ 18.109375 37.203125 18.109375 27.296875 \nQ 18.109375 17.390625 22.1875 11.75 \nQ 26.265625 6.109375 33.40625 6.109375 \nQ 40.53125 6.109375 44.609375 11.75 \nQ 48.6875 17.390625 48.6875 27.296875 \nz\n\" id=\"DejaVuSans-112\"/>\n      <path d=\"M 32.171875 -5.078125 \nQ 28.375 -14.84375 24.75 -17.8125 \nQ 21.140625 -20.796875 15.09375 -20.796875 \nL 7.90625 -20.796875 \nL 7.90625 -13.28125 \nL 13.1875 -13.28125 \nQ 16.890625 -13.28125 18.9375 -11.515625 \nQ 21 -9.765625 23.484375 -3.21875 \nL 25.09375 0.875 \nL 2.984375 54.6875 \nL 12.5 54.6875 \nL 29.59375 11.921875 \nL 46.6875 54.6875 \nL 56.203125 54.6875 \nz\n\" id=\"DejaVuSans-121\"/>\n      <path d=\"M 18.3125 70.21875 \nL 18.3125 54.6875 \nL 36.8125 54.6875 \nL 36.8125 47.703125 \nL 18.3125 47.703125 \nL 18.3125 18.015625 \nQ 18.3125 11.328125 20.140625 9.421875 \nQ 21.96875 7.515625 27.59375 7.515625 \nL 36.8125 7.515625 \nL 36.8125 0 \nL 27.59375 0 \nQ 17.1875 0 13.234375 3.875 \nQ 9.28125 7.765625 9.28125 18.015625 \nL 9.28125 47.703125 \nL 2.6875 47.703125 \nL 2.6875 54.6875 \nL 9.28125 54.6875 \nL 9.28125 70.21875 \nz\n\" id=\"DejaVuSans-116\"/>\n      <path d=\"M 52 44.1875 \nQ 55.375 50.25 60.0625 53.125 \nQ 64.75 56 71.09375 56 \nQ 79.640625 56 84.28125 50.015625 \nQ 88.921875 44.046875 88.921875 33.015625 \nL 88.921875 0 \nL 79.890625 0 \nL 79.890625 32.71875 \nQ 79.890625 40.578125 77.09375 44.375 \nQ 74.3125 48.1875 68.609375 48.1875 \nQ 61.625 48.1875 57.5625 43.546875 \nQ 53.515625 38.921875 53.515625 30.90625 \nL 53.515625 0 \nL 44.484375 0 \nL 44.484375 32.71875 \nQ 44.484375 40.625 41.703125 44.40625 \nQ 38.921875 48.1875 33.109375 48.1875 \nQ 26.21875 48.1875 22.15625 43.53125 \nQ 18.109375 38.875 18.109375 30.90625 \nL 18.109375 0 \nL 9.078125 0 \nL 9.078125 54.6875 \nL 18.109375 54.6875 \nL 18.109375 46.1875 \nQ 21.1875 51.21875 25.484375 53.609375 \nQ 29.78125 56 35.6875 56 \nQ 41.65625 56 45.828125 52.96875 \nQ 50 49.953125 52 44.1875 \nz\n\" id=\"DejaVuSans-109\"/>\n     </defs>\n     <use xlink:href=\"#DejaVuSans-108\"/>\n     <use x=\"27.783203\" xlink:href=\"#DejaVuSans-117\"/>\n     <use x=\"91.162109\" xlink:href=\"#DejaVuSans-110\"/>\n     <use x=\"154.541016\" xlink:href=\"#DejaVuSans-97\"/>\n     <use x=\"215.820312\" xlink:href=\"#DejaVuSans-114\"/>\n     <use x=\"256.933594\" xlink:href=\"#DejaVuSans-32\"/>\n     <use x=\"288.720703\" xlink:href=\"#DejaVuSans-101\"/>\n     <use x=\"350.244141\" xlink:href=\"#DejaVuSans-115\"/>\n     <use x=\"402.34375\" xlink:href=\"#DejaVuSans-99\"/>\n     <use x=\"457.324219\" xlink:href=\"#DejaVuSans-97\"/>\n     <use x=\"518.603516\" xlink:href=\"#DejaVuSans-112\"/>\n     <use x=\"582.080078\" xlink:href=\"#DejaVuSans-101\"/>\n     <use x=\"643.603516\" xlink:href=\"#DejaVuSans-32\"/>\n     <use x=\"675.390625\" xlink:href=\"#DejaVuSans-115\"/>\n     <use x=\"727.490234\" xlink:href=\"#DejaVuSans-121\"/>\n     <use x=\"786.669922\" xlink:href=\"#DejaVuSans-115\"/>\n     <use x=\"838.769531\" xlink:href=\"#DejaVuSans-116\"/>\n     <use x=\"877.978516\" xlink:href=\"#DejaVuSans-101\"/>\n     <use x=\"939.501953\" xlink:href=\"#DejaVuSans-109\"/>\n     <use x=\"1036.914062\" xlink:href=\"#DejaVuSans-115\"/>\n    </g>\n   </g>\n   <g id=\"text_15\">\n    <!-- soviet moonshot -->\n    <g transform=\"translate(620.262492 414.500907)scale(0.1 -0.1)\">\n     <defs>\n      <path d=\"M 30.609375 48.390625 \nQ 23.390625 48.390625 19.1875 42.75 \nQ 14.984375 37.109375 14.984375 27.296875 \nQ 14.984375 17.484375 19.15625 11.84375 \nQ 23.34375 6.203125 30.609375 6.203125 \nQ 37.796875 6.203125 41.984375 11.859375 \nQ 46.1875 17.53125 46.1875 27.296875 \nQ 46.1875 37.015625 41.984375 42.703125 \nQ 37.796875 48.390625 30.609375 48.390625 \nz\nM 30.609375 56 \nQ 42.328125 56 49.015625 48.375 \nQ 55.71875 40.765625 55.71875 27.296875 \nQ 55.71875 13.875 49.015625 6.21875 \nQ 42.328125 -1.421875 30.609375 -1.421875 \nQ 18.84375 -1.421875 12.171875 6.21875 \nQ 5.515625 13.875 5.515625 27.296875 \nQ 5.515625 40.765625 12.171875 48.375 \nQ 18.84375 56 30.609375 56 \nz\n\" id=\"DejaVuSans-111\"/>\n      <path d=\"M 2.984375 54.6875 \nL 12.5 54.6875 \nL 29.59375 8.796875 \nL 46.6875 54.6875 \nL 56.203125 54.6875 \nL 35.6875 0 \nL 23.484375 0 \nz\n\" id=\"DejaVuSans-118\"/>\n      <path d=\"M 9.421875 54.6875 \nL 18.40625 54.6875 \nL 18.40625 0 \nL 9.421875 0 \nz\nM 9.421875 75.984375 \nL 18.40625 75.984375 \nL 18.40625 64.59375 \nL 9.421875 64.59375 \nz\n\" id=\"DejaVuSans-105\"/>\n      <path d=\"M 54.890625 33.015625 \nL 54.890625 0 \nL 45.90625 0 \nL 45.90625 32.71875 \nQ 45.90625 40.484375 42.875 44.328125 \nQ 39.84375 48.1875 33.796875 48.1875 \nQ 26.515625 48.1875 22.3125 43.546875 \nQ 18.109375 38.921875 18.109375 30.90625 \nL 18.109375 0 \nL 9.078125 0 \nL 9.078125 75.984375 \nL 18.109375 75.984375 \nL 18.109375 46.1875 \nQ 21.34375 51.125 25.703125 53.5625 \nQ 30.078125 56 35.796875 56 \nQ 45.21875 56 50.046875 50.171875 \nQ 54.890625 44.34375 54.890625 33.015625 \nz\n\" id=\"DejaVuSans-104\"/>\n     </defs>\n     <use xlink:href=\"#DejaVuSans-115\"/>\n     <use x=\"52.099609\" xlink:href=\"#DejaVuSans-111\"/>\n     <use x=\"113.28125\" xlink:href=\"#DejaVuSans-118\"/>\n     <use x=\"172.460938\" xlink:href=\"#DejaVuSans-105\"/>\n     <use x=\"200.244141\" xlink:href=\"#DejaVuSans-101\"/>\n     <use x=\"261.767578\" xlink:href=\"#DejaVuSans-116\"/>\n     <use x=\"300.976562\" xlink:href=\"#DejaVuSans-32\"/>\n     <use x=\"332.763672\" xlink:href=\"#DejaVuSans-109\"/>\n     <use x=\"430.175781\" xlink:href=\"#DejaVuSans-111\"/>\n     <use x=\"491.357422\" xlink:href=\"#DejaVuSans-111\"/>\n     <use x=\"552.539062\" xlink:href=\"#DejaVuSans-110\"/>\n     <use x=\"615.917969\" xlink:href=\"#DejaVuSans-115\"/>\n     <use x=\"668.017578\" xlink:href=\"#DejaVuSans-104\"/>\n     <use x=\"731.396484\" xlink:href=\"#DejaVuSans-111\"/>\n     <use x=\"792.578125\" xlink:href=\"#DejaVuSans-116\"/>\n    </g>\n   </g>\n   <g id=\"text_16\">\n    <!-- soyuz 7k-l1 -->\n    <g transform=\"translate(567.902907 404.275877)scale(0.1 -0.1)\">\n     <defs>\n      <path d=\"M 5.515625 54.6875 \nL 48.1875 54.6875 \nL 48.1875 46.484375 \nL 14.40625 7.171875 \nL 48.1875 7.171875 \nL 48.1875 0 \nL 4.296875 0 \nL 4.296875 8.203125 \nL 38.09375 47.515625 \nL 5.515625 47.515625 \nz\n\" id=\"DejaVuSans-122\"/>\n      <path d=\"M 8.203125 72.90625 \nL 55.078125 72.90625 \nL 55.078125 68.703125 \nL 28.609375 0 \nL 18.3125 0 \nL 43.21875 64.59375 \nL 8.203125 64.59375 \nz\n\" id=\"DejaVuSans-55\"/>\n      <path d=\"M 9.078125 75.984375 \nL 18.109375 75.984375 \nL 18.109375 31.109375 \nL 44.921875 54.6875 \nL 56.390625 54.6875 \nL 27.390625 29.109375 \nL 57.625 0 \nL 45.90625 0 \nL 18.109375 26.703125 \nL 18.109375 0 \nL 9.078125 0 \nz\n\" id=\"DejaVuSans-107\"/>\n      <path d=\"M 4.890625 31.390625 \nL 31.203125 31.390625 \nL 31.203125 23.390625 \nL 4.890625 23.390625 \nz\n\" id=\"DejaVuSans-45\"/>\n     </defs>\n     <use xlink:href=\"#DejaVuSans-115\"/>\n     <use x=\"52.099609\" xlink:href=\"#DejaVuSans-111\"/>\n     <use x=\"113.28125\" xlink:href=\"#DejaVuSans-121\"/>\n     <use x=\"172.460938\" xlink:href=\"#DejaVuSans-117\"/>\n     <use x=\"235.839844\" xlink:href=\"#DejaVuSans-122\"/>\n     <use x=\"288.330078\" xlink:href=\"#DejaVuSans-32\"/>\n     <use x=\"320.117188\" xlink:href=\"#DejaVuSans-55\"/>\n     <use x=\"383.740234\" xlink:href=\"#DejaVuSans-107\"/>\n     <use x=\"441.650391\" xlink:href=\"#DejaVuSans-45\"/>\n     <use x=\"477.734375\" xlink:href=\"#DejaVuSans-108\"/>\n     <use x=\"505.517578\" xlink:href=\"#DejaVuSans-49\"/>\n    </g>\n   </g>\n   <g id=\"text_17\">\n    <!-- moon landing -->\n    <g transform=\"translate(626.541469 474.201818)scale(0.1 -0.1)\">\n     <defs>\n      <path d=\"M 45.40625 46.390625 \nL 45.40625 75.984375 \nL 54.390625 75.984375 \nL 54.390625 0 \nL 45.40625 0 \nL 45.40625 8.203125 \nQ 42.578125 3.328125 38.25 0.953125 \nQ 33.9375 -1.421875 27.875 -1.421875 \nQ 17.96875 -1.421875 11.734375 6.484375 \nQ 5.515625 14.40625 5.515625 27.296875 \nQ 5.515625 40.1875 11.734375 48.09375 \nQ 17.96875 56 27.875 56 \nQ 33.9375 56 38.25 53.625 \nQ 42.578125 51.265625 45.40625 46.390625 \nz\nM 14.796875 27.296875 \nQ 14.796875 17.390625 18.875 11.75 \nQ 22.953125 6.109375 30.078125 6.109375 \nQ 37.203125 6.109375 41.296875 11.75 \nQ 45.40625 17.390625 45.40625 27.296875 \nQ 45.40625 37.203125 41.296875 42.84375 \nQ 37.203125 48.484375 30.078125 48.484375 \nQ 22.953125 48.484375 18.875 42.84375 \nQ 14.796875 37.203125 14.796875 27.296875 \nz\n\" id=\"DejaVuSans-100\"/>\n      <path d=\"M 45.40625 27.984375 \nQ 45.40625 37.75 41.375 43.109375 \nQ 37.359375 48.484375 30.078125 48.484375 \nQ 22.859375 48.484375 18.828125 43.109375 \nQ 14.796875 37.75 14.796875 27.984375 \nQ 14.796875 18.265625 18.828125 12.890625 \nQ 22.859375 7.515625 30.078125 7.515625 \nQ 37.359375 7.515625 41.375 12.890625 \nQ 45.40625 18.265625 45.40625 27.984375 \nz\nM 54.390625 6.78125 \nQ 54.390625 -7.171875 48.1875 -13.984375 \nQ 42 -20.796875 29.203125 -20.796875 \nQ 24.46875 -20.796875 20.265625 -20.09375 \nQ 16.0625 -19.390625 12.109375 -17.921875 \nL 12.109375 -9.1875 \nQ 16.0625 -11.328125 19.921875 -12.34375 \nQ 23.78125 -13.375 27.78125 -13.375 \nQ 36.625 -13.375 41.015625 -8.765625 \nQ 45.40625 -4.15625 45.40625 5.171875 \nL 45.40625 9.625 \nQ 42.625 4.78125 38.28125 2.390625 \nQ 33.9375 0 27.875 0 \nQ 17.828125 0 11.671875 7.65625 \nQ 5.515625 15.328125 5.515625 27.984375 \nQ 5.515625 40.671875 11.671875 48.328125 \nQ 17.828125 56 27.875 56 \nQ 33.9375 56 38.28125 53.609375 \nQ 42.625 51.21875 45.40625 46.390625 \nL 45.40625 54.6875 \nL 54.390625 54.6875 \nz\n\" id=\"DejaVuSans-103\"/>\n     </defs>\n     <use xlink:href=\"#DejaVuSans-109\"/>\n     <use x=\"97.412109\" xlink:href=\"#DejaVuSans-111\"/>\n     <use x=\"158.59375\" xlink:href=\"#DejaVuSans-111\"/>\n     <use x=\"219.775391\" xlink:href=\"#DejaVuSans-110\"/>\n     <use x=\"283.154297\" xlink:href=\"#DejaVuSans-32\"/>\n     <use x=\"314.941406\" xlink:href=\"#DejaVuSans-108\"/>\n     <use x=\"342.724609\" xlink:href=\"#DejaVuSans-97\"/>\n     <use x=\"404.003906\" xlink:href=\"#DejaVuSans-110\"/>\n     <use x=\"467.382812\" xlink:href=\"#DejaVuSans-100\"/>\n     <use x=\"530.859375\" xlink:href=\"#DejaVuSans-105\"/>\n     <use x=\"558.642578\" xlink:href=\"#DejaVuSans-110\"/>\n     <use x=\"622.021484\" xlink:href=\"#DejaVuSans-103\"/>\n    </g>\n   </g>\n   <g id=\"text_18\">\n    <!-- space food -->\n    <g transform=\"translate(88.752634 468.826126)scale(0.1 -0.1)\">\n     <defs>\n      <path d=\"M 37.109375 75.984375 \nL 37.109375 68.5 \nL 28.515625 68.5 \nQ 23.6875 68.5 21.796875 66.546875 \nQ 19.921875 64.59375 19.921875 59.515625 \nL 19.921875 54.6875 \nL 34.71875 54.6875 \nL 34.71875 47.703125 \nL 19.921875 47.703125 \nL 19.921875 0 \nL 10.890625 0 \nL 10.890625 47.703125 \nL 2.296875 47.703125 \nL 2.296875 54.6875 \nL 10.890625 54.6875 \nL 10.890625 58.5 \nQ 10.890625 67.625 15.140625 71.796875 \nQ 19.390625 75.984375 28.609375 75.984375 \nz\n\" id=\"DejaVuSans-102\"/>\n     </defs>\n     <use xlink:href=\"#DejaVuSans-115\"/>\n     <use x=\"52.099609\" xlink:href=\"#DejaVuSans-112\"/>\n     <use x=\"115.576172\" xlink:href=\"#DejaVuSans-97\"/>\n     <use x=\"176.855469\" xlink:href=\"#DejaVuSans-99\"/>\n     <use x=\"231.835938\" xlink:href=\"#DejaVuSans-101\"/>\n     <use x=\"293.359375\" xlink:href=\"#DejaVuSans-32\"/>\n     <use x=\"325.146484\" xlink:href=\"#DejaVuSans-102\"/>\n     <use x=\"360.351562\" xlink:href=\"#DejaVuSans-111\"/>\n     <use x=\"421.533203\" xlink:href=\"#DejaVuSans-111\"/>\n     <use x=\"482.714844\" xlink:href=\"#DejaVuSans-100\"/>\n    </g>\n   </g>\n   <g id=\"text_19\">\n    <!-- food systems on space exploration missions -->\n    <g transform=\"translate(68.919176 448.267979)scale(0.1 -0.1)\">\n     <defs>\n      <path d=\"M 54.890625 54.6875 \nL 35.109375 28.078125 \nL 55.90625 0 \nL 45.3125 0 \nL 29.390625 21.484375 \nL 13.484375 0 \nL 2.875 0 \nL 24.125 28.609375 \nL 4.6875 54.6875 \nL 15.28125 54.6875 \nL 29.78125 35.203125 \nL 44.28125 54.6875 \nz\n\" id=\"DejaVuSans-120\"/>\n     </defs>\n     <use xlink:href=\"#DejaVuSans-102\"/>\n     <use x=\"35.205078\" xlink:href=\"#DejaVuSans-111\"/>\n     <use x=\"96.386719\" xlink:href=\"#DejaVuSans-111\"/>\n     <use x=\"157.568359\" xlink:href=\"#DejaVuSans-100\"/>\n     <use x=\"221.044922\" xlink:href=\"#DejaVuSans-32\"/>\n     <use x=\"252.832031\" xlink:href=\"#DejaVuSans-115\"/>\n     <use x=\"304.931641\" xlink:href=\"#DejaVuSans-121\"/>\n     <use x=\"364.111328\" xlink:href=\"#DejaVuSans-115\"/>\n     <use x=\"416.210938\" xlink:href=\"#DejaVuSans-116\"/>\n     <use x=\"455.419922\" xlink:href=\"#DejaVuSans-101\"/>\n     <use x=\"516.943359\" xlink:href=\"#DejaVuSans-109\"/>\n     <use x=\"614.355469\" xlink:href=\"#DejaVuSans-115\"/>\n     <use x=\"666.455078\" xlink:href=\"#DejaVuSans-32\"/>\n     <use x=\"698.242188\" xlink:href=\"#DejaVuSans-111\"/>\n     <use x=\"759.423828\" xlink:href=\"#DejaVuSans-110\"/>\n     <use x=\"822.802734\" xlink:href=\"#DejaVuSans-32\"/>\n     <use x=\"854.589844\" xlink:href=\"#DejaVuSans-115\"/>\n     <use x=\"906.689453\" xlink:href=\"#DejaVuSans-112\"/>\n     <use x=\"970.166016\" xlink:href=\"#DejaVuSans-97\"/>\n     <use x=\"1031.445312\" xlink:href=\"#DejaVuSans-99\"/>\n     <use x=\"1086.425781\" xlink:href=\"#DejaVuSans-101\"/>\n     <use x=\"1147.949219\" xlink:href=\"#DejaVuSans-32\"/>\n     <use x=\"1179.736328\" xlink:href=\"#DejaVuSans-101\"/>\n     <use x=\"1239.509766\" xlink:href=\"#DejaVuSans-120\"/>\n     <use x=\"1298.689453\" xlink:href=\"#DejaVuSans-112\"/>\n     <use x=\"1362.166016\" xlink:href=\"#DejaVuSans-108\"/>\n     <use x=\"1389.949219\" xlink:href=\"#DejaVuSans-111\"/>\n     <use x=\"1451.130859\" xlink:href=\"#DejaVuSans-114\"/>\n     <use x=\"1492.244141\" xlink:href=\"#DejaVuSans-97\"/>\n     <use x=\"1553.523438\" xlink:href=\"#DejaVuSans-116\"/>\n     <use x=\"1592.732422\" xlink:href=\"#DejaVuSans-105\"/>\n     <use x=\"1620.515625\" xlink:href=\"#DejaVuSans-111\"/>\n     <use x=\"1681.697266\" xlink:href=\"#DejaVuSans-110\"/>\n     <use x=\"1745.076172\" xlink:href=\"#DejaVuSans-32\"/>\n     <use x=\"1776.863281\" xlink:href=\"#DejaVuSans-109\"/>\n     <use x=\"1874.275391\" xlink:href=\"#DejaVuSans-105\"/>\n     <use x=\"1902.058594\" xlink:href=\"#DejaVuSans-115\"/>\n     <use x=\"1954.158203\" xlink:href=\"#DejaVuSans-115\"/>\n     <use x=\"2006.257812\" xlink:href=\"#DejaVuSans-105\"/>\n     <use x=\"2034.041016\" xlink:href=\"#DejaVuSans-111\"/>\n     <use x=\"2095.222656\" xlink:href=\"#DejaVuSans-110\"/>\n     <use x=\"2158.601562\" xlink:href=\"#DejaVuSans-115\"/>\n    </g>\n   </g>\n   <g id=\"text_20\">\n    <!-- meal, ready-to-eat -->\n    <g transform=\"translate(104.716177 453.813329)scale(0.1 -0.1)\">\n     <defs>\n      <path d=\"M 11.71875 12.40625 \nL 22.015625 12.40625 \nL 22.015625 4 \nL 14.015625 -11.625 \nL 7.71875 -11.625 \nL 11.71875 4 \nz\n\" id=\"DejaVuSans-44\"/>\n     </defs>\n     <use xlink:href=\"#DejaVuSans-109\"/>\n     <use x=\"97.412109\" xlink:href=\"#DejaVuSans-101\"/>\n     <use x=\"158.935547\" xlink:href=\"#DejaVuSans-97\"/>\n     <use x=\"220.214844\" xlink:href=\"#DejaVuSans-108\"/>\n     <use x=\"247.998047\" xlink:href=\"#DejaVuSans-44\"/>\n     <use x=\"279.785156\" xlink:href=\"#DejaVuSans-32\"/>\n     <use x=\"311.572266\" xlink:href=\"#DejaVuSans-114\"/>\n     <use x=\"350.435547\" xlink:href=\"#DejaVuSans-101\"/>\n     <use x=\"411.958984\" xlink:href=\"#DejaVuSans-97\"/>\n     <use x=\"473.238281\" xlink:href=\"#DejaVuSans-100\"/>\n     <use x=\"536.714844\" xlink:href=\"#DejaVuSans-121\"/>\n     <use x=\"594.144531\" xlink:href=\"#DejaVuSans-45\"/>\n     <use x=\"630.228516\" xlink:href=\"#DejaVuSans-116\"/>\n     <use x=\"669.4375\" xlink:href=\"#DejaVuSans-111\"/>\n     <use x=\"732.494141\" xlink:href=\"#DejaVuSans-45\"/>\n     <use x=\"768.578125\" xlink:href=\"#DejaVuSans-101\"/>\n     <use x=\"830.101562\" xlink:href=\"#DejaVuSans-97\"/>\n     <use x=\"891.380859\" xlink:href=\"#DejaVuSans-116\"/>\n    </g>\n   </g>\n   <g id=\"text_21\">\n    <!-- space law -->\n    <g transform=\"translate(383.792488 29.438182)scale(0.1 -0.1)\">\n     <defs>\n      <path d=\"M 4.203125 54.6875 \nL 13.1875 54.6875 \nL 24.421875 12.015625 \nL 35.59375 54.6875 \nL 46.1875 54.6875 \nL 57.421875 12.015625 \nL 68.609375 54.6875 \nL 77.59375 54.6875 \nL 63.28125 0 \nL 52.6875 0 \nL 40.921875 44.828125 \nL 29.109375 0 \nL 18.5 0 \nz\n\" id=\"DejaVuSans-119\"/>\n     </defs>\n     <use xlink:href=\"#DejaVuSans-115\"/>\n     <use x=\"52.099609\" xlink:href=\"#DejaVuSans-112\"/>\n     <use x=\"115.576172\" xlink:href=\"#DejaVuSans-97\"/>\n     <use x=\"176.855469\" xlink:href=\"#DejaVuSans-99\"/>\n     <use x=\"231.835938\" xlink:href=\"#DejaVuSans-101\"/>\n     <use x=\"293.359375\" xlink:href=\"#DejaVuSans-32\"/>\n     <use x=\"325.146484\" xlink:href=\"#DejaVuSans-108\"/>\n     <use x=\"352.929688\" xlink:href=\"#DejaVuSans-97\"/>\n     <use x=\"414.208984\" xlink:href=\"#DejaVuSans-119\"/>\n    </g>\n   </g>\n   <g id=\"text_22\">\n    <!-- metalaw -->\n    <g transform=\"translate(441.044668 65.880216)scale(0.1 -0.1)\">\n     <use xlink:href=\"#DejaVuSans-109\"/>\n     <use x=\"97.412109\" xlink:href=\"#DejaVuSans-101\"/>\n     <use x=\"158.935547\" xlink:href=\"#DejaVuSans-116\"/>\n     <use x=\"198.144531\" xlink:href=\"#DejaVuSans-97\"/>\n     <use x=\"259.423828\" xlink:href=\"#DejaVuSans-108\"/>\n     <use x=\"287.207031\" xlink:href=\"#DejaVuSans-97\"/>\n     <use x=\"348.486328\" xlink:href=\"#DejaVuSans-119\"/>\n    </g>\n   </g>\n   <g id=\"text_23\">\n    <!-- moon treaty -->\n    <g transform=\"translate(462.665474 43.186136)scale(0.1 -0.1)\">\n     <use xlink:href=\"#DejaVuSans-109\"/>\n     <use x=\"97.412109\" xlink:href=\"#DejaVuSans-111\"/>\n     <use x=\"158.59375\" xlink:href=\"#DejaVuSans-111\"/>\n     <use x=\"219.775391\" xlink:href=\"#DejaVuSans-110\"/>\n     <use x=\"283.154297\" xlink:href=\"#DejaVuSans-32\"/>\n     <use x=\"314.941406\" xlink:href=\"#DejaVuSans-116\"/>\n     <use x=\"354.150391\" xlink:href=\"#DejaVuSans-114\"/>\n     <use x=\"393.013672\" xlink:href=\"#DejaVuSans-101\"/>\n     <use x=\"454.537109\" xlink:href=\"#DejaVuSans-97\"/>\n     <use x=\"515.816406\" xlink:href=\"#DejaVuSans-116\"/>\n     <use x=\"555.025391\" xlink:href=\"#DejaVuSans-121\"/>\n    </g>\n   </g>\n   <g id=\"text_24\">\n    <!-- legal aspects of computing -->\n    <g transform=\"translate(396.394504 66.465932)scale(0.1 -0.1)\">\n     <use xlink:href=\"#DejaVuSans-108\"/>\n     <use x=\"27.783203\" xlink:href=\"#DejaVuSans-101\"/>\n     <use x=\"89.306641\" xlink:href=\"#DejaVuSans-103\"/>\n     <use x=\"152.783203\" xlink:href=\"#DejaVuSans-97\"/>\n     <use x=\"214.0625\" xlink:href=\"#DejaVuSans-108\"/>\n     <use x=\"241.845703\" xlink:href=\"#DejaVuSans-32\"/>\n     <use x=\"273.632812\" xlink:href=\"#DejaVuSans-97\"/>\n     <use x=\"334.912109\" xlink:href=\"#DejaVuSans-115\"/>\n     <use x=\"387.011719\" xlink:href=\"#DejaVuSans-112\"/>\n     <use x=\"450.488281\" xlink:href=\"#DejaVuSans-101\"/>\n     <use x=\"512.011719\" xlink:href=\"#DejaVuSans-99\"/>\n     <use x=\"566.992188\" xlink:href=\"#DejaVuSans-116\"/>\n     <use x=\"606.201172\" xlink:href=\"#DejaVuSans-115\"/>\n     <use x=\"658.300781\" xlink:href=\"#DejaVuSans-32\"/>\n     <use x=\"690.087891\" xlink:href=\"#DejaVuSans-111\"/>\n     <use x=\"751.269531\" xlink:href=\"#DejaVuSans-102\"/>\n     <use x=\"786.474609\" xlink:href=\"#DejaVuSans-32\"/>\n     <use x=\"818.261719\" xlink:href=\"#DejaVuSans-99\"/>\n     <use x=\"873.242188\" xlink:href=\"#DejaVuSans-111\"/>\n     <use x=\"934.423828\" xlink:href=\"#DejaVuSans-109\"/>\n     <use x=\"1031.835938\" xlink:href=\"#DejaVuSans-112\"/>\n     <use x=\"1095.3125\" xlink:href=\"#DejaVuSans-117\"/>\n     <use x=\"1158.691406\" xlink:href=\"#DejaVuSans-116\"/>\n     <use x=\"1197.900391\" xlink:href=\"#DejaVuSans-105\"/>\n     <use x=\"1225.683594\" xlink:href=\"#DejaVuSans-110\"/>\n     <use x=\"1289.0625\" xlink:href=\"#DejaVuSans-103\"/>\n    </g>\n   </g>\n   <g id=\"text_25\">\n    <!-- astronaut training -->\n    <g transform=\"translate(185.088189 201.928656)scale(0.1 -0.1)\">\n     <use xlink:href=\"#DejaVuSans-97\"/>\n     <use x=\"61.279297\" xlink:href=\"#DejaVuSans-115\"/>\n     <use x=\"113.378906\" xlink:href=\"#DejaVuSans-116\"/>\n     <use x=\"152.587891\" xlink:href=\"#DejaVuSans-114\"/>\n     <use x=\"191.451172\" xlink:href=\"#DejaVuSans-111\"/>\n     <use x=\"252.632812\" xlink:href=\"#DejaVuSans-110\"/>\n     <use x=\"316.011719\" xlink:href=\"#DejaVuSans-97\"/>\n     <use x=\"377.291016\" xlink:href=\"#DejaVuSans-117\"/>\n     <use x=\"440.669922\" xlink:href=\"#DejaVuSans-116\"/>\n     <use x=\"479.878906\" xlink:href=\"#DejaVuSans-32\"/>\n     <use x=\"511.666016\" xlink:href=\"#DejaVuSans-116\"/>\n     <use x=\"550.875\" xlink:href=\"#DejaVuSans-114\"/>\n     <use x=\"591.988281\" xlink:href=\"#DejaVuSans-97\"/>\n     <use x=\"653.267578\" xlink:href=\"#DejaVuSans-105\"/>\n     <use x=\"681.050781\" xlink:href=\"#DejaVuSans-110\"/>\n     <use x=\"744.429688\" xlink:href=\"#DejaVuSans-105\"/>\n     <use x=\"772.212891\" xlink:href=\"#DejaVuSans-110\"/>\n     <use x=\"835.591797\" xlink:href=\"#DejaVuSans-103\"/>\n    </g>\n   </g>\n   <g id=\"text_26\">\n    <!-- reduced-gravity aircraft -->\n    <g transform=\"translate(98.458991 208.687975)scale(0.1 -0.1)\">\n     <use xlink:href=\"#DejaVuSans-114\"/>\n     <use x=\"38.863281\" xlink:href=\"#DejaVuSans-101\"/>\n     <use x=\"100.386719\" xlink:href=\"#DejaVuSans-100\"/>\n     <use x=\"163.863281\" xlink:href=\"#DejaVuSans-117\"/>\n     <use x=\"227.242188\" xlink:href=\"#DejaVuSans-99\"/>\n     <use x=\"282.222656\" xlink:href=\"#DejaVuSans-101\"/>\n     <use x=\"343.746094\" xlink:href=\"#DejaVuSans-100\"/>\n     <use x=\"407.222656\" xlink:href=\"#DejaVuSans-45\"/>\n     <use x=\"443.306641\" xlink:href=\"#DejaVuSans-103\"/>\n     <use x=\"506.783203\" xlink:href=\"#DejaVuSans-114\"/>\n     <use x=\"547.896484\" xlink:href=\"#DejaVuSans-97\"/>\n     <use x=\"609.175781\" xlink:href=\"#DejaVuSans-118\"/>\n     <use x=\"668.355469\" xlink:href=\"#DejaVuSans-105\"/>\n     <use x=\"696.138672\" xlink:href=\"#DejaVuSans-116\"/>\n     <use x=\"735.347656\" xlink:href=\"#DejaVuSans-121\"/>\n     <use x=\"794.527344\" xlink:href=\"#DejaVuSans-32\"/>\n     <use x=\"826.314453\" xlink:href=\"#DejaVuSans-97\"/>\n     <use x=\"887.59375\" xlink:href=\"#DejaVuSans-105\"/>\n     <use x=\"915.376953\" xlink:href=\"#DejaVuSans-114\"/>\n     <use x=\"954.240234\" xlink:href=\"#DejaVuSans-99\"/>\n     <use x=\"1009.220703\" xlink:href=\"#DejaVuSans-114\"/>\n     <use x=\"1050.333984\" xlink:href=\"#DejaVuSans-97\"/>\n     <use x=\"1111.613281\" xlink:href=\"#DejaVuSans-102\"/>\n     <use x=\"1145.068359\" xlink:href=\"#DejaVuSans-116\"/>\n    </g>\n   </g>\n   <g id=\"text_27\">\n    <!-- space adaptation syndrome -->\n    <g transform=\"translate(116.147367 313.827358)scale(0.1 -0.1)\">\n     <use xlink:href=\"#DejaVuSans-115\"/>\n     <use x=\"52.099609\" xlink:href=\"#DejaVuSans-112\"/>\n     <use x=\"115.576172\" xlink:href=\"#DejaVuSans-97\"/>\n     <use x=\"176.855469\" xlink:href=\"#DejaVuSans-99\"/>\n     <use x=\"231.835938\" xlink:href=\"#DejaVuSans-101\"/>\n     <use x=\"293.359375\" xlink:href=\"#DejaVuSans-32\"/>\n     <use x=\"325.146484\" xlink:href=\"#DejaVuSans-97\"/>\n     <use x=\"386.425781\" xlink:href=\"#DejaVuSans-100\"/>\n     <use x=\"449.902344\" xlink:href=\"#DejaVuSans-97\"/>\n     <use x=\"511.181641\" xlink:href=\"#DejaVuSans-112\"/>\n     <use x=\"574.658203\" xlink:href=\"#DejaVuSans-116\"/>\n     <use x=\"613.867188\" xlink:href=\"#DejaVuSans-97\"/>\n     <use x=\"675.146484\" xlink:href=\"#DejaVuSans-116\"/>\n     <use x=\"714.355469\" xlink:href=\"#DejaVuSans-105\"/>\n     <use x=\"742.138672\" xlink:href=\"#DejaVuSans-111\"/>\n     <use x=\"803.320312\" xlink:href=\"#DejaVuSans-110\"/>\n     <use x=\"866.699219\" xlink:href=\"#DejaVuSans-32\"/>\n     <use x=\"898.486328\" xlink:href=\"#DejaVuSans-115\"/>\n     <use x=\"950.585938\" xlink:href=\"#DejaVuSans-121\"/>\n     <use x=\"1009.765625\" xlink:href=\"#DejaVuSans-110\"/>\n     <use x=\"1073.144531\" xlink:href=\"#DejaVuSans-100\"/>\n     <use x=\"1136.621094\" xlink:href=\"#DejaVuSans-114\"/>\n     <use x=\"1175.484375\" xlink:href=\"#DejaVuSans-111\"/>\n     <use x=\"1236.666016\" xlink:href=\"#DejaVuSans-109\"/>\n     <use x=\"1334.078125\" xlink:href=\"#DejaVuSans-101\"/>\n    </g>\n   </g>\n   <g id=\"text_28\">\n    <!-- micro-g environment -->\n    <g transform=\"translate(161.239369 231.131819)scale(0.1 -0.1)\">\n     <use xlink:href=\"#DejaVuSans-109\"/>\n     <use x=\"97.412109\" xlink:href=\"#DejaVuSans-105\"/>\n     <use x=\"125.195312\" xlink:href=\"#DejaVuSans-99\"/>\n     <use x=\"180.175781\" xlink:href=\"#DejaVuSans-114\"/>\n     <use x=\"219.039062\" xlink:href=\"#DejaVuSans-111\"/>\n     <use x=\"282.095703\" xlink:href=\"#DejaVuSans-45\"/>\n     <use x=\"318.179688\" xlink:href=\"#DejaVuSans-103\"/>\n     <use x=\"381.65625\" xlink:href=\"#DejaVuSans-32\"/>\n     <use x=\"413.443359\" xlink:href=\"#DejaVuSans-101\"/>\n     <use x=\"474.966797\" xlink:href=\"#DejaVuSans-110\"/>\n     <use x=\"538.345703\" xlink:href=\"#DejaVuSans-118\"/>\n     <use x=\"597.525391\" xlink:href=\"#DejaVuSans-105\"/>\n     <use x=\"625.308594\" xlink:href=\"#DejaVuSans-114\"/>\n     <use x=\"664.171875\" xlink:href=\"#DejaVuSans-111\"/>\n     <use x=\"725.353516\" xlink:href=\"#DejaVuSans-110\"/>\n     <use x=\"788.732422\" xlink:href=\"#DejaVuSans-109\"/>\n     <use x=\"886.144531\" xlink:href=\"#DejaVuSans-101\"/>\n     <use x=\"947.667969\" xlink:href=\"#DejaVuSans-110\"/>\n     <use x=\"1011.046875\" xlink:href=\"#DejaVuSans-116\"/>\n    </g>\n   </g>\n  </g>\n </g>\n <defs>\n  <clipPath id=\"p0454008acf\">\n   <rect height=\"489.24\" width=\"669.6\" x=\"38.482813\" y=\"7.2\"/>\n  </clipPath>\n </defs>\n</svg>\n",
      "image/png": "[encoded data removed]"
     },
     "metadata": {
      "needs_background": "light"
     }
    }
   ],
   "metadata": {}
  },
  {
   "cell_type": "code",
   "execution_count": null,
   "source": [],
   "outputs": [],
   "metadata": {}
  }
 ]
}