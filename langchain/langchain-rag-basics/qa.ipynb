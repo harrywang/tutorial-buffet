{
 "cells": [
  {
   "cell_type": "code",
   "execution_count": 1,
   "metadata": {},
   "outputs": [],
   "source": [
    "import os\n",
    "import openai\n",
    "import sys\n",
    "sys.path.append('../..')\n",
    "\n",
    "from dotenv import load_dotenv, find_dotenv\n",
    "_ = load_dotenv(find_dotenv()) # read local .env file\n",
    "\n",
    "openai.api_key  = os.environ['OPENAI_API_KEY']"
   ]
  },
  {
   "cell_type": "code",
   "execution_count": 2,
   "metadata": {},
   "outputs": [],
   "source": [
    "llm_name = \"gpt-3.5-turbo\"\n"
   ]
  },
  {
   "cell_type": "code",
   "execution_count": 3,
   "metadata": {},
   "outputs": [],
   "source": [
    "from langchain.vectorstores import Chroma\n",
    "from langchain_openai import OpenAIEmbeddings\n",
    "embedding = OpenAIEmbeddings(model=\"text-embedding-3-small\")\n",
    "\n",
    "persist_directory = 'data/chroma/'\n",
    "embedding = OpenAIEmbeddings()\n",
    "bookdb = Chroma(persist_directory=persist_directory, embedding_function=embedding)"
   ]
  },
  {
   "cell_type": "code",
   "execution_count": 4,
   "metadata": {},
   "outputs": [
    {
     "data": {
      "text/plain": [
       "79"
      ]
     },
     "execution_count": 4,
     "metadata": {},
     "output_type": "execute_result"
    }
   ],
   "source": [
    "bookdb._collection.count()"
   ]
  },
  {
   "cell_type": "code",
   "execution_count": 5,
   "metadata": {},
   "outputs": [
    {
     "data": {
      "text/plain": [
       "[Document(page_content='One, two, three…\\nHow does a project get to be a  year beh ind schedule? One day at a time.\\n—Fred Brooks, software engineer and computer scientist', metadata={'page': 6, 'source': 'data/getting-real/getting-real-02-starting-line.pdf'}),\n",
       " Document(page_content='“We Don’t Want a Thousand Features”\\nSteve Jobs gave a small private presentation about the iTunes Music Store to some independent\\nrecord label people. My favorite line of the day was when people kept raising their hand saying,\\n“Does it do [x]?”, “Do you plan to add [y]?”. Finally Jobs said, “Wait wait — put your hands\\ndown. Listen: I know you have a thousand ideas for all the cool features iTunes could have. So\\ndo we. But we don’t want a thousand features. That would be u gly. Innovation is not about\\nsaying yes to everything. It’s about saying NO to all but the most crucial features.”\\n—-Derek Sivers, president and programmer, CD Baby and HostBaby (from Say NO by default)', metadata={'page': 2, 'source': 'data/getting-real/getting-real-05-feature-selection.pdf'}),\n",
       " Document(page_content='real screens. A functional spec is make-believe, an illusion of agreement, while an actual web\\npage is reality. That’s what your customers are going to see and use. That’s what matters. Getting\\nReal gets you there faster. And that means you’re making software decisions based on the real\\nthing instead of abstract notions.\\nFinally, Getting Real is an approach ideally suited to web-based software. The old school model\\nof shipping software in a box and then waiting a year or two to deliver an update is fading away.\\nUnlike installed software, web apps can constantly evolve on a day-to-day basis. Getting Real\\nleverages this advantage for all its worth.', metadata={'page': 0, 'source': 'data/getting-real/getting-real-01-introduction.pdf'}),\n",
       " Document(page_content='Thus the combination of the blight and the deadline yields software as we know and love it,\\ncomprised of bountiful quantities of useless features.\\n—Jef Raskin, author (from “Why Software Is the Way It Is”)', metadata={'page': 7, 'source': 'data/getting-real/getting-real-03-stay-lean.pdf'}),\n",
       " Document(page_content='Thus the combination of the blight and the deadline yields software as we know and love it,\\ncomprised of bountiful quantities of useless features.\\n—Jef Raskin, author (from “Why Software Is the Way It Is”)', metadata={'page': 7, 'source': 'data/getting-real/getting-real-03-stay-lean.pdf'})]"
      ]
     },
     "execution_count": 5,
     "metadata": {},
     "output_type": "execute_result"
    }
   ],
   "source": [
    "question = \"why lean?\"\n",
    "docs = bookdb.similarity_search(question, k=5)\n",
    "docs"
   ]
  },
  {
   "cell_type": "code",
   "execution_count": 6,
   "metadata": {},
   "outputs": [],
   "source": [
    "from langchain_openai import ChatOpenAI\n",
    "llm = ChatOpenAI(model_name=llm_name, temperature=0)"
   ]
  },
  {
   "cell_type": "code",
   "execution_count": 7,
   "metadata": {},
   "outputs": [],
   "source": [
    "from langchain.chains import RetrievalQA"
   ]
  },
  {
   "cell_type": "code",
   "execution_count": 8,
   "metadata": {},
   "outputs": [],
   "source": [
    "qa_chain = RetrievalQA.from_chain_type(\n",
    "    llm,\n",
    "    retriever=bookdb.as_retriever()\n",
    ")"
   ]
  },
  {
   "cell_type": "code",
   "execution_count": 9,
   "metadata": {},
   "outputs": [
    {
     "data": {
      "text/plain": [
       "'Lean methodology is often favored in software development and other industries because it emphasizes efficiency, reducing waste, and focusing on delivering value to the customer. By eliminating unnecessary steps, features, or processes, lean practices aim to streamline production and improve overall quality. This approach can lead to faster development cycles, reduced costs, and increased customer satisfaction.'"
      ]
     },
     "execution_count": 9,
     "metadata": {},
     "output_type": "execute_result"
    }
   ],
   "source": [
    "result = qa_chain.invoke({\"query\": question})\n",
    "result[\"result\"]"
   ]
  },
  {
   "cell_type": "code",
   "execution_count": 10,
   "metadata": {},
   "outputs": [],
   "source": [
    "from langchain.prompts import PromptTemplate\n",
    "\n",
    "# Build prompt\n",
    "template = \"\"\"\n",
    "Use the following pieces of context to answer the question at the end. If you don't know the answer, just say that you don't know, don't try to make up an answer. \n",
    "Use three sentences maximum. Keep the answer as concise as possible. Always say \"thanks for asking!\" at the end of the answer. \n",
    "{context}\n",
    "Question: {question}\n",
    "Helpful Answer:\"\"\"\n",
    "QA_CHAIN_PROMPT = PromptTemplate.from_template(template)"
   ]
  },
  {
   "cell_type": "code",
   "execution_count": 11,
   "metadata": {},
   "outputs": [
    {
     "data": {
      "text/plain": [
       "'Lean methodology is important in software development because it focuses on delivering the most crucial features efficiently, avoiding unnecessary complexity and waste. By saying no to non-essential features, lean development helps teams stay focused and deliver value to customers faster. Thanks for asking!'"
      ]
     },
     "execution_count": 11,
     "metadata": {},
     "output_type": "execute_result"
    }
   ],
   "source": [
    "# Run chain\n",
    "qa_chain = RetrievalQA.from_chain_type(\n",
    "    llm,\n",
    "    retriever=bookdb.as_retriever(),\n",
    "    return_source_documents=True,\n",
    "    chain_type_kwargs={\"prompt\": QA_CHAIN_PROMPT}\n",
    ")\n",
    "\n",
    "result = qa_chain.invoke({\"query\": question})\n",
    "result[\"result\"]"
   ]
  },
  {
   "cell_type": "code",
   "execution_count": 12,
   "metadata": {},
   "outputs": [
    {
     "data": {
      "text/plain": [
       "[Document(page_content='One, two, three…\\nHow does a project get to be a  year beh ind schedule? One day at a time.\\n—Fred Brooks, software engineer and computer scientist', metadata={'page': 6, 'source': 'data/getting-real/getting-real-02-starting-line.pdf'}),\n",
       " Document(page_content='“We Don’t Want a Thousand Features”\\nSteve Jobs gave a small private presentation about the iTunes Music Store to some independent\\nrecord label people. My favorite line of the day was when people kept raising their hand saying,\\n“Does it do [x]?”, “Do you plan to add [y]?”. Finally Jobs said, “Wait wait — put your hands\\ndown. Listen: I know you have a thousand ideas for all the cool features iTunes could have. So\\ndo we. But we don’t want a thousand features. That would be u gly. Innovation is not about\\nsaying yes to everything. It’s about saying NO to all but the most crucial features.”\\n—-Derek Sivers, president and programmer, CD Baby and HostBaby (from Say NO by default)', metadata={'page': 2, 'source': 'data/getting-real/getting-real-05-feature-selection.pdf'}),\n",
       " Document(page_content='real screens. A functional spec is make-believe, an illusion of agreement, while an actual web\\npage is reality. That’s what your customers are going to see and use. That’s what matters. Getting\\nReal gets you there faster. And that means you’re making software decisions based on the real\\nthing instead of abstract notions.\\nFinally, Getting Real is an approach ideally suited to web-based software. The old school model\\nof shipping software in a box and then waiting a year or two to deliver an update is fading away.\\nUnlike installed software, web apps can constantly evolve on a day-to-day basis. Getting Real\\nleverages this advantage for all its worth.', metadata={'page': 0, 'source': 'data/getting-real/getting-real-01-introduction.pdf'}),\n",
       " Document(page_content='Thus the combination of the blight and the deadline yields software as we know and love it,\\ncomprised of bountiful quantities of useless features.\\n—Jef Raskin, author (from “Why Software Is the Way It Is”)', metadata={'page': 7, 'source': 'data/getting-real/getting-real-03-stay-lean.pdf'})]"
      ]
     },
     "execution_count": 12,
     "metadata": {},
     "output_type": "execute_result"
    }
   ],
   "source": [
    "result[\"source_documents\"]"
   ]
  },
  {
   "cell_type": "code",
   "execution_count": 13,
   "metadata": {},
   "outputs": [],
   "source": [
    "qa_chain = RetrievalQA.from_chain_type(\n",
    "    llm,\n",
    "    retriever=bookdb.as_retriever()\n",
    ")"
   ]
  },
  {
   "cell_type": "code",
   "execution_count": 14,
   "metadata": {},
   "outputs": [
    {
     "data": {
      "text/plain": [
       "'Lean is not specifically mentioned as a book topic in the provided context. However, the principles of lean methodology, which focus on efficiency, reducing waste, and continuous improvement, are often discussed in books related to project management, software development, and business strategy. If you are interested in learning more about lean principles, there are many books available on the topic.'"
      ]
     },
     "execution_count": 14,
     "metadata": {},
     "output_type": "execute_result"
    }
   ],
   "source": [
    "question = \"Is lean a book topic?\"\n",
    "result = qa_chain.invoke({\"query\": question})\n",
    "result[\"result\"]"
   ]
  },
  {
   "cell_type": "code",
   "execution_count": 15,
   "metadata": {},
   "outputs": [
    {
     "data": {
      "text/plain": [
       "'It seems like you\\'re asking why the concepts and philosophies discussed in the book \"Getting Real\" are needed. The book emphasizes building, launching, and iterating on software products quickly, focusing on real-world results rather than theoretical concepts. This approach is beneficial for entrepreneurs, designers, programmers, and marketers working on innovative ideas in today\\'s fast-paced digital landscape. By following the principles outlined in the book, individuals can adapt to agile development practices, create successful products, and stay ahead of the competition.'"
      ]
     },
     "execution_count": 15,
     "metadata": {},
     "output_type": "execute_result"
    }
   ],
   "source": [
    "# no memory of previous question\n",
    "question = \"why that is needed?\"\n",
    "result = qa_chain.invoke({\"query\": question})\n",
    "result['result']"
   ]
  },
  {
   "cell_type": "code",
   "execution_count": 16,
   "metadata": {},
   "outputs": [],
   "source": [
    "from langchain.memory import ConversationBufferMemory\n",
    "memory = ConversationBufferMemory(\n",
    "    memory_key=\"chat_history\",\n",
    "    return_messages=True\n",
    ")"
   ]
  },
  {
   "cell_type": "code",
   "execution_count": 17,
   "metadata": {},
   "outputs": [],
   "source": [
    "from langchain.chains import ConversationalRetrievalChain\n",
    "retriever=bookdb.as_retriever()\n",
    "qa = ConversationalRetrievalChain.from_llm(\n",
    "    llm,\n",
    "    retriever=retriever,\n",
    "    memory=memory\n",
    ")"
   ]
  },
  {
   "cell_type": "code",
   "execution_count": 18,
   "metadata": {},
   "outputs": [
    {
     "data": {
      "text/plain": [
       "'Lean is not specifically mentioned as a book topic in the provided context. However, the principles of lean methodology, which focus on maximizing value while minimizing waste, are often discussed in books related to project management, software development, and business practices. If you are interested in learning more about lean methodology, there are many books available on the subject that you may find helpful.'"
      ]
     },
     "execution_count": 18,
     "metadata": {},
     "output_type": "execute_result"
    }
   ],
   "source": [
    "question = \"Is lean a book topic?\"\n",
    "result = qa.invoke({\"question\": question})\n",
    "result['answer']"
   ]
  },
  {
   "cell_type": "code",
   "execution_count": 19,
   "metadata": {},
   "outputs": [
    {
     "data": {
      "text/plain": [
       "'Learning more about lean methodology is essential because it emphasizes the importance of focusing on the most crucial features and saying no to unnecessary ones. This approach helps in streamlining processes, reducing waste, and delivering value to customers efficiently. By understanding lean methodology, individuals and organizations can improve their decision-making, prioritize effectively, and ultimately create better products or services.'"
      ]
     },
     "execution_count": 19,
     "metadata": {},
     "output_type": "execute_result"
    }
   ],
   "source": [
    "question = \"why that is needed?\"\n",
    "result = qa.invoke({\"question\": question})\n",
    "result['answer']"
   ]
  },
  {
   "cell_type": "code",
   "execution_count": null,
   "metadata": {},
   "outputs": [],
   "source": []
  }
 ],
 "metadata": {
  "kernelspec": {
   "display_name": "venv",
   "language": "python",
   "name": "python3"
  },
  "language_info": {
   "codemirror_mode": {
    "name": "ipython",
    "version": 3
   },
   "file_extension": ".py",
   "mimetype": "text/x-python",
   "name": "python",
   "nbconvert_exporter": "python",
   "pygments_lexer": "ipython3",
   "version": "3.10.6"
  }
 },
 "nbformat": 4,
 "nbformat_minor": 2
}
