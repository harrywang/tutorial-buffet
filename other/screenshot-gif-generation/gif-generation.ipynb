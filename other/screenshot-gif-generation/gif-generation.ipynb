{
 "metadata": {
  "language_info": {
   "codemirror_mode": {
    "name": "ipython",
    "version": 3
   },
   "file_extension": ".py",
   "mimetype": "text/x-python",
   "name": "python",
   "nbconvert_exporter": "python",
   "pygments_lexer": "ipython3",
   "version": "3.7.7-final"
  },
  "orig_nbformat": 2,
  "kernelspec": {
   "name": "python_defaultSpec_1600265837621",
   "display_name": "Python 3.7.7 64-bit ('venv': venv)"
  }
 },
 "nbformat": 4,
 "nbformat_minor": 2,
 "cells": [
  {
   "source": [
    "# Generate Screenshots and Gifs via Python\n",
    "\n",
    "Code is revised based on:\n",
    "- https://blog.csdn.net/qq_38161040/article/details/91040640\n",
    "- https://medium.com/swlh/python-animated-images-6a85b9b68f86"
   ],
   "cell_type": "markdown",
   "metadata": {}
  },
  {
   "cell_type": "code",
   "execution_count": 27,
   "metadata": {},
   "outputs": [],
   "source": [
    "from PIL import ImageGrab\n",
    "from PIL import Image\n",
    "import time"
   ]
  },
  {
   "cell_type": "code",
   "execution_count": 28,
   "metadata": {},
   "outputs": [],
   "source": [
    "# take a screenshot every 0.1 second, 10 jpg saved\n",
    "total_images = 10 # total screenshots\n",
    "interval = 0.1 # the interval to take a screenshot\n",
    "resize_ratio = 0.3 # the resize ratio to keep the screenshot smaller\n",
    "\n",
    "for i in range(total_images):\n",
    "    time.sleep(interval)\n",
    "    img = ImageGrab.grab()\n",
    "    width = img.size[0]\n",
    "    height = img.size[1]\n",
    "\n",
    "    img = img.resize(\n",
    "        (int(width*resize_ratio), int(height*resize_ratio)), \n",
    "        Image.ANTIALIAS)\n",
    "    \n",
    "    img = img.convert('RGB') # if save to jpg\n",
    "    img.save(f'./screenshots/screenshot{str(i+1)}.jpg')"
   ]
  },
  {
   "cell_type": "code",
   "execution_count": 29,
   "metadata": {},
   "outputs": [],
   "source": [
    "# generate the gif\n",
    "import imageio\n",
    "\n",
    "gif_images = []\n",
    "for i in range(total_images):\n",
    "    gif_images.append(imageio.imread(f'./screenshots/screenshot{str(i+1)}.jpg'))\n",
    "\n",
    "imageio.mimsave(\"./screenshots/screenshot.gif\", gif_images, fps=5)"
   ]
  },
  {
   "cell_type": "code",
   "execution_count": 30,
   "metadata": {},
   "outputs": [],
   "source": [
    "# reduce the gif file size\n",
    "from pygifsicle import optimize\n",
    "\n",
    "gif_orginal = './screenshots/screenshot.gif'\n",
    "\n",
    "# create a new onegit \n",
    "optimize(gif_orginal, './screenshots/screenshot_optimized.gif')\n",
    "\n",
    "# overwrite the original one if needed\n",
    "# optimize(gif_orginal)"
   ]
  }
 ]
}