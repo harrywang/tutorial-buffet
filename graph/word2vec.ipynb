{
  "nbformat": 4,
  "nbformat_minor": 2,
  "metadata": {
    "colab": {
      "name": "word2vec.ipynb",
      "provenance": [],
      "collapsed_sections": [],
      "toc_visible": true
    },
    "kernelspec": {
      "name": "python3",
      "display_name": "Python 3.8.1 64-bit ('venv': venv)"
    },
    "language_info": {
      "name": "python",
      "version": "3.8.1",
      "mimetype": "text/x-python",
      "codemirror_mode": {
        "name": "ipython",
        "version": 3
      },
      "pygments_lexer": "ipython3",
      "nbconvert_exporter": "python",
      "file_extension": ".py"
    },
    "interpreter": {
      "hash": "90970521c37012564794564cb8646afb83dde14326421c0a5ce6d26c42184272"
    }
  },
  "cells": [
    {
      "cell_type": "markdown",
      "source": [
        "Read the following two tutorials first:\n",
        "- http://mccormickml.com/2016/04/19/word2vec-tutorial-the-skip-gram-model/\n",
        "- http://mccormickml.com/2017/01/11/word2vec-tutorial-part-2-negative-sampling/\n",
        "\n",
        "This notebook is from: https://www.tensorflow.org/tutorials/text/word2vec"
      ],
      "metadata": {}
    },
    {
      "cell_type": "markdown",
      "source": [
        "# Word2Vec"
      ],
      "metadata": {
        "id": "haJUNjSB60Kh"
      }
    },
    {
      "cell_type": "markdown",
      "source": [
        "Word2Vec is not a singular algorithm, rather, it is a family of model architectures and optimizations that can be used to learn word embeddings from large datasets. Embeddings learned through Word2Vec have proven to be successful on a variety of downstream natural language processing tasks.\n",
        "\n",
        "Note: This tutorial is based on [Efficient Estimation of Word Representations in Vector Space](https://arxiv.org/pdf/1301.3781.pdf) and\n",
        "[Distributed\n",
        "Representations of Words and Phrases and their Compositionality](https://papers.nips.cc/paper/5021-distributed-representations-of-words-and-phrases-and-their-compositionality.pdf). It is not an exact implementation of the papers. Rather, it is intended to illustrate the key ideas.\n",
        "\n",
        "These papers proposed two methods for learning representations of words: \n",
        "\n",
        "*   **Continuous Bag-of-Words Model** which predicts the middle word based on surrounding context words. The context consists of a few words before and after the current (middle) word. This architecture is called a bag-of-words model as the order of words in the context is not important.\n",
        "*   **Continuous Skip-gram Model** which predict words within a certain range before and after the current word in the same sentence. A worked example of this is given below.\n",
        "\n",
        "\n",
        "You'll use the skip-gram approach in this tutorial. First, you'll explore skip-grams and other concepts using a single sentence for illustration. Next, you'll train your own Word2Vec model on a small dataset. This tutorial also contains code to export the trained embeddings and visualize them in the [TensorFlow Embedding Projector](http://projector.tensorflow.org/).\n"
      ],
      "metadata": {
        "id": "99d4ky2lWFvn"
      }
    },
    {
      "cell_type": "markdown",
      "source": [
        "## Skip-gram and Negative Sampling "
      ],
      "metadata": {
        "id": "xP00WlaMWBZC"
      }
    },
    {
      "cell_type": "markdown",
      "source": [
        "While a bag-of-words model predicts a word given the neighboring context, a skip-gram model predicts the context (or neighbors) of a word, given the word itself. The model is trained on skip-grams, which are n-grams that allow tokens to be skipped (see the diagram below for an example). The context of a word can be represented through a set of skip-gram pairs of `(target_word, context_word)` where `context_word` appears in the neighboring context of `target_word`. "
      ],
      "metadata": {
        "id": "Zr2wjv0bW236"
      }
    },
    {
      "cell_type": "markdown",
      "source": [
        "Consider the following sentence of 8 words.\n",
        "> The wide road shimmered in the hot sun. \n",
        "\n",
        "The context words for each of the 8 words of this sentence are defined by a window size. The window size determines the span of words on either side of a `target_word` that can be considered `context word`. Take a look at this table of skip-grams for target words based on different window sizes."
      ],
      "metadata": {
        "id": "ICjc-McbaVTd"
      }
    },
    {
      "cell_type": "markdown",
      "source": [
        "Note: For this tutorial, a window size of *n* implies n words on each side with a total window span of 2*n+1 words across a word."
      ],
      "metadata": {
        "id": "YKE87IKT_YT8"
      }
    },
    {
      "cell_type": "markdown",
      "source": [
        "![word2vec_skipgrams](https://tensorflow.org/tutorials/text/images/word2vec_skipgram.png)"
      ],
      "metadata": {
        "id": "RsCwQ07E8mqU"
      }
    },
    {
      "cell_type": "markdown",
      "source": [
        "The training objective of the skip-gram model is to maximize the probability of predicting context words given the target word. For a sequence of words *w<sub>1</sub>, w<sub>2</sub>, ... w<sub>T</sub>*, the objective can be written as the average log probability"
      ],
      "metadata": {
        "id": "gK1gN1jwkMpU"
      }
    },
    {
      "cell_type": "markdown",
      "source": [
        "![word2vec_skipgram_objective](https://tensorflow.org/tutorials/text/images/word2vec_skipgram_objective.png)"
      ],
      "metadata": {
        "id": "pILO_iAc84e-"
      }
    },
    {
      "cell_type": "markdown",
      "source": [
        "where `c` is the size of the training context. The basic skip-gram formulation defines this probability using the softmax function."
      ],
      "metadata": {
        "id": "Gsy6TUbtnz_K"
      }
    },
    {
      "cell_type": "markdown",
      "source": [
        "![word2vec_full_softmax](https://tensorflow.org/tutorials/text/images/word2vec_full_softmax.png)"
      ],
      "metadata": {
        "id": "P81Qavbb9APd"
      }
    },
    {
      "cell_type": "markdown",
      "source": [
        "where *v* and *v<sup>'<sup>* are target and context vector representations of words and *W* is vocabulary size. "
      ],
      "metadata": {
        "id": "axZvd-hhotVB"
      }
    },
    {
      "cell_type": "markdown",
      "source": [
        "Computing the denominator of this formulation involves performing a full softmax over the entire vocabulary words which is often large (10<sup>5</sup>-10<sup>7</sup>) terms. "
      ],
      "metadata": {
        "id": "SoLzxbqSpT6_"
      }
    },
    {
      "cell_type": "markdown",
      "source": [
        "The [Noise Contrastive Estimation](https://www.tensorflow.org/api_docs/python/tf/nn/nce_loss) loss function is an efficient approximation for a full softmax. With an objective to learn word embeddings instead of modelling the word distribution, NCE loss can be [simplified](https://papers.nips.cc/paper/5021-distributed-representations-of-words-and-phrases-and-their-compositionality.pdf) to use negative sampling. "
      ],
      "metadata": {
        "id": "Y5VWYtmFzHkU"
      }
    },
    {
      "cell_type": "markdown",
      "source": [
        "The simplified negative sampling objective for a target word is to distinguish  the context word from *num_ns* negative samples drawn from noise distribution *P<sub>n</sub>(w)* of words. More precisely, an efficient approximation of full softmax over the vocabulary is, for a skip-gram pair, to pose the loss for a target word as a classification problem between the context word and *num_ns* negative samples. "
      ],
      "metadata": {
        "id": "WTZBPf1RsOsg"
      }
    },
    {
      "cell_type": "markdown",
      "source": [
        "A negative sample is defined as a (target_word, context_word) pair such that the context_word does not appear in the `window_size` neighborhood of the target_word. For the example sentence, these are few potential negative samples (when `window_size` is 2).\n",
        "\n",
        "```\n",
        "(hot, shimmered)\n",
        "(wide, hot)\n",
        "(wide, sun)\n",
        "```"
      ],
      "metadata": {
        "id": "Cl0rSfHjt6Mf"
      }
    },
    {
      "cell_type": "markdown",
      "source": [
        "In the next section, you'll generate skip-grams and negative samples for a single sentence. You'll also learn about subsampling techniques and train a classification model for positive and negative training examples later in the tutorial."
      ],
      "metadata": {
        "id": "kq0q2uqbucFg"
      }
    },
    {
      "cell_type": "markdown",
      "source": [
        "## Setup"
      ],
      "metadata": {
        "id": "mk4-Hpe1CH16"
      }
    },
    {
      "cell_type": "code",
      "execution_count": 30,
      "source": [
        "import io\n",
        "import re\n",
        "import string\n",
        "import tqdm\n",
        "\n",
        "import numpy as np\n",
        "\n",
        "import tensorflow as tf\n",
        "from tensorflow.keras import layers"
      ],
      "outputs": [],
      "metadata": {
        "id": "RutaI-Tpev3T"
      }
    },
    {
      "cell_type": "code",
      "execution_count": 31,
      "source": [
        "print(tf.__version__)"
      ],
      "outputs": [
        {
          "output_type": "stream",
          "name": "stdout",
          "text": [
            "2.6.0\n"
          ]
        }
      ],
      "metadata": {
        "id": "N4dKiRAcdSB1",
        "outputId": "b9988025-bd37-487e-acde-ea6b98f79869",
        "colab": {
          "base_uri": "https://localhost:8080/"
        }
      }
    },
    {
      "cell_type": "code",
      "execution_count": 32,
      "source": [
        "# Load the TensorBoard notebook extension\n",
        "%load_ext tensorboard"
      ],
      "outputs": [
        {
          "output_type": "stream",
          "name": "stdout",
          "text": [
            "The tensorboard extension is already loaded. To reload it, use:\n",
            "  %reload_ext tensorboard\n"
          ]
        }
      ],
      "metadata": {
        "id": "10pyUMFkGKVQ",
        "outputId": "e4608719-d4af-4888-9dd9-b0b8a8ef9de5",
        "colab": {
          "base_uri": "https://localhost:8080/"
        }
      }
    },
    {
      "cell_type": "code",
      "execution_count": 33,
      "source": [
        "SEED = 42  # random number seed\n",
        "AUTOTUNE = tf.data.AUTOTUNE"
      ],
      "outputs": [],
      "metadata": {
        "id": "XkJ5299Tek6B"
      }
    },
    {
      "cell_type": "markdown",
      "source": [
        "### Vectorize an example sentence"
      ],
      "metadata": {
        "id": "RW-g5buCHwh3"
      }
    },
    {
      "cell_type": "markdown",
      "source": [
        "Consider the following sentence:    \n",
        "`The wide road shimmered in the hot sun.`\n",
        "\n",
        "Tokenize the sentence:"
      ],
      "metadata": {
        "id": "y8TfZIgoQrcP"
      }
    },
    {
      "cell_type": "code",
      "execution_count": 34,
      "source": [
        "sentence = \"The wide road shimmered in the hot sun\"\n",
        "tokens = list(sentence.lower().split())\n",
        "print(len(tokens))"
      ],
      "outputs": [
        {
          "output_type": "stream",
          "name": "stdout",
          "text": [
            "8\n"
          ]
        }
      ],
      "metadata": {
        "id": "bsl7jBzV6_KK",
        "outputId": "ff7de083-0c36-43d1-b3e6-617cab0e7837",
        "colab": {
          "base_uri": "https://localhost:8080/"
        }
      }
    },
    {
      "cell_type": "markdown",
      "source": [
        "Create a vocabulary to save mappings from tokens to integer indices."
      ],
      "metadata": {
        "id": "PU-bs1XtThEw"
      }
    },
    {
      "cell_type": "code",
      "execution_count": 35,
      "source": [
        "vocab, index = {}, 1  # start indexing from 1\n",
        "vocab['<pad>'] = 0  # add a padding token\n",
        "for token in tokens:\n",
        "  if token not in vocab:\n",
        "    vocab[token] = index\n",
        "    index += 1\n",
        "\n",
        "vocab_size = len(vocab)\n",
        "print(vocab)"
      ],
      "outputs": [
        {
          "output_type": "stream",
          "name": "stdout",
          "text": [
            "{'<pad>': 0, 'the': 1, 'wide': 2, 'road': 3, 'shimmered': 4, 'in': 5, 'hot': 6, 'sun': 7}\n"
          ]
        }
      ],
      "metadata": {
        "id": "UdYv1HJUQ8XA",
        "outputId": "df5ae84e-af87-43d4-b257-a888658f1fca",
        "colab": {
          "base_uri": "https://localhost:8080/"
        }
      }
    },
    {
      "cell_type": "markdown",
      "source": [
        "Create an inverse vocabulary to save mappings from integer indices to tokens."
      ],
      "metadata": {
        "id": "ZpuP43Dddasr"
      }
    },
    {
      "cell_type": "code",
      "execution_count": 36,
      "source": [
        "inverse_vocab = {index: token for token, index in vocab.items()}\n",
        "print(inverse_vocab)"
      ],
      "outputs": [
        {
          "output_type": "stream",
          "name": "stdout",
          "text": [
            "{0: '<pad>', 1: 'the', 2: 'wide', 3: 'road', 4: 'shimmered', 5: 'in', 6: 'hot', 7: 'sun'}\n"
          ]
        }
      ],
      "metadata": {
        "id": "o9ULAJYtEvKl",
        "outputId": "c7020fbb-fabe-444e-ad8d-1534edb0ce5e",
        "colab": {
          "base_uri": "https://localhost:8080/"
        }
      }
    },
    {
      "cell_type": "markdown",
      "source": [
        "Vectorize your sentence.\n"
      ],
      "metadata": {
        "id": "n3qtuyxIRyii"
      }
    },
    {
      "cell_type": "code",
      "execution_count": 37,
      "source": [
        "example_sequence = [vocab[word] for word in tokens]\n",
        "print(example_sequence)"
      ],
      "outputs": [
        {
          "output_type": "stream",
          "name": "stdout",
          "text": [
            "[1, 2, 3, 4, 5, 1, 6, 7]\n"
          ]
        }
      ],
      "metadata": {
        "id": "CsB3-9uQQYyl",
        "outputId": "25a19046-abe8-4194-d444-813f49e2ed84",
        "colab": {
          "base_uri": "https://localhost:8080/"
        }
      }
    },
    {
      "cell_type": "markdown",
      "source": [
        "### Generate skip-grams from one sentence"
      ],
      "metadata": {
        "id": "ox1I28JRIOdM"
      }
    },
    {
      "cell_type": "markdown",
      "source": [
        "The `tf.keras.preprocessing.sequence` module provides useful functions that simplify data preparation for Word2Vec. You can use the `tf.keras.preprocessing.sequence.skipgrams` to generate skip-gram pairs from the `example_sequence` with a given `window_size` from tokens in the range `[0, vocab_size)`.\n",
        "\n",
        "Note: `negative_samples` is set to `0` here as batching negative samples generated by this function requires a bit of code. You will use another function to perform negative sampling in the next section.\n"
      ],
      "metadata": {
        "id": "t7NNKAmSiHvy"
      }
    },
    {
      "cell_type": "code",
      "execution_count": 38,
      "source": [
        "window_size = 2\n",
        "positive_skip_grams, _ = tf.keras.preprocessing.sequence.skipgrams(\n",
        "      example_sequence,\n",
        "      vocabulary_size=vocab_size,\n",
        "      window_size=window_size,\n",
        "      negative_samples=0)\n",
        "print(len(positive_skip_grams))"
      ],
      "outputs": [
        {
          "output_type": "stream",
          "name": "stdout",
          "text": [
            "26\n"
          ]
        }
      ],
      "metadata": {
        "id": "USAJxW4RD7pn",
        "outputId": "a0163954-7393-4fba-dcdd-b3ad7ad327fb",
        "colab": {
          "base_uri": "https://localhost:8080/"
        }
      }
    },
    {
      "cell_type": "markdown",
      "source": [
        "Take a look at few positive skip-grams."
      ],
      "metadata": {
        "id": "uc9uhiMwY-AQ"
      }
    },
    {
      "cell_type": "code",
      "execution_count": 39,
      "source": [
        "for target, context in positive_skip_grams[:5]:\n",
        "  print(f\"({target}, {context}): ({inverse_vocab[target]}, {inverse_vocab[context]})\")"
      ],
      "outputs": [
        {
          "output_type": "stream",
          "name": "stdout",
          "text": [
            "(3, 5): (road, in)\n",
            "(5, 1): (in, the)\n",
            "(2, 1): (wide, the)\n",
            "(5, 4): (in, shimmered)\n",
            "(7, 6): (sun, hot)\n"
          ]
        }
      ],
      "metadata": {
        "id": "SCnqEukIE9pt",
        "outputId": "fcc8a07d-dca0-4453-f736-9a8c65e3841f",
        "colab": {
          "base_uri": "https://localhost:8080/"
        }
      }
    },
    {
      "cell_type": "markdown",
      "source": [
        "### Negative sampling for one skip-gram "
      ],
      "metadata": {
        "id": "_ua9PkMTISF0"
      }
    },
    {
      "cell_type": "markdown",
      "source": [
        "The `skipgrams` function returns all positive skip-gram pairs by sliding over a given window span. To produce additional skip-gram pairs that would serve as negative samples for training, you need to sample random words from the vocabulary. Use the `tf.random.log_uniform_candidate_sampler` function to sample `num_ns` number of negative samples for a given target word in a window. You can call the function on one skip-grams's target word and pass the context word as true class to exclude it from being sampled.\n"
      ],
      "metadata": {
        "id": "Esqn8WBfZnEK"
      }
    },
    {
      "cell_type": "markdown",
      "source": [
        "Key point: *num_ns* (number of negative samples per positive context word) between [5, 20] is [shown to work](https://papers.nips.cc/paper/5021-distributed-representations-of-words-and-phrases-and-their-compositionality.pdf) best for smaller datasets, while *num_ns* between [2,5] suffices for larger datasets. "
      ],
      "metadata": {
        "id": "AgH3aSvw3xTD"
      }
    },
    {
      "cell_type": "code",
      "execution_count": 40,
      "source": [
        "# Get target and context words for one positive skip-gram.\n",
        "target_word, context_word = positive_skip_grams[0]\n",
        "print(f\"({target}, {context}): ({inverse_vocab[target]}, {inverse_vocab[context]})\")\n",
        "\n",
        "# Set the number of negative samples per positive context.\n",
        "num_ns = 4\n",
        "\n",
        "context_class = tf.reshape(tf.constant(context_word, dtype=\"int64\"), (1, 1))\n",
        "negative_sampling_candidates, _, _ = tf.random.log_uniform_candidate_sampler(\n",
        "    true_classes=context_class,  # class that should be sampled as 'positive'\n",
        "    num_true=1,  # each positive skip-gram has 1 positive context class\n",
        "    num_sampled=num_ns,  # number of negative context words to sample\n",
        "    unique=True,  # all the negative samples should be unique\n",
        "    range_max=vocab_size,  # pick index of the samples from [0, vocab_size]\n",
        "    seed=SEED,  # seed for reproducibility\n",
        "    name=\"negative_sampling\"  # name of this operation\n",
        ")\n",
        "print(negative_sampling_candidates)\n",
        "print([inverse_vocab[index.numpy()] for index in negative_sampling_candidates])"
      ],
      "outputs": [
        {
          "output_type": "stream",
          "name": "stdout",
          "text": [
            "(7, 6): (sun, hot)\n",
            "tf.Tensor([0 1 2 3], shape=(4,), dtype=int64)\n",
            "['<pad>', 'the', 'wide', 'road']\n"
          ]
        }
      ],
      "metadata": {
        "id": "m_LmdzqIGr5L",
        "outputId": "a840d44e-e734-40af-ccef-80d07fb7d388",
        "colab": {
          "base_uri": "https://localhost:8080/"
        }
      }
    },
    {
      "cell_type": "markdown",
      "source": [
        "### Construct one training example"
      ],
      "metadata": {
        "id": "8MSxWCrLIalp"
      }
    },
    {
      "cell_type": "markdown",
      "source": [
        "For a given positive `(target_word, context_word)` skip-gram, you now also have `num_ns` negative sampled context words that do not appear in the window size neighborhood of `target_word`. Batch the `1` positive `context_word` and `num_ns` negative context words into one tensor. This produces a set of positive skip-grams (labelled as `1`) and negative samples (labelled as `0`) for each target word."
      ],
      "metadata": {
        "id": "Q6uEWdj8vKKv"
      }
    },
    {
      "cell_type": "code",
      "execution_count": 41,
      "source": [
        "# Add a dimension so you can use concatenation (on the next step).\n",
        "negative_sampling_candidates = tf.expand_dims(negative_sampling_candidates, 1)\n",
        "\n",
        "# Concat positive context word with negative sampled words.\n",
        "context = tf.concat([context_class, negative_sampling_candidates], 0)\n",
        "\n",
        "# Label first context word as 1 (positive) followed by num_ns 0s (negative).\n",
        "label = tf.constant([1] + [0]*num_ns, dtype=\"int64\")\n",
        "\n",
        "# Reshape target to shape (1,) and context and label to (num_ns+1,).\n",
        "target = tf.squeeze(target_word)\n",
        "context = tf.squeeze(context)\n",
        "label = tf.squeeze(label)"
      ],
      "outputs": [],
      "metadata": {
        "id": "zSiZwifuLvHf"
      }
    },
    {
      "cell_type": "markdown",
      "source": [
        "Take a look at the context and the corresponding labels for the target word from the skip-gram example above. "
      ],
      "metadata": {
        "id": "OIJeoFCAwtXJ"
      }
    },
    {
      "cell_type": "code",
      "execution_count": 42,
      "source": [
        "print(f\"target_index    : {target}\")\n",
        "print(f\"target_word     : {inverse_vocab[target_word]}\")\n",
        "print(f\"context_indices : {context}\")\n",
        "print(f\"context_words   : {[inverse_vocab[c.numpy()] for c in context]}\")\n",
        "print(f\"label           : {label}\")"
      ],
      "outputs": [
        {
          "output_type": "stream",
          "name": "stdout",
          "text": [
            "target_index    : 3\n",
            "target_word     : road\n",
            "context_indices : [5 0 1 2 3]\n",
            "context_words   : ['in', '<pad>', 'the', 'wide', 'road']\n",
            "label           : [1 0 0 0 0]\n"
          ]
        }
      ],
      "metadata": {
        "id": "tzyCPCuZwmdL",
        "outputId": "cf328119-946b-421b-8257-8364ddb447cf",
        "colab": {
          "base_uri": "https://localhost:8080/"
        }
      }
    },
    {
      "cell_type": "markdown",
      "source": [
        "A tuple of `(target, context, label)` tensors constitutes one training example for training your skip-gram negative sampling Word2Vec model. Notice that the target is of shape `(1,)` while the context and label are of shape `(1+num_ns,)`"
      ],
      "metadata": {
        "id": "gBtTcUVQr8EO"
      }
    },
    {
      "cell_type": "code",
      "execution_count": 43,
      "source": [
        "print(\"target  :\", target)\n",
        "print(\"context :\", context)\n",
        "print(\"label   :\", label)"
      ],
      "outputs": [
        {
          "output_type": "stream",
          "name": "stdout",
          "text": [
            "target  : tf.Tensor(3, shape=(), dtype=int32)\n",
            "context : tf.Tensor([5 0 1 2 3], shape=(5,), dtype=int64)\n",
            "label   : tf.Tensor([1 0 0 0 0], shape=(5,), dtype=int64)\n"
          ]
        }
      ],
      "metadata": {
        "id": "x-FwkR8jx9-Z",
        "outputId": "51e49262-35e9-4387-af2f-796dd54d6940",
        "colab": {
          "base_uri": "https://localhost:8080/"
        }
      }
    },
    {
      "cell_type": "markdown",
      "source": [
        "### Summary"
      ],
      "metadata": {
        "id": "4bRJIlow4Dlv"
      }
    },
    {
      "cell_type": "markdown",
      "source": [
        "This picture summarizes the procedure of generating training example from a sentence. \n"
      ],
      "metadata": {
        "id": "pWkuha0oykG5"
      }
    },
    {
      "cell_type": "markdown",
      "source": [
        "![word2vec_negative_sampling](https://tensorflow.org/tutorials/text/images/word2vec_negative_sampling.png)"
      ],
      "metadata": {
        "id": "_KlwdiAa9crJ"
      }
    },
    {
      "cell_type": "markdown",
      "source": [
        "## Compile all steps into one function\n"
      ],
      "metadata": {
        "id": "9wmdO_MEIpaM"
      }
    },
    {
      "cell_type": "markdown",
      "source": [
        "### Skip-gram Sampling table "
      ],
      "metadata": {
        "id": "iLKwNAczHsKg"
      }
    },
    {
      "cell_type": "markdown",
      "source": [
        "A large dataset means larger vocabulary with higher number of more frequent words such as stopwords. Training examples obtained from sampling commonly occurring words (such as `the`, `is`, `on`) don't add much useful information  for the model to learn from. [Mikolov et al.](https://papers.nips.cc/paper/5021-distributed-representations-of-words-and-phrases-and-their-compositionality.pdf) suggest subsampling of frequent words as a helpful practice to improve embedding quality. "
      ],
      "metadata": {
        "id": "TUUK3uDtFNFE"
      }
    },
    {
      "cell_type": "markdown",
      "source": [
        "The `tf.keras.preprocessing.sequence.skipgrams` function accepts a sampling table argument to encode probabilities of sampling any token. You can use the `tf.keras.preprocessing.sequence.make_sampling_table` to  generate a word-frequency rank based probabilistic sampling table and pass it to `skipgrams` function. Take a look at the sampling probabilities for a `vocab_size` of 10."
      ],
      "metadata": {
        "id": "bPtbv7zNP7Dx"
      }
    },
    {
      "cell_type": "code",
      "execution_count": 44,
      "source": [
        "sampling_table = tf.keras.preprocessing.sequence.make_sampling_table(size=10)\n",
        "print(sampling_table)"
      ],
      "outputs": [
        {
          "output_type": "stream",
          "name": "stdout",
          "text": [
            "[0.00315225 0.00315225 0.00547597 0.00741556 0.00912817 0.01068435\n",
            " 0.01212381 0.01347162 0.01474487 0.0159558 ]\n"
          ]
        }
      ],
      "metadata": {
        "id": "Rn9zAnDccyRg",
        "outputId": "89fb6d2f-b086-4f52-af03-b120625a6f30",
        "colab": {
          "base_uri": "https://localhost:8080/"
        }
      }
    },
    {
      "cell_type": "markdown",
      "source": [
        "`sampling_table[i]` denotes the probability of sampling the i-th most common word in a dataset. The function assumes a [Zipf's distribution](https://en.wikipedia.org/wiki/Zipf%27s_law) of the word frequencies for sampling."
      ],
      "metadata": {
        "id": "EHvSptcPk5fp"
      }
    },
    {
      "cell_type": "markdown",
      "source": [
        "Key point: The `tf.random.log_uniform_candidate_sampler` already assumes that the vocabulary frequency follows a log-uniform (Zipf's) distribution. Using these distribution weighted sampling also helps approximate the Noise Contrastive Estimation (NCE) loss with simpler loss functions for training a negative sampling objective."
      ],
      "metadata": {
        "id": "mRHMssMmHgH-"
      }
    },
    {
      "cell_type": "markdown",
      "source": [
        "### Generate training data"
      ],
      "metadata": {
        "id": "aj--8RFK6fgW"
      }
    },
    {
      "cell_type": "markdown",
      "source": [
        "Compile all the steps described above into a function that can be called on a list of vectorized sentences obtained from any text dataset. Notice that the sampling table is built before sampling skip-gram word pairs. You will use this function in the later sections."
      ],
      "metadata": {
        "id": "dy5hl4lQ0B2M"
      }
    },
    {
      "cell_type": "code",
      "execution_count": 45,
      "source": [
        "# Generates skip-gram pairs with negative sampling for a list of sequences\n",
        "# (int-encoded sentences) based on window size, number of negative samples\n",
        "# and vocabulary size.\n",
        "def generate_training_data(sequences, window_size, num_ns, vocab_size, seed):\n",
        "  # Elements of each training example are appended to these lists.\n",
        "  targets, contexts, labels = [], [], []\n",
        "\n",
        "  # Build the sampling table for vocab_size tokens.\n",
        "  sampling_table = tf.keras.preprocessing.sequence.make_sampling_table(vocab_size)\n",
        "\n",
        "  # Iterate over all sequences (sentences) in dataset.\n",
        "  for sequence in tqdm.tqdm(sequences):\n",
        "\n",
        "    # Generate positive skip-gram pairs for a sequence (sentence).\n",
        "    positive_skip_grams, _ = tf.keras.preprocessing.sequence.skipgrams(\n",
        "          sequence,\n",
        "          vocabulary_size=vocab_size,\n",
        "          sampling_table=sampling_table,\n",
        "          window_size=window_size,\n",
        "          negative_samples=0)\n",
        "\n",
        "    # Iterate over each positive skip-gram pair to produce training examples\n",
        "    # with positive context word and negative samples.\n",
        "    for target_word, context_word in positive_skip_grams:\n",
        "      context_class = tf.expand_dims(\n",
        "          tf.constant([context_word], dtype=\"int64\"), 1)\n",
        "      negative_sampling_candidates, _, _ = tf.random.log_uniform_candidate_sampler(\n",
        "          true_classes=context_class,\n",
        "          num_true=1,\n",
        "          num_sampled=num_ns,\n",
        "          unique=True,\n",
        "          range_max=vocab_size,\n",
        "          seed=SEED,\n",
        "          name=\"negative_sampling\")\n",
        "\n",
        "      # Build context and label vectors (for one target word)\n",
        "      negative_sampling_candidates = tf.expand_dims(\n",
        "          negative_sampling_candidates, 1)\n",
        "\n",
        "      context = tf.concat([context_class, negative_sampling_candidates], 0)\n",
        "      label = tf.constant([1] + [0]*num_ns, dtype=\"int64\")\n",
        "\n",
        "      # Append each element from the training example to global lists.\n",
        "      targets.append(target_word)\n",
        "      contexts.append(context)\n",
        "      labels.append(label)\n",
        "\n",
        "  return targets, contexts, labels"
      ],
      "outputs": [],
      "metadata": {
        "id": "63INISDEX1Hu"
      }
    },
    {
      "cell_type": "markdown",
      "source": [
        "## Prepare training data for Word2Vec"
      ],
      "metadata": {
        "id": "shvPC8Ji2cMK"
      }
    },
    {
      "cell_type": "markdown",
      "source": [
        "With an understanding of how to work with one sentence for a skip-gram negative sampling based Word2Vec model, you can proceed to generate training examples from a larger list of sentences!"
      ],
      "metadata": {
        "id": "j5mbZsZu6uKg"
      }
    },
    {
      "cell_type": "markdown",
      "source": [
        "### Download text corpus\n"
      ],
      "metadata": {
        "id": "OFlikI6L26nh"
      }
    },
    {
      "cell_type": "markdown",
      "source": [
        "You will use a text file of Shakespeare's writing for this tutorial. Change the following line to run this code on your own data."
      ],
      "metadata": {
        "id": "rEFavOgN98al"
      }
    },
    {
      "cell_type": "code",
      "execution_count": 46,
      "source": [
        "path_to_file = './data/shakespeare.txt'\n",
        "#path_to_file = tf.keras.utils.get_file('shakespeare.txt', 'https://storage.googleapis.com/download.tensorflow.org/data/shakespeare.txt')"
      ],
      "outputs": [],
      "metadata": {
        "id": "QFkitxzVVaAi",
        "outputId": "4b3bce85-92ae-4963-95fa-835535fda323",
        "colab": {
          "base_uri": "https://localhost:8080/"
        }
      }
    },
    {
      "cell_type": "markdown",
      "source": [
        "Read text from the file and take a look at the first few lines. "
      ],
      "metadata": {
        "id": "sOsbLq8a37dr"
      }
    },
    {
      "cell_type": "code",
      "execution_count": 47,
      "source": [
        "with open(path_to_file) as f: \n",
        "  lines = f.read().splitlines()\n",
        "for line in lines[:20]:\n",
        "  print(line)"
      ],
      "outputs": [
        {
          "output_type": "stream",
          "name": "stdout",
          "text": [
            "First Citizen:\n",
            "Before we proceed any further, hear me speak.\n",
            "\n",
            "All:\n",
            "Speak, speak.\n",
            "\n",
            "First Citizen:\n",
            "You are all resolved rather to die than to famish?\n",
            "\n",
            "All:\n",
            "Resolved. resolved.\n",
            "\n",
            "First Citizen:\n",
            "First, you know Caius Marcius is chief enemy to the people.\n",
            "\n",
            "All:\n",
            "We know't, we know't.\n",
            "\n",
            "First Citizen:\n",
            "Let us kill him, and we'll have corn at our own price.\n"
          ]
        }
      ],
      "metadata": {
        "id": "lfgnsUw3ofMD",
        "outputId": "9ed867a0-5c59-496e-99ad-b1244503da00",
        "colab": {
          "base_uri": "https://localhost:8080/"
        }
      }
    },
    {
      "cell_type": "markdown",
      "source": [
        "Use the non empty lines to construct a `tf.data.TextLineDataset` object for next steps."
      ],
      "metadata": {
        "id": "gTNZYqUs5C2V"
      }
    },
    {
      "cell_type": "code",
      "execution_count": 48,
      "source": [
        "text_ds = tf.data.TextLineDataset(path_to_file).filter(lambda x: tf.cast(tf.strings.length(x), bool))"
      ],
      "outputs": [],
      "metadata": {
        "id": "ViDrwy-HjAs9"
      }
    },
    {
      "cell_type": "markdown",
      "source": [
        "### Vectorize sentences from the corpus"
      ],
      "metadata": {
        "id": "vfsc88zE9upk"
      }
    },
    {
      "cell_type": "markdown",
      "source": [
        "You can use the `TextVectorization` layer to vectorize sentences from the corpus. Learn more about using this layer in this [Text Classification](https://www.tensorflow.org/tutorials/keras/text_classification) tutorial. Notice from the first few sentences above that the text needs to be in one case and punctuation needs to be removed. To do this, define a `custom_standardization function` that can be used in the TextVectorization layer."
      ],
      "metadata": {
        "id": "XfgZo8zR94KK"
      }
    },
    {
      "cell_type": "code",
      "execution_count": 49,
      "source": [
        "# Now, create a custom standardization function to lowercase the text and\n",
        "# remove punctuation.\n",
        "def custom_standardization(input_data):\n",
        "  lowercase = tf.strings.lower(input_data)\n",
        "  return tf.strings.regex_replace(lowercase,\n",
        "                                  '[%s]' % re.escape(string.punctuation), '')\n",
        "\n",
        "\n",
        "# Define the vocabulary size and number of words in a sequence.\n",
        "vocab_size = 4096\n",
        "sequence_length = 10\n",
        "\n",
        "# Use the text vectorization layer to normalize, split, and map strings to\n",
        "# integers. Set output_sequence_length length to pad all samples to same length.\n",
        "vectorize_layer = layers.experimental.preprocessing.TextVectorization(\n",
        "    standardize=custom_standardization,\n",
        "    max_tokens=vocab_size,\n",
        "    output_mode='int',\n",
        "    output_sequence_length=sequence_length)"
      ],
      "outputs": [],
      "metadata": {
        "id": "2MlsXzo-ZlfK"
      }
    },
    {
      "cell_type": "markdown",
      "source": [
        "Call `adapt` on the text dataset to create vocabulary.\n"
      ],
      "metadata": {
        "id": "g92LuvnyBmz1"
      }
    },
    {
      "cell_type": "code",
      "execution_count": 50,
      "source": [
        "vectorize_layer.adapt(text_ds.batch(1024))"
      ],
      "outputs": [],
      "metadata": {
        "id": "seZau_iYMPFT"
      }
    },
    {
      "cell_type": "markdown",
      "source": [
        "Once the state of the layer has been adapted to represent the text corpus, the vocabulary can be accessed with `get_vocabulary()`. This function returns a list of all vocabulary tokens sorted (descending) by their frequency. "
      ],
      "metadata": {
        "id": "jg2z7eeHMnH-"
      }
    },
    {
      "cell_type": "code",
      "execution_count": 51,
      "source": [
        "# Save the created vocabulary for reference.\n",
        "inverse_vocab = vectorize_layer.get_vocabulary()\n",
        "print(inverse_vocab[:20])"
      ],
      "outputs": [
        {
          "output_type": "stream",
          "name": "stdout",
          "text": [
            "['', '[UNK]', 'the', 'and', 'to', 'i', 'of', 'you', 'my', 'a', 'that', 'in', 'is', 'not', 'for', 'with', 'me', 'it', 'be', 'your']\n"
          ]
        }
      ],
      "metadata": {
        "id": "jgw9pTA7MRaU",
        "outputId": "6d8b7778-8ba8-447e-ff49-1860de07c0d9",
        "colab": {
          "base_uri": "https://localhost:8080/"
        }
      }
    },
    {
      "cell_type": "markdown",
      "source": [
        "The vectorize_layer can now be used to generate vectors for each element in the `text_ds`."
      ],
      "metadata": {
        "id": "DOQ30Tx6KA2G"
      }
    },
    {
      "cell_type": "code",
      "execution_count": 52,
      "source": [
        "# Vectorize the data in text_ds.\n",
        "text_vector_ds = text_ds.batch(1024).prefetch(AUTOTUNE).map(vectorize_layer).unbatch()"
      ],
      "outputs": [],
      "metadata": {
        "id": "yUVYrDp0araQ"
      }
    },
    {
      "cell_type": "markdown",
      "source": [
        "### Obtain sequences from the dataset"
      ],
      "metadata": {
        "id": "7YyH_SYzB72p"
      }
    },
    {
      "cell_type": "markdown",
      "source": [
        "You now have a `tf.data.Dataset` of integer encoded sentences. To prepare the dataset for training a Word2Vec model, flatten the dataset into a list of sentence vector sequences. This step is required as you would iterate over each sentence in the dataset to produce positive and negative examples. \n",
        "\n",
        "Note: Since the `generate_training_data()` defined earlier uses non-TF python/numpy functions, you could also use a `tf.py_function` or `tf.numpy_function` with `tf.data.Dataset.map()`."
      ],
      "metadata": {
        "id": "NFUQLX0_KaRC"
      }
    },
    {
      "cell_type": "code",
      "execution_count": 53,
      "source": [
        "sequences = list(text_vector_ds.as_numpy_iterator())\n",
        "print(len(sequences))"
      ],
      "outputs": [
        {
          "output_type": "stream",
          "name": "stdout",
          "text": [
            "32777\n"
          ]
        }
      ],
      "metadata": {
        "id": "sGXoOh9y11pM",
        "outputId": "6cf46a57-79e9-4982-c73c-b9575d4d2da6",
        "colab": {
          "base_uri": "https://localhost:8080/"
        }
      }
    },
    {
      "cell_type": "markdown",
      "source": [
        "Take a look at few examples from `sequences`.\n"
      ],
      "metadata": {
        "id": "tDc4riukLTqg"
      }
    },
    {
      "cell_type": "code",
      "execution_count": 54,
      "source": [
        "for seq in sequences[:5]:\n",
        "  print(f\"{seq} => {[inverse_vocab[i] for i in seq]}\")"
      ],
      "outputs": [
        {
          "output_type": "stream",
          "name": "stdout",
          "text": [
            "[ 89 270   0   0   0   0   0   0   0   0] => ['first', 'citizen', '', '', '', '', '', '', '', '']\n",
            "[138  36 982 144 673 125  16 106   0   0] => ['before', 'we', 'proceed', 'any', 'further', 'hear', 'me', 'speak', '', '']\n",
            "[34  0  0  0  0  0  0  0  0  0] => ['all', '', '', '', '', '', '', '', '', '']\n",
            "[106 106   0   0   0   0   0   0   0   0] => ['speak', 'speak', '', '', '', '', '', '', '', '']\n",
            "[ 89 270   0   0   0   0   0   0   0   0] => ['first', 'citizen', '', '', '', '', '', '', '', '']\n"
          ]
        }
      ],
      "metadata": {
        "id": "WZf1RIbB2Dfb",
        "outputId": "fb4e5380-40cb-4204-bfbf-9cc223948386",
        "colab": {
          "base_uri": "https://localhost:8080/"
        }
      }
    },
    {
      "cell_type": "markdown",
      "source": [
        "### Generate training examples from sequences"
      ],
      "metadata": {
        "id": "yDzSOjNwCWNh"
      }
    },
    {
      "cell_type": "markdown",
      "source": [
        "`sequences` is now a list of int encoded sentences. Just call the `generate_training_data()` function defined earlier to generate training examples for the Word2Vec model. To recap, the function iterates over each word from each sequence to collect positive and negative context words. Length of target, contexts and labels should be same, representing the total number of training examples."
      ],
      "metadata": {
        "id": "BehvYr-nEKyY"
      }
    },
    {
      "cell_type": "code",
      "execution_count": 55,
      "source": [
        "targets, contexts, labels = generate_training_data(\n",
        "    sequences=sequences,\n",
        "    window_size=2,\n",
        "    num_ns=4,\n",
        "    vocab_size=vocab_size,\n",
        "    seed=SEED)\n",
        "\n",
        "targets = np.array(targets)\n",
        "contexts = np.array(contexts)[:,:,0]\n",
        "labels = np.array(labels)\n",
        "\n",
        "print('\\n')\n",
        "print(f\"targets.shape: {targets.shape}\")\n",
        "print(f\"contexts.shape: {contexts.shape}\")\n",
        "print(f\"labels.shape: {labels.shape}\")\n"
      ],
      "outputs": [
        {
          "output_type": "stream",
          "name": "stderr",
          "text": [
            "100%|██████████| 32777/32777 [00:07<00:00, 4167.50it/s]\n"
          ]
        },
        {
          "output_type": "stream",
          "name": "stdout",
          "text": [
            "\n",
            "\n",
            "targets.shape: (65084,)\n",
            "contexts.shape: (65084, 5)\n",
            "labels.shape: (65084, 5)\n"
          ]
        }
      ],
      "metadata": {
        "id": "44DJ22M6nX5o",
        "outputId": "e580ed03-cfc0-4fba-c9da-a561d584eff9",
        "colab": {
          "base_uri": "https://localhost:8080/"
        }
      }
    },
    {
      "cell_type": "markdown",
      "source": [
        "### Configure the dataset for performance"
      ],
      "metadata": {
        "id": "97PqsusOFEpc"
      }
    },
    {
      "cell_type": "markdown",
      "source": [
        "To perform efficient batching for the potentially large number of training examples, use the `tf.data.Dataset` API. After this step, you would have a `tf.data.Dataset` object of `(target_word, context_word), (label)` elements to train your Word2Vec model!"
      ],
      "metadata": {
        "id": "7jnFVySViQTj"
      }
    },
    {
      "cell_type": "code",
      "execution_count": 56,
      "source": [
        "BATCH_SIZE = 1024\n",
        "BUFFER_SIZE = 10000\n",
        "dataset = tf.data.Dataset.from_tensor_slices(((targets, contexts), labels))\n",
        "dataset = dataset.shuffle(BUFFER_SIZE).batch(BATCH_SIZE, drop_remainder=True)\n",
        "print(dataset)"
      ],
      "outputs": [
        {
          "output_type": "stream",
          "name": "stdout",
          "text": [
            "<BatchDataset shapes: (((1024,), (1024, 5)), (1024, 5)), types: ((tf.int64, tf.int64), tf.int64)>\n"
          ]
        }
      ],
      "metadata": {
        "id": "nbu8PxPSnVY2",
        "outputId": "71b7d454-31fb-4197-b10f-a61fb6625ed0",
        "colab": {
          "base_uri": "https://localhost:8080/"
        }
      }
    },
    {
      "cell_type": "code",
      "execution_count": 57,
      "source": [
        "((targets, contexts), labels)"
      ],
      "outputs": [
        {
          "output_type": "execute_result",
          "data": {
            "text/plain": [
              "((array([ 270, 1286, 1286, ...,  674,  152,  555]),\n",
              "  array([[  89,   20, 1505,    9,  710],\n",
              "         [ 344,   33,  940,    4,  766],\n",
              "         [   4,   20, 3752,  613,  277],\n",
              "         ...,\n",
              "         [  82,  155, 3192, 2361,   23],\n",
              "         [ 555, 2151,  225,   45,   20],\n",
              "         [ 152,  357,    7,  153, 1412]])),\n",
              " array([[1, 0, 0, 0, 0],\n",
              "        [1, 0, 0, 0, 0],\n",
              "        [1, 0, 0, 0, 0],\n",
              "        ...,\n",
              "        [1, 0, 0, 0, 0],\n",
              "        [1, 0, 0, 0, 0],\n",
              "        [1, 0, 0, 0, 0]]))"
            ]
          },
          "metadata": {},
          "execution_count": 57
        }
      ],
      "metadata": {}
    },
    {
      "cell_type": "markdown",
      "source": [
        "Add `cache()` and `prefetch()` to improve performance."
      ],
      "metadata": {
        "id": "tyrNX6Fs6K3F"
      }
    },
    {
      "cell_type": "code",
      "execution_count": 58,
      "source": [
        "dataset = dataset.cache().prefetch(buffer_size=AUTOTUNE)\n",
        "print(dataset)"
      ],
      "outputs": [
        {
          "output_type": "stream",
          "name": "stdout",
          "text": [
            "<PrefetchDataset shapes: (((1024,), (1024, 5)), (1024, 5)), types: ((tf.int64, tf.int64), tf.int64)>\n"
          ]
        }
      ],
      "metadata": {
        "id": "Y5Ueg6bcFPVL",
        "outputId": "307f2c62-e7ca-48aa-95a8-ba4cbfd01e86",
        "colab": {
          "base_uri": "https://localhost:8080/"
        }
      }
    },
    {
      "cell_type": "markdown",
      "source": [
        "## Model and Training"
      ],
      "metadata": {
        "id": "1S-CmUMszyEf"
      }
    },
    {
      "cell_type": "markdown",
      "source": [
        "The Word2Vec model can be implemented as a classifier to distinguish between true context words from skip-grams and false context words obtained through negative sampling. You can perform a dot product between the embeddings of target and context words to obtain predictions for labels and compute loss against true labels in the dataset."
      ],
      "metadata": {
        "id": "sQFqaBMPwBqC"
      }
    },
    {
      "cell_type": "markdown",
      "source": [
        "### Subclassed Word2Vec Model"
      ],
      "metadata": {
        "id": "oc7kTbiwD9sy"
      }
    },
    {
      "cell_type": "markdown",
      "source": [
        "Use the [Keras Subclassing API](https://www.tensorflow.org/guide/keras/custom_layers_and_models) to define your Word2Vec model with the following layers:\n",
        "\n",
        "\n",
        "* `target_embedding`: A `tf.keras.layers.Embedding` layer which looks up the embedding of a word when it appears as a target word. The number of parameters in this layer are `(vocab_size * embedding_dim)`.\n",
        "* `context_embedding`: Another `tf.keras.layers.Embedding` layer which looks up the embedding of a word when it appears as a context word. The number of parameters in this layer are the same as those in `target_embedding`, i.e. `(vocab_size * embedding_dim)`.\n",
        "* `dots`: A `tf.keras.layers.Dot` layer that computes the dot product of target and context embeddings from a training pair.\n",
        "* `flatten`: A `tf.keras.layers.Flatten` layer to flatten the results of `dots` layer into logits.\n",
        "\n",
        "With the subclassed model, you can define the `call()` function that accepts `(target, context)` pairs which can then be passed into their corresponding embedding layer. Reshape the `context_embedding` to perform a dot product with `target_embedding` and return the flattened result."
      ],
      "metadata": {
        "id": "Jvr9pM1G1sQN"
      }
    },
    {
      "cell_type": "markdown",
      "source": [
        "Key point: The `target_embedding` and `context_embedding` layers can be shared as well. You could also use a concatenation of both embeddings as the final Word2Vec embedding."
      ],
      "metadata": {
        "id": "KiAwuIqqw7-7"
      }
    },
    {
      "cell_type": "code",
      "execution_count": 59,
      "source": [
        "class Word2Vec(tf.keras.Model):\n",
        "  def __init__(self, vocab_size, embedding_dim):\n",
        "    super(Word2Vec, self).__init__()\n",
        "    self.target_embedding = layers.Embedding(vocab_size,\n",
        "                                      embedding_dim,\n",
        "                                      input_length=1,\n",
        "                                      name=\"w2v_embedding\")\n",
        "    self.context_embedding = layers.Embedding(vocab_size,\n",
        "                                       embedding_dim,\n",
        "                                       input_length=num_ns+1)\n",
        "\n",
        "  def call(self, pair):\n",
        "    target, context = pair\n",
        "    # target: (batch, dummy?)  # The dummy axis doesn't exist in TF2.7+\n",
        "    # context: (batch, context)\n",
        "    if len(target.shape) == 2:\n",
        "      target = tf.squeeze(target, axis=1)\n",
        "    # target: (batch,)\n",
        "    word_emb = self.target_embedding(target)\n",
        "    # word_emb: (batch, embed)\n",
        "    context_emb = self.context_embedding(context)\n",
        "    # context_emb: (batch, context, embed)\n",
        "    dots = tf.einsum('be,bce->bc', word_emb, context_emb)\n",
        "    # dots: (batch, context)\n",
        "    return dots"
      ],
      "outputs": [],
      "metadata": {
        "id": "i9ec-sS6xd8Z"
      }
    },
    {
      "cell_type": "markdown",
      "source": [
        "### Define loss function and compile model\n"
      ],
      "metadata": {
        "id": "-RLKz9LFECXu"
      }
    },
    {
      "cell_type": "markdown",
      "source": [
        "For simplicity, you can use `tf.keras.losses.CategoricalCrossEntropy` as an alternative to the negative sampling loss. If you would like to write your own custom loss function, you can also do so as follows:\n",
        "\n",
        "``` python\n",
        "def custom_loss(x_logit, y_true):\n",
        "      return tf.nn.sigmoid_cross_entropy_with_logits(logits=x_logit, labels=y_true)\n",
        "```\n",
        "\n",
        "It's time to build your model! Instantiate your Word2Vec class with an embedding dimension of 128 (you could experiment with different values). Compile the model with the `tf.keras.optimizers.Adam` optimizer. "
      ],
      "metadata": {
        "id": "I3Md-9QanqBM"
      }
    },
    {
      "cell_type": "code",
      "execution_count": 60,
      "source": [
        "embedding_dim = 128\n",
        "word2vec = Word2Vec(vocab_size, embedding_dim)\n",
        "word2vec.compile(optimizer='adam',\n",
        "                 loss=tf.keras.losses.CategoricalCrossentropy(from_logits=True),\n",
        "                 metrics=['accuracy'])"
      ],
      "outputs": [],
      "metadata": {
        "id": "ekQg_KbWnnmQ"
      }
    },
    {
      "cell_type": "markdown",
      "source": [
        "Also define a callback to log training statistics for tensorboard."
      ],
      "metadata": {
        "id": "P3MUMrluqNX2"
      }
    },
    {
      "cell_type": "code",
      "execution_count": 61,
      "source": [
        "tensorboard_callback = tf.keras.callbacks.TensorBoard(log_dir=\"logs\")"
      ],
      "outputs": [
        {
          "output_type": "stream",
          "name": "stderr",
          "text": [
            "2021-08-21 10:02:18.961809: I tensorflow/core/profiler/lib/profiler_session.cc:131] Profiler session initializing.\n",
            "2021-08-21 10:02:18.961834: I tensorflow/core/profiler/lib/profiler_session.cc:146] Profiler session started.\n",
            "2021-08-21 10:02:18.963858: I tensorflow/core/profiler/lib/profiler_session.cc:164] Profiler session tear down.\n"
          ]
        }
      ],
      "metadata": {
        "id": "9d-ftBCeEZIR"
      }
    },
    {
      "cell_type": "markdown",
      "source": [
        "Train the model with `dataset` prepared above for some number of epochs."
      ],
      "metadata": {
        "id": "h5wEBotlGZ7B"
      }
    },
    {
      "cell_type": "code",
      "execution_count": 62,
      "source": [
        "word2vec.fit(dataset, epochs=20, callbacks=[tensorboard_callback])"
      ],
      "outputs": [
        {
          "output_type": "stream",
          "name": "stdout",
          "text": [
            "Epoch 1/20\n",
            "10/63 [===>..........................] - ETA: 0s - loss: 1.6093 - accuracy: 0.2136"
          ]
        },
        {
          "output_type": "stream",
          "name": "stderr",
          "text": [
            "2021-08-21 10:02:19.604284: I tensorflow/core/profiler/lib/profiler_session.cc:131] Profiler session initializing.\n",
            "2021-08-21 10:02:19.604303: I tensorflow/core/profiler/lib/profiler_session.cc:146] Profiler session started.\n",
            "2021-08-21 10:02:19.619873: I tensorflow/core/profiler/lib/profiler_session.cc:66] Profiler session collecting data.\n",
            "2021-08-21 10:02:19.638541: I tensorflow/core/profiler/lib/profiler_session.cc:164] Profiler session tear down.\n",
            "2021-08-21 10:02:19.655268: I tensorflow/core/profiler/rpc/client/save_profile.cc:136] Creating directory: logs/train/plugins/profile/2021_08_21_10_02_19\n",
            "\n",
            "2021-08-21 10:02:19.662922: I tensorflow/core/profiler/rpc/client/save_profile.cc:142] Dumped gzipped tool data for trace.json.gz to logs/train/plugins/profile/2021_08_21_10_02_19/dami.trace.json.gz\n",
            "2021-08-21 10:02:19.682848: I tensorflow/core/profiler/rpc/client/save_profile.cc:136] Creating directory: logs/train/plugins/profile/2021_08_21_10_02_19\n",
            "\n",
            "2021-08-21 10:02:19.683742: I tensorflow/core/profiler/rpc/client/save_profile.cc:142] Dumped gzipped tool data for memory_profile.json.gz to logs/train/plugins/profile/2021_08_21_10_02_19/dami.memory_profile.json.gz\n",
            "2021-08-21 10:02:19.685549: I tensorflow/core/profiler/rpc/client/capture_profile.cc:251] Creating directory: logs/train/plugins/profile/2021_08_21_10_02_19\n",
            "Dumped tool data for xplane.pb to logs/train/plugins/profile/2021_08_21_10_02_19/dami.xplane.pb\n",
            "Dumped tool data for overview_page.pb to logs/train/plugins/profile/2021_08_21_10_02_19/dami.overview_page.pb\n",
            "Dumped tool data for input_pipeline.pb to logs/train/plugins/profile/2021_08_21_10_02_19/dami.input_pipeline.pb\n",
            "Dumped tool data for tensorflow_stats.pb to logs/train/plugins/profile/2021_08_21_10_02_19/dami.tensorflow_stats.pb\n",
            "Dumped tool data for kernel_stats.pb to logs/train/plugins/profile/2021_08_21_10_02_19/dami.kernel_stats.pb\n",
            "\n"
          ]
        },
        {
          "output_type": "stream",
          "name": "stdout",
          "text": [
            "63/63 [==============================] - 2s 17ms/step - loss: 1.6082 - accuracy: 0.2341\n",
            "Epoch 2/20\n",
            "63/63 [==============================] - 1s 13ms/step - loss: 1.5887 - accuracy: 0.5513\n",
            "Epoch 3/20\n",
            "63/63 [==============================] - 1s 10ms/step - loss: 1.5410 - accuracy: 0.5958\n",
            "Epoch 4/20\n",
            "63/63 [==============================] - 1s 11ms/step - loss: 1.4590 - accuracy: 0.5702\n",
            "Epoch 5/20\n",
            "63/63 [==============================] - 1s 10ms/step - loss: 1.3620 - accuracy: 0.5764\n",
            "Epoch 6/20\n",
            "63/63 [==============================] - 1s 12ms/step - loss: 1.2658 - accuracy: 0.6053\n",
            "Epoch 7/20\n",
            "63/63 [==============================] - 1s 13ms/step - loss: 1.1755 - accuracy: 0.6409\n",
            "Epoch 8/20\n",
            "63/63 [==============================] - 1s 11ms/step - loss: 1.0915 - accuracy: 0.6762\n",
            "Epoch 9/20\n",
            "63/63 [==============================] - 1s 11ms/step - loss: 1.0133 - accuracy: 0.7085\n",
            "Epoch 10/20\n",
            "63/63 [==============================] - 1s 11ms/step - loss: 0.9405 - accuracy: 0.7378\n",
            "Epoch 11/20\n",
            "63/63 [==============================] - 1s 10ms/step - loss: 0.8731 - accuracy: 0.7628\n",
            "Epoch 12/20\n",
            "63/63 [==============================] - 1s 10ms/step - loss: 0.8107 - accuracy: 0.7866\n",
            "Epoch 13/20\n",
            "63/63 [==============================] - 1s 10ms/step - loss: 0.7534 - accuracy: 0.8068\n",
            "Epoch 14/20\n",
            "63/63 [==============================] - 1s 9ms/step - loss: 0.7007 - accuracy: 0.8237\n",
            "Epoch 15/20\n",
            "63/63 [==============================] - 1s 10ms/step - loss: 0.6526 - accuracy: 0.8397\n",
            "Epoch 16/20\n",
            "63/63 [==============================] - 1s 9ms/step - loss: 0.6087 - accuracy: 0.8534\n",
            "Epoch 17/20\n",
            "63/63 [==============================] - 1s 10ms/step - loss: 0.5687 - accuracy: 0.8654\n",
            "Epoch 18/20\n",
            "63/63 [==============================] - 1s 11ms/step - loss: 0.5323 - accuracy: 0.8763\n",
            "Epoch 19/20\n",
            "63/63 [==============================] - 1s 11ms/step - loss: 0.4992 - accuracy: 0.8852\n",
            "Epoch 20/20\n",
            "63/63 [==============================] - 1s 10ms/step - loss: 0.4691 - accuracy: 0.8940\n"
          ]
        },
        {
          "output_type": "execute_result",
          "data": {
            "text/plain": [
              "<keras.callbacks.History at 0x147cae250>"
            ]
          },
          "metadata": {},
          "execution_count": 62
        }
      ],
      "metadata": {
        "id": "gmC1BJalEZIY",
        "outputId": "7aca38d2-b6ae-459d-f818-69df44979785",
        "colab": {
          "base_uri": "https://localhost:8080/"
        }
      }
    },
    {
      "cell_type": "markdown",
      "source": [
        "Tensorboard now shows the Word2Vec model's accuracy and loss."
      ],
      "metadata": {
        "id": "wze38jG57XvZ"
      }
    },
    {
      "cell_type": "code",
      "execution_count": 63,
      "source": [
        "#docs_infra: no_execute\n",
        "%tensorboard --logdir logs"
      ],
      "outputs": [
        {
          "output_type": "display_data",
          "data": {
            "text/plain": [
              "Reusing TensorBoard on port 6006 (pid 22183), started 1 day, 14:12:01 ago. (Use '!kill 22183' to kill it.)"
            ]
          },
          "metadata": {}
        },
        {
          "output_type": "display_data",
          "data": {
            "text/plain": [
              "<IPython.core.display.HTML object>"
            ],
            "text/html": [
              "\n",
              "      <iframe id=\"tensorboard-frame-edbd5294e6a5ad23\" width=\"100%\" height=\"800\" frameborder=\"0\">\n",
              "      </iframe>\n",
              "      <script>\n",
              "        (function() {\n",
              "          const frame = document.getElementById(\"tensorboard-frame-edbd5294e6a5ad23\");\n",
              "          const url = new URL(\"http://localhost\");\n",
              "          const port = 6006;\n",
              "          if (port) {\n",
              "            url.port = port;\n",
              "          }\n",
              "          frame.src = url;\n",
              "        })();\n",
              "      </script>\n",
              "    "
            ]
          },
          "metadata": {}
        }
      ],
      "metadata": {
        "id": "22E9eqS55rgz",
        "outputId": "46b2401c-1aee-4ca2-ca59-2ebad1564bde",
        "colab": {
          "base_uri": "https://localhost:8080/",
          "height": 34
        }
      }
    },
    {
      "cell_type": "markdown",
      "source": [
        "<!-- <img class=\"tfo-display-only-on-site\" src=\"images/word2vec_tensorboard.png\"/> -->"
      ],
      "metadata": {
        "id": "awF3iRQCZOLj"
      }
    },
    {
      "cell_type": "markdown",
      "source": [
        "## Embedding lookup and analysis"
      ],
      "metadata": {
        "id": "TaDW2tIIz8fL"
      }
    },
    {
      "cell_type": "markdown",
      "source": [
        "Obtain the weights from the model using `get_layer()` and `get_weights()`. The `get_vocabulary()` function provides the vocabulary to build a metadata file with one token per line. "
      ],
      "metadata": {
        "id": "Zp5rv01WG2YA"
      }
    },
    {
      "cell_type": "code",
      "execution_count": 64,
      "source": [
        "weights = word2vec.get_layer('w2v_embedding').get_weights()[0]\n",
        "vocab = vectorize_layer.get_vocabulary()"
      ],
      "outputs": [],
      "metadata": {
        "id": "_Uamp1YH8RzU"
      }
    },
    {
      "cell_type": "code",
      "execution_count": 65,
      "source": [
        "print(vocab[35])  # the word 'king'\n",
        "weights[35]  # the embedding of 'king', which is 128 numbers"
      ],
      "outputs": [
        {
          "output_type": "stream",
          "name": "stdout",
          "text": [
            "king\n"
          ]
        },
        {
          "output_type": "execute_result",
          "data": {
            "text/plain": [
              "array([-0.13906744,  0.07102838,  0.34214616, -0.28803253,  0.23818973,\n",
              "       -0.08926059,  0.20256689, -0.00477764,  0.13042822,  0.45705867,\n",
              "       -0.06111234, -0.25668696,  0.13285795, -0.1131376 ,  0.12004066,\n",
              "       -0.06051022,  0.1911341 ,  0.09385409,  0.1798202 , -0.04510949,\n",
              "       -0.07641023,  0.18839626,  0.10783333, -0.15326418, -0.21165314,\n",
              "       -0.03276925,  0.19409114, -0.35290536, -0.37472263,  0.14393158,\n",
              "        0.6726988 ,  0.26012266, -0.21696398, -0.10729238, -0.4980652 ,\n",
              "       -0.27207392,  0.21032602, -0.29857683,  0.14381056, -0.17632484,\n",
              "       -0.08554379, -0.35893327,  0.45258316, -0.29249963, -0.3818636 ,\n",
              "       -0.01914478, -0.06991515, -0.06225634, -0.01468783, -0.13985564,\n",
              "        0.13025723, -0.20273675, -0.16178645,  0.13965248,  0.22912584,\n",
              "       -0.02190932, -0.08465158, -0.06939588,  0.32011455,  0.28773648,\n",
              "        0.06450991, -0.18747048, -0.03236318, -0.463951  , -0.05565956,\n",
              "       -0.40472662, -0.09417604,  0.06254228,  0.02053447, -0.19341926,\n",
              "       -0.00241686,  0.00285584,  0.17950852,  0.4012509 , -0.00815603,\n",
              "       -0.23225819,  0.25739044, -0.17111881, -0.26593336,  0.18752812,\n",
              "       -0.01324514, -0.06465387,  0.15520723,  0.08049463,  0.23605613,\n",
              "       -0.03532342, -0.33824855, -0.24275987, -0.07842063,  0.00479652,\n",
              "       -0.22259404,  0.20198996,  0.12441073, -0.03286575, -0.05883959,\n",
              "        0.36661956,  0.30472812,  0.0906205 ,  0.04897934,  0.14046487,\n",
              "        0.16887331,  0.40802982, -0.02899419, -0.18445556, -0.24784097,\n",
              "       -0.33391505,  0.26572287,  0.1482992 ,  0.39326957,  0.02696608,\n",
              "        0.17083898, -0.0054456 ,  0.5369927 ,  0.2357446 , -0.04679171,\n",
              "        0.3136136 , -0.41508657, -0.44804376, -0.21723992,  0.08493284,\n",
              "       -0.10883321, -0.23373407,  0.02167991, -0.16421169, -0.21527278,\n",
              "        0.1517767 ,  0.15488127, -0.23742837], dtype=float32)"
            ]
          },
          "metadata": {},
          "execution_count": 65
        }
      ],
      "metadata": {}
    },
    {
      "cell_type": "markdown",
      "source": [
        "Create and save the vectors and metadata file. "
      ],
      "metadata": {
        "id": "gWzdmUzS8Sl4"
      }
    },
    {
      "cell_type": "code",
      "execution_count": 66,
      "source": [
        "# vectors has 128 numbers per line for each word\n",
        "# metadata has the corresponding word\n",
        "out_v = io.open('vectors.tsv', 'w', encoding='utf-8')\n",
        "out_m = io.open('metadata.tsv', 'w', encoding='utf-8')\n",
        "\n",
        "for index, word in enumerate(vocab):\n",
        "  if index == 0:\n",
        "    continue  # skip 0, it's padding.\n",
        "  vec = weights[index]\n",
        "  out_v.write('\\t'.join([str(x) for x in vec]) + \"\\n\")\n",
        "  out_m.write(word + \"\\n\")\n",
        "out_v.close()\n",
        "out_m.close()"
      ],
      "outputs": [],
      "metadata": {
        "id": "VLIahl9s53XT"
      }
    },
    {
      "cell_type": "markdown",
      "source": [
        "Download the `vectors.tsv` and `metadata.tsv` to analyze the obtained embeddings in the [Embedding Projector](https://projector.tensorflow.org/)."
      ],
      "metadata": {
        "id": "1T8KcThhIU8-"
      }
    },
    {
      "cell_type": "markdown",
      "source": [
        "## Next steps\n"
      ],
      "metadata": {
        "id": "iS_uMeMw3Xpj"
      }
    },
    {
      "cell_type": "markdown",
      "source": [
        "This tutorial has shown you how to implement a skip-gram Word2Vec model with negative sampling from scratch and visualize the obtained word embeddings.\n",
        "\n",
        "* To learn more about word vectors and their mathematical representations, refer to these [notes](https://web.stanford.edu/class/cs224n/readings/cs224n-2019-notes01-wordvecs1.pdf).\n",
        "\n",
        "* To learn more about advanced text processing, read the [Transformer model for language understanding](https://www.tensorflow.org/tutorials/text/transformer) tutorial.\n",
        "\n",
        "* If you’re interested in pre-trained embedding models, you may also be interested in [Exploring the TF-Hub CORD-19 Swivel Embeddings](https://www.tensorflow.org/hub/tutorials/cord_19_embeddings_keras), or the [Multilingual Universal Sentence Encoder](https://www.tensorflow.org/hub/tutorials/cross_lingual_similarity_with_tf_hub_multilingual_universal_encoder)\n",
        "\n",
        "* You may also like to train the model on a new dataset (there are many available in [TensorFlow Datasets](https://www.tensorflow.org/datasets)).\n"
      ],
      "metadata": {
        "id": "BSgAZpwF5xF_"
      }
    }
  ]
}