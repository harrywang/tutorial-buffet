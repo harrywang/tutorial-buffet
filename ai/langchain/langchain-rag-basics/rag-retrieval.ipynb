{
 "cells": [
  {
   "cell_type": "code",
   "execution_count": 5,
   "metadata": {},
   "outputs": [],
   "source": [
    "import os\n",
    "import openai\n",
    "\n",
    "from dotenv import load_dotenv, find_dotenv\n",
    "_ = load_dotenv(find_dotenv()) # read local .env file\n",
    "\n",
    "openai.api_key  = os.environ['OPENAI_API_KEY']"
   ]
  },
  {
   "cell_type": "code",
   "execution_count": 6,
   "metadata": {},
   "outputs": [
    {
     "data": {
      "text/plain": [
       "180"
      ]
     },
     "execution_count": 6,
     "metadata": {},
     "output_type": "execute_result"
    }
   ],
   "source": [
    "from langchain.document_loaders import PyPDFLoader\n",
    "\n",
    "# Load PDF\n",
    "loaders = [\n",
    "    PyPDFLoader(\"data/getting-real/getting-real-01-introduction.pdf\"),\n",
    "    PyPDFLoader(\"data/getting-real/getting-real-02-starting-line.pdf\"),\n",
    "    PyPDFLoader(\"data/getting-real/getting-real-03-stay-lean.pdf\"),  # Duplicate documents on purpose\n",
    "    PyPDFLoader(\"data/getting-real/getting-real-03-stay-lean.pdf\"),  # Duplicate documents on purpose\n",
    "    PyPDFLoader(\"data/getting-real/getting-real-04-priorities.pdf\"),\n",
    "    #PyPDFLoader(\"data/getting-real/getting-real-05-feature-selection.pdf\"),\n",
    "]\n",
    "\n",
    "docs = []\n",
    "for loader in loaders:\n",
    "    docs.extend(loader.load())\n",
    "\n",
    "# Split\n",
    "from langchain.text_splitter import RecursiveCharacterTextSplitter\n",
    "\n",
    "text_splitter = RecursiveCharacterTextSplitter(\n",
    "    chunk_size = 500,\n",
    "    chunk_overlap = 100\n",
    ")\n",
    "\n",
    "splits = text_splitter.split_documents(docs)\n",
    "\n",
    "len(splits)"
   ]
  },
  {
   "cell_type": "code",
   "execution_count": 7,
   "metadata": {},
   "outputs": [
    {
     "data": {
      "text/plain": [
       "Document(page_content='that’s not essential (and most of what you think is essential actually isn’t).\\nGetting Real is staying small and being agile.\\nGetting Real starts with the interface, the real screens that people are going to use. It begins\\nwith what the customer actually experiences and builds backwards from there. This lets you\\nget the interface right before you get the software wrong.\\nGetting Real is about iterations and lowering the cost of change. Getting Real is all about', metadata={'source': 'data/getting-real/getting-real-01-introduction.pdf', 'page': 0})"
      ]
     },
     "execution_count": 7,
     "metadata": {},
     "output_type": "execute_result"
    }
   ],
   "source": [
    "splits[1]"
   ]
  },
  {
   "cell_type": "code",
   "execution_count": 8,
   "metadata": {},
   "outputs": [],
   "source": [
    "# embeddings\n",
    "# https://platform.openai.com/docs/guides/embeddings/what-are-embeddings\n",
    "# By default, the length of the embedding vector will be 1536 for text-embedding-3-small or \n",
    "# 3072 for text-embedding-3-large. \n",
    "# text-embedding-3-small\t$0.02 / 1M tokens\n",
    "# text-embedding-3-large\t$0.13 / 1M tokens\n",
    "\n",
    "from langchain_openai import OpenAIEmbeddings\n",
    "embedding = OpenAIEmbeddings(model=\"text-embedding-3-small\")"
   ]
  },
  {
   "cell_type": "code",
   "execution_count": 9,
   "metadata": {},
   "outputs": [],
   "source": [
    "from langchain.vectorstores import Chroma\n",
    "persist_directory = './data/chroma/'\n",
    "\n",
    "# database is created and data embedded and loaded\n",
    "bookdb = Chroma.from_documents(\n",
    "    documents=splits,\n",
    "    embedding=embedding,\n",
    "    persist_directory=persist_directory\n",
    ")"
   ]
  },
  {
   "cell_type": "code",
   "execution_count": 10,
   "metadata": {},
   "outputs": [
    {
     "data": {
      "text/plain": [
       "259"
      ]
     },
     "execution_count": 10,
     "metadata": {},
     "output_type": "execute_result"
    }
   ],
   "source": [
    "bookdb._collection.count()"
   ]
  },
  {
   "cell_type": "code",
   "execution_count": 11,
   "metadata": {},
   "outputs": [
    {
     "name": "stderr",
     "output_type": "stream",
     "text": [
      "/Users/harrywang/sandbox/tutorial-buffet/langchain/langchain-rag-basics/venv/lib/python3.10/site-packages/langchain_core/_api/deprecation.py:119: LangChainDeprecationWarning: Since Chroma 0.4.x the manual persistence method is no longer supported as docs are automatically persisted.\n",
      "  warn_deprecated(\n"
     ]
    }
   ],
   "source": [
    "bookdb.persist()"
   ]
  },
  {
   "cell_type": "code",
   "execution_count": 12,
   "metadata": {},
   "outputs": [
    {
     "data": {
      "text/plain": [
       "[Document(page_content='10: Less Mass\\nThe leaner you are, the easier it is to change\\nThe more massive an object, the more energy is required to change its direction. It’s as true in\\nthe business world as it is in the physical world.\\nWhen it comes to web technology, change must be easy and cheap. If you can’t change on the\\nfly, you’ll lose ground to someone who can. That’s why you need to shoot for less mass.\\nMass is increased by…\\nLong term contracts\\nExcess staff\\nPermanent decisions\\nMeetings about other meetings', metadata={'page': 0, 'source': 'data/getting-real/getting-real-03-stay-lean.pdf'}),\n",
       " Document(page_content='10: Less Mass\\nThe leaner you are, the easier it is to change\\nThe more massive an object, the more energy is required to change its direction. It’s as true in\\nthe business world as it is in the physical world.\\nWhen it comes to web technology, change must be easy and cheap. If you can’t change on the\\nfly, you’ll lose ground to someone who can. That’s why you need to shoot for less mass.\\nMass is increased by…\\nLong term contracts\\nExcess staff\\nPermanent decisions\\nMeetings about other meetings', metadata={'page': 0, 'source': 'data/getting-real/getting-real-03-stay-lean.pdf'}),\n",
       " Document(page_content='11: Lower Your Cost of Change\\nStay flexible by reducing obstacles to change\\nChange is your best friend. The more expensive it is to make a change, the less likely you’ll make\\nit. And if your competitors can change faster than you, you’re at a huge disadvantage. If change\\ngets too expensive, you’re dead.\\nHere’s where staying lean really helps you out. The ability to change on a dime is one thing\\nsmall teams have by default that big teams can never have. This is where the big guys envy the', metadata={'page': 2, 'source': 'data/getting-real/getting-real-03-stay-lean.pdf'})]"
      ]
     },
     "execution_count": 12,
     "metadata": {},
     "output_type": "execute_result"
    }
   ],
   "source": [
    "question = \"what means staying lean?\"\n",
    "docs = bookdb.similarity_search(question, k=3)\n",
    "docs  # docs[0] and docs[1] are the same document"
   ]
  },
  {
   "cell_type": "code",
   "execution_count": 13,
   "metadata": {},
   "outputs": [
    {
     "data": {
      "text/plain": [
       "[Document(page_content='10: Less Mass\\nThe leaner you are, the easier it is to change\\nThe more massive an object, the more energy is required to change its direction. It’s as true in\\nthe business world as it is in the physical world.\\nWhen it comes to web technology, change must be easy and cheap. If you can’t change on the\\nfly, you’ll lose ground to someone who can. That’s why you need to shoot for less mass.\\nMass is increased by…\\nLong term contracts\\nExcess staff\\nPermanent decisions\\nMeetings about other meetings', metadata={'page': 0, 'source': 'data/getting-real/getting-real-03-stay-lean.pdf'}),\n",
       " Document(page_content='the big advantages of staying small.\\nBe proudly, defiantly truthful\\nThough you may think that a customer can be f ooled by exaggerations on the number of staffers\\nin your company or the breadth of your offerings, the smart ones, the ones you really want, will\\nalways learn the truth – whether through intuition or deduction. Embarrassingly, I’ve been a\\npart of white lies like this in the past, and none of those situations ever resulted in what matters', metadata={'page': 8, 'source': 'data/getting-real/getting-real-03-stay-lean.pdf'}),\n",
       " Document(page_content='How To Write Vigorous Software\\nVigorous writing is concise. A sentence should contain no unnecessary words, a paragraph no\\nunnecessary sentences, for the same reason that a drawing should have no unnecessary lines\\nand a machine no unnecessary parts. This requires not that the writer make all sentences short\\nor avoid all detail and treat subjects only in outline, but that every word tell.\\n—From “The Elements of Style” by William Strunk Jr.\\nNo more bloat', metadata={'page': 1, 'source': 'data/getting-real/getting-real-01-introduction.pdf'})]"
      ]
     },
     "execution_count": 13,
     "metadata": {},
     "output_type": "execute_result"
    }
   ],
   "source": [
    "# Maximum marginal relevance - duplicate is gone\n",
    "bookdb.max_marginal_relevance_search(question, k=3)"
   ]
  },
  {
   "cell_type": "code",
   "execution_count": 14,
   "metadata": {},
   "outputs": [
    {
     "data": {
      "text/plain": [
       "[(Document(page_content='10: Less Mass\\nThe leaner you are, the easier it is to change\\nThe more massive an object, the more energy is required to change its direction. It’s as true in\\nthe business world as it is in the physical world.\\nWhen it comes to web technology, change must be easy and cheap. If you can’t change on the\\nfly, you’ll lose ground to someone who can. That’s why you need to shoot for less mass.\\nMass is increased by…\\nLong term contracts\\nExcess staff\\nPermanent decisions\\nMeetings about other meetings', metadata={'page': 0, 'source': 'data/getting-real/getting-real-03-stay-lean.pdf'}),\n",
       "  1.1880751848220825),\n",
       " (Document(page_content='10: Less Mass\\nThe leaner you are, the easier it is to change\\nThe more massive an object, the more energy is required to change its direction. It’s as true in\\nthe business world as it is in the physical world.\\nWhen it comes to web technology, change must be easy and cheap. If you can’t change on the\\nfly, you’ll lose ground to someone who can. That’s why you need to shoot for less mass.\\nMass is increased by…\\nLong term contracts\\nExcess staff\\nPermanent decisions\\nMeetings about other meetings', metadata={'page': 0, 'source': 'data/getting-real/getting-real-03-stay-lean.pdf'}),\n",
       "  1.1881855726242065),\n",
       " (Document(page_content='11: Lower Your Cost of Change\\nStay flexible by reducing obstacles to change\\nChange is your best friend. The more expensive it is to make a change, the less likely you’ll make\\nit. And if your competitors can change faster than you, you’re at a huge disadvantage. If change\\ngets too expensive, you’re dead.\\nHere’s where staying lean really helps you out. The ability to change on a dime is one thing\\nsmall teams have by default that big teams can never have. This is where the big guys envy the', metadata={'page': 2, 'source': 'data/getting-real/getting-real-03-stay-lean.pdf'}),\n",
       "  1.1942778825759888)]"
      ]
     },
     "execution_count": 14,
     "metadata": {},
     "output_type": "execute_result"
    }
   ],
   "source": [
    "# cosine distance, short the better\n",
    "bookdb.similarity_search_with_score(question, k=3)"
   ]
  },
  {
   "cell_type": "code",
   "execution_count": 15,
   "metadata": {},
   "outputs": [
    {
     "name": "stdout",
     "output_type": "stream",
     "text": [
      "{'page': 1, 'source': 'data/getting-real/getting-real-02-starting-line.pdf'}\n",
      "{'page': 1, 'source': 'data/getting-real/getting-real-02-starting-line.pdf'}\n",
      "{'page': 5, 'source': 'data/getting-real/getting-real-05-feature-selection.pdf'}\n"
     ]
    }
   ],
   "source": [
    "### Addressing Specificity: working with metadata\n",
    "\n",
    "docs = bookdb.similarity_search(\n",
    "    \"what's about building software\",\n",
    "    k=3,\n",
    "    #filter={\"source\":\"data/getting-real/getting-real-02-starting-line.pdf\"}\n",
    ")\n",
    "\n",
    "for d in docs:\n",
    "    print(d.metadata)"
   ]
  },
  {
   "cell_type": "code",
   "execution_count": 16,
   "metadata": {},
   "outputs": [
    {
     "name": "stdout",
     "output_type": "stream",
     "text": [
      "{'page': 1, 'source': 'data/getting-real/getting-real-02-starting-line.pdf'}\n",
      "{'page': 1, 'source': 'data/getting-real/getting-real-02-starting-line.pdf'}\n",
      "{'page': 1, 'source': 'data/getting-real/getting-real-02-starting-line.pdf'}\n"
     ]
    }
   ],
   "source": [
    "### Addressing Specificity: working with metadata\n",
    "\n",
    "docs = bookdb.similarity_search(\n",
    "    \"what's about building software\",\n",
    "    k=3,\n",
    "    filter={\"source\":\"data/getting-real/getting-real-02-starting-line.pdf\"}\n",
    ")\n",
    "\n",
    "for d in docs:\n",
    "    print(d.metadata)"
   ]
  },
  {
   "cell_type": "code",
   "execution_count": 17,
   "metadata": {},
   "outputs": [],
   "source": [
    "from langchain.llms import OpenAI\n",
    "from langchain.retrievers.self_query.base import SelfQueryRetriever\n",
    "from langchain.chains.query_constructor.base import AttributeInfo"
   ]
  },
  {
   "cell_type": "code",
   "execution_count": 18,
   "metadata": {},
   "outputs": [],
   "source": [
    "metadata_field_info = [\n",
    "    AttributeInfo(\n",
    "        name=\"source\",\n",
    "        description=\"The lecture the chunk is from, should be one of `docs/cs229_lectures/MachineLearning-Lecture01.pdf`, `docs/cs229_lectures/MachineLearning-Lecture02.pdf`, or `docs/cs229_lectures/MachineLearning-Lecture03.pdf`\",\n",
    "        type=\"string\",\n",
    "    ),\n",
    "    AttributeInfo(\n",
    "        name=\"page\",\n",
    "        description=\"The page from the lecture\",\n",
    "        type=\"integer\",\n",
    "    ),\n",
    "]"
   ]
  },
  {
   "cell_type": "code",
   "execution_count": 19,
   "metadata": {},
   "outputs": [
    {
     "name": "stderr",
     "output_type": "stream",
     "text": [
      "/Users/harrywang/sandbox/tutorial-buffet/langchain/langchain-rag-basics/venv/lib/python3.10/site-packages/langchain_core/_api/deprecation.py:119: LangChainDeprecationWarning: The class `OpenAI` was deprecated in LangChain 0.0.10 and will be removed in 0.3.0. An updated version of the class exists in the langchain-openai package and should be used instead. To use it run `pip install -U langchain-openai` and import as `from langchain_openai import OpenAI`.\n",
      "  warn_deprecated(\n"
     ]
    }
   ],
   "source": [
    "# pip install lark\n",
    "document_content_description = \"book chapters\"\n",
    "\n",
    "llm = OpenAI(model='gpt-3.5-turbo-instruct', temperature=0)\n",
    "\n",
    "retriever = SelfQueryRetriever.from_llm(\n",
    "    llm,\n",
    "    bookdb,\n",
    "    document_content_description,\n",
    "    metadata_field_info,\n",
    "    verbose=True\n",
    ")"
   ]
  },
  {
   "cell_type": "code",
   "execution_count": 20,
   "metadata": {},
   "outputs": [
    {
     "name": "stderr",
     "output_type": "stream",
     "text": [
      "/Users/harrywang/sandbox/tutorial-buffet/langchain/langchain-rag-basics/venv/lib/python3.10/site-packages/langchain_core/_api/deprecation.py:119: LangChainDeprecationWarning: The method `BaseRetriever.get_relevant_documents` was deprecated in langchain-core 0.1.46 and will be removed in 0.3.0. Use invoke instead.\n",
      "  warn_deprecated(\n"
     ]
    },
    {
     "name": "stdout",
     "output_type": "stream",
     "text": [
      "{'page': 0, 'source': 'data/getting-real/getting-real-01-introduction.pdf'}\n",
      "{'page': 1, 'source': 'data/getting-real/getting-real-02-starting-line.pdf'}\n",
      "{'page': 1, 'source': 'data/getting-real/getting-real-01-introduction.pdf'}\n",
      "{'page': 3, 'source': 'data/getting-real/getting-real-01-introduction.pdf'}\n"
     ]
    }
   ],
   "source": [
    "question = \"what's about building software\"\n",
    "docs = retriever.get_relevant_documents(question)\n",
    "for d in docs:\n",
    "    print(d.metadata)"
   ]
  },
  {
   "cell_type": "code",
   "execution_count": 21,
   "metadata": {},
   "outputs": [],
   "source": [
    "from langchain.retrievers import SVMRetriever\n",
    "from langchain.retrievers import TFIDFRetriever\n",
    "from langchain.document_loaders import PyPDFLoader\n",
    "from langchain.text_splitter import RecursiveCharacterTextSplitter"
   ]
  },
  {
   "cell_type": "code",
   "execution_count": 22,
   "metadata": {},
   "outputs": [],
   "source": [
    "# Load PDF\n",
    "loader = PyPDFLoader(\"data/getting-real/getting-real-02-starting-line.pdf\")\n",
    "pages = loader.load()\n",
    "all_page_text=[p.page_content for p in pages]\n",
    "joined_page_text=\" \".join(all_page_text)\n",
    "\n",
    "# Split\n",
    "text_splitter = RecursiveCharacterTextSplitter(chunk_size = 1500,chunk_overlap = 150)\n",
    "splits = text_splitter.split_text(joined_page_text)"
   ]
  },
  {
   "cell_type": "code",
   "execution_count": 23,
   "metadata": {},
   "outputs": [],
   "source": [
    "# Retrieve\n",
    "from langchain_openai import OpenAIEmbeddings\n",
    "embedding = OpenAIEmbeddings(model=\"text-embedding-3-small\")\n",
    "\n",
    "svm_retriever = SVMRetriever.from_texts(splits, embedding)\n",
    "tfidf_retriever = TFIDFRetriever.from_texts(splits)"
   ]
  },
  {
   "cell_type": "code",
   "execution_count": 24,
   "metadata": {},
   "outputs": [
    {
     "name": "stderr",
     "output_type": "stream",
     "text": [
      "/Users/harrywang/sandbox/tutorial-buffet/langchain/langchain-rag-basics/venv/lib/python3.10/site-packages/sklearn/svm/_classes.py:31: FutureWarning: The default value of `dual` will change from `True` to `'auto'` in 1.5. Set the value of `dual` explicitly to suppress the warning.\n",
      "  warnings.warn(\n"
     ]
    },
    {
     "data": {
      "text/plain": [
       "Document(page_content='My idea was: Enjoy baking, sell your bread, people like it, sell more. Keep the bakery going\\nbecause you’re making good food and people are happy.\\n—Ian MacKaye, member of Fugazi and co-owner of Dischord Records \\n(from Salon.com People | Ian MacKaye)')"
      ]
     },
     "execution_count": 24,
     "metadata": {},
     "output_type": "execute_result"
    }
   ],
   "source": [
    "question = \"What are topics for this book?\"\n",
    "docs_svm=svm_retriever.get_relevant_documents(question)\n",
    "docs_svm[0]"
   ]
  },
  {
   "cell_type": "code",
   "execution_count": 25,
   "metadata": {},
   "outputs": [
    {
     "data": {
      "text/plain": [
       "Document(page_content='hundreds of thousands of others are in the same boat. There’s your market. Wasn’t that easy?\\nBasecamp originated in a problem: As a design firm we needed a simple way to communicate\\nwith our clients about projects. We started out doing this via client extranets which we would\\nupdate manually. But changing the html by hand every time a project needed to be updated just\\nwasn’t working. These project sites always seemed to go stale and eventually were abandoned. It\\nwas frustrating because it left us disorganized and left clients in the dark.\\nSo we started looking at other options. Yet every tool we found either 1) didn’t do what we\\nneeded or 2) was bloated with features we didn’t need — like billing, strict access controls,\\ncharts, graphs, etc. We knew there had to be a better way so we decided to build our own.\\nWhen you solve your own problem, you create a tool that you’re passionate about. And passion\\nis key. Passion means you’ll truly use it and care about it. And that’s the best way to get others to\\nfeel passionate about it too.\\nScratching your own itch\\nThe Open Source world embraced this mantra a long time ago — they call it “scratching your\\nown itch.” For the open source developers, it means they get the tools they want, delivered the\\nway they want them. But the ben efit goes much deeper.\\nAs the designer or developer of a new application, you’re faced with hundreds of micro-\\ndecisions each and every day: blue or green? One table or two? Static or dynamic? Abort or')"
      ]
     },
     "execution_count": 25,
     "metadata": {},
     "output_type": "execute_result"
    }
   ],
   "source": [
    "question = \"what did they say about starting line?\"\n",
    "docs_tfidf=tfidf_retriever.get_relevant_documents(question)\n",
    "docs_tfidf[0]"
   ]
  },
  {
   "cell_type": "code",
   "execution_count": null,
   "metadata": {},
   "outputs": [],
   "source": []
  }
 ],
 "metadata": {
  "kernelspec": {
   "display_name": "venv",
   "language": "python",
   "name": "python3"
  },
  "language_info": {
   "codemirror_mode": {
    "name": "ipython",
    "version": 3
   },
   "file_extension": ".py",
   "mimetype": "text/x-python",
   "name": "python",
   "nbconvert_exporter": "python",
   "pygments_lexer": "ipython3",
   "version": "3.10.6"
  }
 },
 "nbformat": 4,
 "nbformat_minor": 2
}
