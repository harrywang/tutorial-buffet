{
 "cells": [
  {
   "cell_type": "markdown",
   "metadata": {},
   "source": [
    "This file is used to convert the log txt file to a formatted csv for analysis\n",
    "\n",
    "columns: UserID，FromPageName,ClickName,CurrentPageName,Time"
   ]
  },
  {
   "cell_type": "code",
   "execution_count": 1,
   "metadata": {},
   "outputs": [],
   "source": [
    "from datetime import datetime, timedelta\n",
    "import csv\n",
    "import pandas as pd"
   ]
  },
  {
   "cell_type": "code",
   "execution_count": 2,
   "metadata": {},
   "outputs": [
    {
     "name": "stdout",
     "output_type": "stream",
     "text": [
      "<class 'pandas.core.frame.DataFrame'>\n",
      "RangeIndex: 100 entries, 0 to 99\n",
      "Data columns (total 5 columns):\n",
      "user_id         100 non-null object\n",
      "from_page       100 non-null object\n",
      "action          100 non-null object\n",
      "current_page    100 non-null object\n",
      "timestamp       100 non-null object\n",
      "dtypes: object(5)\n",
      "memory usage: 4.0+ KB\n"
     ]
    },
    {
     "data": {
      "text/html": [
       "<div>\n",
       "<style scoped>\n",
       "    .dataframe tbody tr th:only-of-type {\n",
       "        vertical-align: middle;\n",
       "    }\n",
       "\n",
       "    .dataframe tbody tr th {\n",
       "        vertical-align: top;\n",
       "    }\n",
       "\n",
       "    .dataframe thead th {\n",
       "        text-align: right;\n",
       "    }\n",
       "</style>\n",
       "<table border=\"1\" class=\"dataframe\">\n",
       "  <thead>\n",
       "    <tr style=\"text-align: right;\">\n",
       "      <th></th>\n",
       "      <th>user_id</th>\n",
       "      <th>from_page</th>\n",
       "      <th>action</th>\n",
       "      <th>current_page</th>\n",
       "      <th>timestamp</th>\n",
       "    </tr>\n",
       "  </thead>\n",
       "  <tbody>\n",
       "    <tr>\n",
       "      <th>0</th>\n",
       "      <td>1689459f31fe58f48973ed60da12981d</td>\n",
       "      <td>\\N</td>\n",
       "      <td>MyMirror-TestFace-ReportPage-SwitchStyle</td>\n",
       "      <td>MyMirror-TestFace-ReportPage</td>\n",
       "      <td>2019-07-01 15:53:39</td>\n",
       "    </tr>\n",
       "    <tr>\n",
       "      <th>1</th>\n",
       "      <td>d17aebb7be63d76082b8d28ab679aec2</td>\n",
       "      <td>\\N</td>\n",
       "      <td>MyMirror-TestFace-ReportPage-DragDown</td>\n",
       "      <td>MyMirror-TestFace-ReportPage</td>\n",
       "      <td>2019-07-01 17:43:52</td>\n",
       "    </tr>\n",
       "    <tr>\n",
       "      <th>2</th>\n",
       "      <td>7003db4e2fe2552bb1ba00661bb5e9be</td>\n",
       "      <td>\\N</td>\n",
       "      <td>MyMirror-PicturePage-TabClick</td>\n",
       "      <td>MyMirror-PicturePage</td>\n",
       "      <td>2019-07-01 17:52:36</td>\n",
       "    </tr>\n",
       "    <tr>\n",
       "      <th>3</th>\n",
       "      <td>c795227897a6942074992c8c43460939</td>\n",
       "      <td>\\N</td>\n",
       "      <td>MyMirror-TestFace-ReportPage-SwitchStyle</td>\n",
       "      <td>MyMirror-TestFace-ReportPage</td>\n",
       "      <td>2019-07-01 19:09:42</td>\n",
       "    </tr>\n",
       "    <tr>\n",
       "      <th>4</th>\n",
       "      <td>693a2a93be242871a824131d438f09ac</td>\n",
       "      <td>MyMirror-SimulateStyle-SimulateStylePage</td>\n",
       "      <td>MyMirror-SimulateStyle-SimulateStylePage-DragUp</td>\n",
       "      <td>MyMirror-SimulateStyle-SimulateStylePage</td>\n",
       "      <td>2019-07-01 21:06:51</td>\n",
       "    </tr>\n",
       "  </tbody>\n",
       "</table>\n",
       "</div>"
      ],
      "text/plain": [
       "                            user_id                                 from_page  \\\n",
       "0  1689459f31fe58f48973ed60da12981d                                        \\N   \n",
       "1  d17aebb7be63d76082b8d28ab679aec2                                        \\N   \n",
       "2  7003db4e2fe2552bb1ba00661bb5e9be                                        \\N   \n",
       "3  c795227897a6942074992c8c43460939                                        \\N   \n",
       "4  693a2a93be242871a824131d438f09ac  MyMirror-SimulateStyle-SimulateStylePage   \n",
       "\n",
       "                                            action  \\\n",
       "0         MyMirror-TestFace-ReportPage-SwitchStyle   \n",
       "1            MyMirror-TestFace-ReportPage-DragDown   \n",
       "2                    MyMirror-PicturePage-TabClick   \n",
       "3         MyMirror-TestFace-ReportPage-SwitchStyle   \n",
       "4  MyMirror-SimulateStyle-SimulateStylePage-DragUp   \n",
       "\n",
       "                               current_page            timestamp  \n",
       "0              MyMirror-TestFace-ReportPage  2019-07-01 15:53:39  \n",
       "1              MyMirror-TestFace-ReportPage  2019-07-01 17:43:52  \n",
       "2                      MyMirror-PicturePage  2019-07-01 17:52:36  \n",
       "3              MyMirror-TestFace-ReportPage  2019-07-01 19:09:42  \n",
       "4  MyMirror-SimulateStyle-SimulateStylePage  2019-07-01 21:06:51  "
      ]
     },
     "execution_count": 2,
     "metadata": {},
     "output_type": "execute_result"
    }
   ],
   "source": [
    "# split the log into 200 smaller files for easy analysis\n",
    "# each represents 0.5% data\n",
    "new_log = []\n",
    "header = ['user_id', 'from_page', 'action', 'current_page', 'timestamp']\n",
    "with open(\"sample.txt\") as file:\n",
    "    i = 0\n",
    "    for l in file:\n",
    "        #print(\"processing session: {}\".format(sid))\n",
    "        line = l.rstrip('\\n').split(\"\\t\")  # strip \\n at the end of each line and split line by tab\n",
    "        # print(line)\n",
    "        new_log.append(line)\n",
    "        length = len(line)\n",
    "        #i+=1\n",
    "        #if i>10:\n",
    "        #    break\n",
    "\n",
    "user_log = pd.DataFrame(new_log,  columns=header) \n",
    "user_log.info()\n",
    "user_log.head()\n"
   ]
  },
  {
   "cell_type": "code",
   "execution_count": 3,
   "metadata": {},
   "outputs": [],
   "source": [
    "user_log.to_csv(\"sample.csv\", sep=',', header=True, index=False, encoding='utf-8')"
   ]
  },
  {
   "cell_type": "code",
   "execution_count": null,
   "metadata": {},
   "outputs": [],
   "source": []
  }
 ],
 "metadata": {
  "kernelspec": {
   "display_name": "Python 3",
   "language": "python",
   "name": "python3"
  },
  "language_info": {
   "codemirror_mode": {
    "name": "ipython",
    "version": 3
   },
   "file_extension": ".py",
   "mimetype": "text/x-python",
   "name": "python",
   "nbconvert_exporter": "python",
   "pygments_lexer": "ipython3",
   "version": "3.6.5"
  }
 },
 "nbformat": 4,
 "nbformat_minor": 2
}
