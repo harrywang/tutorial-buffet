{
 "cells": [
  {
   "cell_type": "code",
   "execution_count": 10,
   "metadata": {},
   "outputs": [
    {
     "name": "stdout",
     "output_type": "stream",
     "text": [
      "\u001b[31m\n",
      ">>>>>>>> EXECUTING CODE BLOCK (inferred language is shell)...\u001b[0m\n",
      "exitcode: 0 (execution succeeded)\n",
      "Code output: \n",
      "\u001b[31m\n",
      ">>>>>>>> EXECUTING CODE BLOCK (inferred language is python)...\u001b[0m\n",
      "exitcode: 0 (execution succeeded)\n",
      "Code output: Scatter plot saved to line.png\n",
      "\n"
     ]
    }
   ],
   "source": [
    "import os\n",
    "from dotenv import load_dotenv\n",
    "from autogen import ConversableAgent\n",
    "from autogen.coding import DockerCommandLineCodeExecutor\n",
    "\n",
    "load_dotenv()  # take environment variables from .env.\n",
    "\n",
    "llm_config={\"config_list\": [{\n",
    "    \"model\": \"gpt-4-turbo\",\n",
    "    \"cache\": None,\n",
    "    \"temperature\": 0.9, \n",
    "    \"api_key\": os.environ.get(\"OPENAI_API_KEY\")}]}\n",
    "\n",
    "\n",
    "# Create a temporary directory to store the code files.\n",
    "temp_dir = './tmp'\n",
    "\n",
    "docker_container_name = 'autogen'\n",
    "\n",
    "docker_executor = DockerCommandLineCodeExecutor(\n",
    "    image=\"python:3.12-slim\",  # Execute code using the given docker image name.\n",
    "    container_name=docker_container_name,  # Name of the Docker container.\n",
    "    timeout=180,  # Timeout for each code execution in seconds - 3 minutes\n",
    "    work_dir=temp_dir,  # Use the temporary directory to store the code files.\n",
    ")\n",
    "\n",
    "# Create an agent with code executor configuration that uses docker.\n",
    "code_executor_agent_using_docker = ConversableAgent(\n",
    "    \"code_executor_agent_docker\",\n",
    "    llm_config=False,  # Turn off LLM for this agent.\n",
    "    code_execution_config={\"executor\": docker_executor},  # Use the docker command line code executor.\n",
    "    human_input_mode=\"NEVER\",  # Change to ALWAYS to take human input for this agent for safety.\n",
    ")\n",
    "\n",
    "message_with_code_block = \"\"\"This is a message with code block.\n",
    "The code block is below:\n",
    "```shell\n",
    "pip install matplotlib numpy\n",
    "```\n",
    "This is the end of the message.\n",
    "\"\"\"\n",
    "\n",
    "reply = code_executor_agent_using_docker.generate_reply(messages=[{\"role\": \"user\", \"content\": message_with_code_block}])\n",
    "print(reply)\n",
    "\n",
    "\n",
    "message_with_code_block = \"\"\"This is a message with code block.\n",
    "The code block is below:\n",
    "```python\n",
    "import numpy as np\n",
    "import matplotlib.pyplot as plt\n",
    "x = range(100)\n",
    "y = np.random.randint(0, 100, 100)\n",
    "plt.plot(x, y)\n",
    "plt.savefig('line.png')\n",
    "print('Scatter plot saved to line.png')\n",
    "```\n",
    "This is the end of the message.\n",
    "\"\"\"\n",
    "\n",
    "reply = code_executor_agent_using_docker.generate_reply(messages=[{\"role\": \"user\", \"content\": message_with_code_block}])\n",
    "print(reply)"
   ]
  },
  {
   "cell_type": "code",
   "execution_count": null,
   "metadata": {},
   "outputs": [],
   "source": []
  }
 ],
 "metadata": {
  "kernelspec": {
   "display_name": "venv",
   "language": "python",
   "name": "python3"
  },
  "language_info": {
   "codemirror_mode": {
    "name": "ipython",
    "version": 3
   },
   "file_extension": ".py",
   "mimetype": "text/x-python",
   "name": "python",
   "nbconvert_exporter": "python",
   "pygments_lexer": "ipython3",
   "version": "3.10.6"
  }
 },
 "nbformat": 4,
 "nbformat_minor": 2
}
