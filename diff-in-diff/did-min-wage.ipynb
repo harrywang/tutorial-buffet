{
 "cells": [
  {
   "cell_type": "markdown",
   "metadata": {},
   "source": [
    "# Analyze Causal Effect Using Diff-in-Diff Model\n",
    "\n",
    "https://towardsdatascience.com/analyze-causal-effect-using-diff-in-diff-model-85e07b17e7b7\n",
    "\n",
    "Card and Krueger (1994) estimate the causal effect of an increase in the state minimum wage on the employment. On April 1, 1992, New Jersey raised the state minimum wage from $4.25 to $5.05 while the minimum wage in Pennsylvania stays the same at $4.25. Card and Krueger surveyed fast food restaurants in New Jersey in February 1992 and again in November 1992. They also collected the data from fast food restaurants in the neighboring neighboring eastern Pennsylvania.\n",
    "I downloaded the data file public.dat used by Card and Krueger (1994) from MIT Economics website. I computed the simple DiD estimates of the effects of the NJ minimum wage increase in Python. Essentially, I compare the change in employment in NJ to the employment change in PA over the period from February to November. Below are the codes:"
   ]
  },
  {
   "cell_type": "code",
   "execution_count": 39,
   "metadata": {},
   "outputs": [],
   "source": [
    "import os\n",
    "import numpy as np\n",
    "import pandas as pd\n",
    "from statsmodels.formula.api import ols"
   ]
  },
  {
   "cell_type": "code",
   "execution_count": 20,
   "metadata": {},
   "outputs": [],
   "source": [
    "df = pd.read_csv(\"mini-wage.csv\")"
   ]
  },
  {
   "cell_type": "code",
   "execution_count": 22,
   "metadata": {},
   "outputs": [
    {
     "name": "stdout",
     "output_type": "stream",
     "text": [
      "<class 'pandas.core.frame.DataFrame'>\n",
      "RangeIndex: 410 entries, 0 to 409\n",
      "Data columns (total 46 columns):\n",
      " #   Column    Non-Null Count  Dtype  \n",
      "---  ------    --------------  -----  \n",
      " 0   SHEET     410 non-null    int64  \n",
      " 1   CHAINr    410 non-null    int64  \n",
      " 2   CO_OWNED  410 non-null    int64  \n",
      " 3   STATE     410 non-null    int64  \n",
      " 4   SOUTHJ    410 non-null    int64  \n",
      " 5   CENTRALJ  410 non-null    int64  \n",
      " 6   NORTHJ    410 non-null    int64  \n",
      " 7   PA1       410 non-null    int64  \n",
      " 8   PA2       410 non-null    int64  \n",
      " 9   SHORE     410 non-null    int64  \n",
      " 10  NCALLS    410 non-null    int64  \n",
      " 11  EMPFT     410 non-null    object \n",
      " 12  EMPPT     410 non-null    object \n",
      " 13  NMGRS     410 non-null    object \n",
      " 14  WAGE_ST   410 non-null    object \n",
      " 15  INCTIME   410 non-null    object \n",
      " 16  FIRSTINC  410 non-null    object \n",
      " 17  BONUS     410 non-null    int64  \n",
      " 18  PCTAFF    410 non-null    object \n",
      " 19  MEAL      410 non-null    int64  \n",
      " 20  OPEN      410 non-null    float64\n",
      " 21  HRSOPEN   410 non-null    float64\n",
      " 22  PSODA     410 non-null    object \n",
      " 23  PFRY      410 non-null    object \n",
      " 24  PENTREE   410 non-null    object \n",
      " 25  NREGS     410 non-null    object \n",
      " 26  NREGS11   410 non-null    object \n",
      " 27  TYPE2     410 non-null    int64  \n",
      " 28  STATUS2   410 non-null    int64  \n",
      " 29  DATE2     410 non-null    int64  \n",
      " 30  NCALLS2   410 non-null    object \n",
      " 31  EMPFT2    410 non-null    object \n",
      " 32  EMPPT2    410 non-null    object \n",
      " 33  NMGRS2    410 non-null    object \n",
      " 34  WAGE_ST2  410 non-null    object \n",
      " 35  INCTIME2  410 non-null    object \n",
      " 36  FIRSTIN2  410 non-null    object \n",
      " 37  SPECIAL2  410 non-null    object \n",
      " 38  MEALS2    410 non-null    object \n",
      " 39  OPEN2R    410 non-null    object \n",
      " 40  HRSOPEN2  410 non-null    object \n",
      " 41  PSODA2    410 non-null    object \n",
      " 42  PFRY2     410 non-null    object \n",
      " 43  PENTREE2  410 non-null    object \n",
      " 44  NREGS2    410 non-null    object \n",
      " 45  NREGS112  410 non-null    object \n",
      "dtypes: float64(2), int64(16), object(28)\n",
      "memory usage: 147.5+ KB\n"
     ]
    }
   ],
   "source": [
    "df.info()"
   ]
  },
  {
   "cell_type": "code",
   "execution_count": 23,
   "metadata": {},
   "outputs": [],
   "source": [
    "# data cleaning \n",
    "df = df.replace('.', '')\n",
    "df = df.apply(pd.to_numeric)\n",
    "\n",
    "df['EMPTOT']= df['EMPPT']*0.5 + df['EMPFT'] + df['NMGRS']                                              \n",
    "df['EMPTOT2']=df['EMPPT2']*0.5 + df['EMPFT2'] + df['NMGRS2']\n",
    "df = df[['STATE','EMPTOT','EMPTOT2']]"
   ]
  },
  {
   "cell_type": "code",
   "execution_count": 24,
   "metadata": {},
   "outputs": [
    {
     "name": "stdout",
     "output_type": "stream",
     "text": [
      "<class 'pandas.core.frame.DataFrame'>\n",
      "RangeIndex: 410 entries, 0 to 409\n",
      "Data columns (total 3 columns):\n",
      " #   Column   Non-Null Count  Dtype  \n",
      "---  ------   --------------  -----  \n",
      " 0   STATE    410 non-null    int64  \n",
      " 1   EMPTOT   398 non-null    float64\n",
      " 2   EMPTOT2  396 non-null    float64\n",
      "dtypes: float64(2), int64(1)\n",
      "memory usage: 9.7 KB\n"
     ]
    }
   ],
   "source": [
    "df.info()"
   ]
  },
  {
   "cell_type": "code",
   "execution_count": 25,
   "metadata": {},
   "outputs": [
    {
     "data": {
      "text/html": [
       "<div>\n",
       "<style scoped>\n",
       "    .dataframe tbody tr th:only-of-type {\n",
       "        vertical-align: middle;\n",
       "    }\n",
       "\n",
       "    .dataframe tbody tr th {\n",
       "        vertical-align: top;\n",
       "    }\n",
       "\n",
       "    .dataframe thead th {\n",
       "        text-align: right;\n",
       "    }\n",
       "</style>\n",
       "<table border=\"1\" class=\"dataframe\">\n",
       "  <thead>\n",
       "    <tr style=\"text-align: right;\">\n",
       "      <th></th>\n",
       "      <th>STATE</th>\n",
       "      <th>EMPTOT</th>\n",
       "      <th>EMPTOT2</th>\n",
       "    </tr>\n",
       "  </thead>\n",
       "  <tbody>\n",
       "    <tr>\n",
       "      <th>0</th>\n",
       "      <td>0</td>\n",
       "      <td>40.50</td>\n",
       "      <td>24.0</td>\n",
       "    </tr>\n",
       "    <tr>\n",
       "      <th>1</th>\n",
       "      <td>0</td>\n",
       "      <td>13.75</td>\n",
       "      <td>11.5</td>\n",
       "    </tr>\n",
       "    <tr>\n",
       "      <th>2</th>\n",
       "      <td>0</td>\n",
       "      <td>8.50</td>\n",
       "      <td>10.5</td>\n",
       "    </tr>\n",
       "    <tr>\n",
       "      <th>3</th>\n",
       "      <td>0</td>\n",
       "      <td>34.00</td>\n",
       "      <td>20.0</td>\n",
       "    </tr>\n",
       "    <tr>\n",
       "      <th>4</th>\n",
       "      <td>0</td>\n",
       "      <td>24.00</td>\n",
       "      <td>35.5</td>\n",
       "    </tr>\n",
       "  </tbody>\n",
       "</table>\n",
       "</div>"
      ],
      "text/plain": [
       "   STATE  EMPTOT  EMPTOT2\n",
       "0      0   40.50     24.0\n",
       "1      0   13.75     11.5\n",
       "2      0    8.50     10.5\n",
       "3      0   34.00     20.0\n",
       "4      0   24.00     35.5"
      ]
     },
     "execution_count": 25,
     "metadata": {},
     "output_type": "execute_result"
    }
   ],
   "source": [
    "df.head()"
   ]
  },
  {
   "cell_type": "code",
   "execution_count": 13,
   "metadata": {},
   "outputs": [],
   "source": [
    "# create panel dataset for regression\n",
    "df_1 = df[['STATE', 'EMPTOT']]\n",
    "df_1['t']=0\n",
    "df_2 = df[['STATE', 'EMPTOT2']]\n",
    "df_2['t']=1\n",
    "df_2.columns = ['STATE', 'EMPTOT','t']\n",
    "df_reg = pd.concat([df_1, df_2], axis=0)\n",
    "df_reg['dt'] = np.where((df_reg['STATE']== 1) & (df_reg['t']== 1) , 1, 0)"
   ]
  },
  {
   "cell_type": "code",
   "execution_count": 31,
   "metadata": {},
   "outputs": [
    {
     "data": {
      "text/html": [
       "<div>\n",
       "<style scoped>\n",
       "    .dataframe tbody tr th:only-of-type {\n",
       "        vertical-align: middle;\n",
       "    }\n",
       "\n",
       "    .dataframe tbody tr th {\n",
       "        vertical-align: top;\n",
       "    }\n",
       "\n",
       "    .dataframe thead th {\n",
       "        text-align: right;\n",
       "    }\n",
       "</style>\n",
       "<table border=\"1\" class=\"dataframe\">\n",
       "  <thead>\n",
       "    <tr style=\"text-align: right;\">\n",
       "      <th></th>\n",
       "      <th>STATE</th>\n",
       "      <th>EMPTOT</th>\n",
       "      <th>t</th>\n",
       "      <th>dt</th>\n",
       "    </tr>\n",
       "  </thead>\n",
       "  <tbody>\n",
       "    <tr>\n",
       "      <th>0</th>\n",
       "      <td>0</td>\n",
       "      <td>40.50</td>\n",
       "      <td>0</td>\n",
       "      <td>0</td>\n",
       "    </tr>\n",
       "    <tr>\n",
       "      <th>1</th>\n",
       "      <td>0</td>\n",
       "      <td>13.75</td>\n",
       "      <td>0</td>\n",
       "      <td>0</td>\n",
       "    </tr>\n",
       "    <tr>\n",
       "      <th>2</th>\n",
       "      <td>0</td>\n",
       "      <td>8.50</td>\n",
       "      <td>0</td>\n",
       "      <td>0</td>\n",
       "    </tr>\n",
       "    <tr>\n",
       "      <th>3</th>\n",
       "      <td>0</td>\n",
       "      <td>34.00</td>\n",
       "      <td>0</td>\n",
       "      <td>0</td>\n",
       "    </tr>\n",
       "    <tr>\n",
       "      <th>4</th>\n",
       "      <td>0</td>\n",
       "      <td>24.00</td>\n",
       "      <td>0</td>\n",
       "      <td>0</td>\n",
       "    </tr>\n",
       "  </tbody>\n",
       "</table>\n",
       "</div>"
      ],
      "text/plain": [
       "   STATE  EMPTOT  t  dt\n",
       "0      0   40.50  0   0\n",
       "1      0   13.75  0   0\n",
       "2      0    8.50  0   0\n",
       "3      0   34.00  0   0\n",
       "4      0   24.00  0   0"
      ]
     },
     "execution_count": 31,
     "metadata": {},
     "output_type": "execute_result"
    }
   ],
   "source": [
    "df_reg.head()"
   ]
  },
  {
   "cell_type": "code",
   "execution_count": 36,
   "metadata": {},
   "outputs": [
    {
     "name": "stdout",
     "output_type": "stream",
     "text": [
      "PA employment before: 23.33\n",
      "PA employment after: 21.17\n",
      "NJ employment before: 20.44\n",
      "NJ employment after: 21.03\n",
      "Diff in Diff in mean employment: 2.72\n"
     ]
    }
   ],
   "source": [
    "# check by calculating the mean for each group directly\n",
    "print(\"PA employment before:\", round(df[(df.STATE == 0)]['EMPTOT'].mean(),2))\n",
    "print(\"PA employment after:\", round(df[(df.STATE == 0)]['EMPTOT2'].mean(),2))\n",
    "print(\"NJ employment before:\", round(df[(df.STATE == 1)]['EMPTOT'].mean(),2))\n",
    "print(\"NJ employment after:\", round(df[(df.STATE == 1)]['EMPTOT2'].mean(),2))\n",
    "pa_dif =  round(df[(df.STATE == 0)]['EMPTOT2'].mean(),2) - round(df[(df.STATE == 0)]['EMPTOT'].mean(),2)\n",
    "nj_dif = round(df[(df.STATE == 1)]['EMPTOT2'].mean(),1) - round(df[(df.STATE == 1)]['EMPTOT'].mean(),2)\n",
    "\n",
    "did = nj_dif - pa_dif\n",
    "print(\"Diff in Diff in mean employment:\",round(did,2))"
   ]
  },
  {
   "cell_type": "code",
   "execution_count": 41,
   "metadata": {},
   "outputs": [
    {
     "name": "stdout",
     "output_type": "stream",
     "text": [
      "                            OLS Regression Results                            \n",
      "==============================================================================\n",
      "Dep. Variable:                 EMPTOT   R-squared:                       0.007\n",
      "Model:                            OLS   Adj. R-squared:                  0.004\n",
      "Method:                 Least Squares   F-statistic:                     1.404\n",
      "Date:                Tue, 01 Feb 2022   Prob (F-statistic):              0.240\n",
      "Time:                        09:08:36   Log-Likelihood:                -2904.2\n",
      "No. Observations:                 794   AIC:                             5816.\n",
      "Df Residuals:                     790   BIC:                             5835.\n",
      "Df Model:                           3                                         \n",
      "Covariance Type:                  HC1                                         \n",
      "==============================================================================\n",
      "                 coef    std err          z      P>|z|      [0.025      0.975]\n",
      "------------------------------------------------------------------------------\n",
      "Intercept     23.3312      1.346     17.337      0.000      20.694      25.969\n",
      "STATE         -2.8918      1.439     -2.010      0.044      -5.712      -0.072\n",
      "t             -2.1656      1.641     -1.320      0.187      -5.382       1.051\n",
      "dt             2.7536      1.795      1.534      0.125      -0.765       6.273\n",
      "==============================================================================\n",
      "Omnibus:                      218.742   Durbin-Watson:                   1.840\n",
      "Prob(Omnibus):                  0.000   Jarque-Bera (JB):              804.488\n",
      "Skew:                           1.268   Prob(JB):                    2.03e-175\n",
      "Kurtosis:                       7.229   Cond. No.                         11.3\n",
      "==============================================================================\n",
      "\n",
      "Warnings:\n",
      "[1] Standard Errors are heteroscedasticity robust (HC1)\n"
     ]
    }
   ],
   "source": [
    "# regression\n",
    "\n",
    "result = ols('EMPTOT ~ STATE + t + dt', data=df_reg).fit(cov_type='HC1',)\n",
    "print(result.summary())\n",
    "\n"
   ]
  },
  {
   "cell_type": "markdown",
   "metadata": {},
   "source": []
  }
 ],
 "metadata": {
  "interpreter": {
   "hash": "af84fd52fb11f7d52b3d5de2684b8d42cf148a1a3354f56f240c1d00d6a66a54"
  },
  "kernelspec": {
   "display_name": "Python 3.7.7 64-bit ('venv': venv)",
   "language": "python",
   "name": "python3"
  },
  "language_info": {
   "codemirror_mode": {
    "name": "ipython",
    "version": 3
   },
   "file_extension": ".py",
   "mimetype": "text/x-python",
   "name": "python",
   "nbconvert_exporter": "python",
   "pygments_lexer": "ipython3",
   "version": "3.8.10"
  },
  "orig_nbformat": 2
 },
 "nbformat": 4,
 "nbformat_minor": 2
}
