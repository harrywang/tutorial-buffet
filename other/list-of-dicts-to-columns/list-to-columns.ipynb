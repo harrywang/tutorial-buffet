{
 "metadata": {
  "language_info": {
   "codemirror_mode": {
    "name": "ipython",
    "version": 3
   },
   "file_extension": ".py",
   "mimetype": "text/x-python",
   "name": "python",
   "nbconvert_exporter": "python",
   "pygments_lexer": "ipython3",
   "version": "3.7.7-final"
  },
  "orig_nbformat": 2,
  "kernelspec": {
   "name": "python_defaultSpec_1599269088826",
   "display_name": "Python 3.7.7 64-bit ('venv': venv)"
  }
 },
 "nbformat": 4,
 "nbformat_minor": 2,
 "cells": [
  {
   "cell_type": "code",
   "execution_count": 1,
   "metadata": {},
   "outputs": [],
   "source": [
    "import pandas as pd"
   ]
  },
  {
   "cell_type": "code",
   "execution_count": 2,
   "metadata": {},
   "outputs": [
    {
     "output_type": "execute_result",
     "data": {
      "text/plain": "       id                                            feature\n0   39551  [{\"item_feature\":\"Extrude\",\"item_name\":\"颧弓宽度\"}...\n1   70993  [{\"item_feature\":\"Normal\",\"item_name\":\"颧弓宽度\"},...\n2  185830  [{\"item_feature\":\"Extrude\",\"item_name\":\"颧弓宽度\"}...\n3  269632  [{\"item_feature\":\"Normal\",\"item_name\":\"颧弓宽度\"},...\n4  110328  [{\"item_feature\":\"Normal\",\"item_name\":\"颧弓宽度\"},...",
      "text/html": "<div>\n<style scoped>\n    .dataframe tbody tr th:only-of-type {\n        vertical-align: middle;\n    }\n\n    .dataframe tbody tr th {\n        vertical-align: top;\n    }\n\n    .dataframe thead th {\n        text-align: right;\n    }\n</style>\n<table border=\"1\" class=\"dataframe\">\n  <thead>\n    <tr style=\"text-align: right;\">\n      <th></th>\n      <th>id</th>\n      <th>feature</th>\n    </tr>\n  </thead>\n  <tbody>\n    <tr>\n      <th>0</th>\n      <td>39551</td>\n      <td>[{\"item_feature\":\"Extrude\",\"item_name\":\"颧弓宽度\"}...</td>\n    </tr>\n    <tr>\n      <th>1</th>\n      <td>70993</td>\n      <td>[{\"item_feature\":\"Normal\",\"item_name\":\"颧弓宽度\"},...</td>\n    </tr>\n    <tr>\n      <th>2</th>\n      <td>185830</td>\n      <td>[{\"item_feature\":\"Extrude\",\"item_name\":\"颧弓宽度\"}...</td>\n    </tr>\n    <tr>\n      <th>3</th>\n      <td>269632</td>\n      <td>[{\"item_feature\":\"Normal\",\"item_name\":\"颧弓宽度\"},...</td>\n    </tr>\n    <tr>\n      <th>4</th>\n      <td>110328</td>\n      <td>[{\"item_feature\":\"Normal\",\"item_name\":\"颧弓宽度\"},...</td>\n    </tr>\n  </tbody>\n</table>\n</div>"
     },
     "metadata": {},
     "execution_count": 2
    }
   ],
   "source": [
    "df = pd.read_csv('example.csv')\n",
    "df"
   ]
  },
  {
   "cell_type": "code",
   "execution_count": 3,
   "metadata": {},
   "outputs": [
    {
     "output_type": "execute_result",
     "data": {
      "text/plain": "'[{\"item_feature\":\"Normal\",\"item_name\":\"颧弓宽度\"},{\"item_feature\":\"Normal\",\"item_name\":\"下颌角宽度\"},{\"item_feature\":\"Short\",\"item_name\":\"骨相脸长\"},{\"item_feature\":\"Normal\",\"item_name\":\"黄金三角\"},{\"item_feature\":\"Round\",\"item_name\":\"左内眼角度数\"},{\"item_feature\":\"Normal\",\"item_name\":\"右内眼角度数\"},{\"item_feature\":\"Normal\",\"item_name\":\"嘴唇宽度\"},{\"item_feature\":\"Normal\",\"item_name\":\"骨相鼻长\"},{\"item_feature\":\"Normal\",\"item_name\":\"下巴宽度\"},{\"item_feature\":\"Normal\",\"item_name\":\"眉毛长度\"},{\"item_feature\":\"Normal\",\"item_name\":\"眉尾锐度\"},{\"item_feature\":\"Normal\",\"item_name\":\"鼻翼宽度\"},{\"item_feature\":\"Wide\",\"item_name\":\"瞳孔颧弓距离\"},{\"item_feature\":\"Normal\",\"item_name\":\"内眼角间距\"},{\"item_feature\":\"Normal\",\"item_name\":\"眼睛长短\"},{\"item_feature\":\"Wide\",\"item_name\":\"外眼角颧弓留白\"},{\"item_feature\":\"Short\",\"item_name\":\"下巴长度\"},{\"item_feature\":\"Far\",\"item_name\":\"眉眼距\"},{\"item_feature\":\"Normal\",\"item_name\":\"人中长度\"},{\"item_feature\":\"Normal\",\"item_name\":\"眼睛高度\"},{\"item_feature\":\"Normal\",\"item_name\":\"下嘴唇厚度\"},{\"item_feature\":\"Normal\",\"item_name\":\"上嘴唇厚度\"},{\"item_feature\":\"Normal\",\"item_name\":\"综合粗细\"},{\"item_feature\":\"Drooping\",\"item_name\":\"眉毛挑度\"},{\"item_feature\":\"Long\",\"item_name\":\"中下庭比例\"},{\"item_feature\":\"Round\",\"item_name\":\"颧弓下颌角比\"},{\"item_feature\":\"Round\",\"item_name\":\"眼角\"},{\"item_feature\":\"Normal\",\"item_name\":\"面颊\"},{\"item_feature\":\"Normal\",\"item_name\":\"五眼比例\"},{\"item_feature\":\"Up\",\"item_name\":\"眼尾\"},{\"item_feature\":\"Up\",\"item_name\":\"嘴角走势\"},{\"item_feature\":\"Have\",\"item_name\":\"双眼皮\"},{\"item_feature\":\"Have\",\"item_name\":\"卧蚕\"},{\"item_feature\":\"Normal\",\"item_name\":\"脸型\"},{\"item_feature\":\"Normal\",\"item_name\":\"眼睛\"},{\"item_feature\":\"Normal\",\"item_name\":\"苹果肌\"},{\"item_feature\":\"Round\",\"item_name\":\"下巴尖圆\"},{\"item_feature\":\"Normal\",\"item_name\":\"鼻梁\"},{\"item_feature\":\"Normal\",\"item_name\":\"海鸥线\"},{\"item_feature\":\"Normal\",\"item_name\":\"下颌角宽窄\"},{\"item_feature\":\"Normal\",\"item_name\":\"三庭比例\"},{\"item_feature\":\"Normal\",\"item_name\":\"瞳距\"},{\"item_feature\":\"Normal\",\"item_name\":\"上嘴唇\"},{\"item_feature\":\"Normal\",\"item_name\":\"下嘴唇\"},{\"item_feature\":\"Normal\",\"item_name\":\"人中\"},{\"item_feature\":\"Normal\",\"item_name\":\"下巴长短\"},{\"item_feature\":\"Normal\",\"item_name\":\"鼻翼\"},{\"item_feature\":\"Normal\",\"item_name\":\"眼袋\"},{\"item_feature\":\"Normal\",\"item_name\":\"法令纹\"},{\"item_feature\":\"Normal\",\"item_name\":\"颧弓\"},{\"item_feature\":\"Normal\",\"item_name\":\"太阳穴\"},{\"item_feature\":\"普通脸\",\"item_name\":\"稀有脸\"}]'"
     },
     "metadata": {},
     "execution_count": 3
    }
   ],
   "source": [
    "# this is a string, which you split by quote and then loop to hardcode structure\n",
    "# we should convert this to a list and then process\n",
    "df['feature'][1]"
   ]
  },
  {
   "cell_type": "code",
   "execution_count": 4,
   "metadata": {},
   "outputs": [
    {
     "output_type": "execute_result",
     "data": {
      "text/plain": "[{'item_feature': 'Normal', 'item_name': '颧弓宽度'},\n {'item_feature': 'Normal', 'item_name': '下颌角宽度'},\n {'item_feature': 'Short', 'item_name': '骨相脸长'},\n {'item_feature': 'Normal', 'item_name': '黄金三角'},\n {'item_feature': 'Round', 'item_name': '左内眼角度数'},\n {'item_feature': 'Normal', 'item_name': '右内眼角度数'},\n {'item_feature': 'Normal', 'item_name': '嘴唇宽度'},\n {'item_feature': 'Normal', 'item_name': '骨相鼻长'},\n {'item_feature': 'Normal', 'item_name': '下巴宽度'},\n {'item_feature': 'Normal', 'item_name': '眉毛长度'},\n {'item_feature': 'Normal', 'item_name': '眉尾锐度'},\n {'item_feature': 'Normal', 'item_name': '鼻翼宽度'},\n {'item_feature': 'Wide', 'item_name': '瞳孔颧弓距离'},\n {'item_feature': 'Normal', 'item_name': '内眼角间距'},\n {'item_feature': 'Normal', 'item_name': '眼睛长短'},\n {'item_feature': 'Wide', 'item_name': '外眼角颧弓留白'},\n {'item_feature': 'Short', 'item_name': '下巴长度'},\n {'item_feature': 'Far', 'item_name': '眉眼距'},\n {'item_feature': 'Normal', 'item_name': '人中长度'},\n {'item_feature': 'Normal', 'item_name': '眼睛高度'},\n {'item_feature': 'Normal', 'item_name': '下嘴唇厚度'},\n {'item_feature': 'Normal', 'item_name': '上嘴唇厚度'},\n {'item_feature': 'Normal', 'item_name': '综合粗细'},\n {'item_feature': 'Drooping', 'item_name': '眉毛挑度'},\n {'item_feature': 'Long', 'item_name': '中下庭比例'},\n {'item_feature': 'Round', 'item_name': '颧弓下颌角比'},\n {'item_feature': 'Round', 'item_name': '眼角'},\n {'item_feature': 'Normal', 'item_name': '面颊'},\n {'item_feature': 'Normal', 'item_name': '五眼比例'},\n {'item_feature': 'Up', 'item_name': '眼尾'},\n {'item_feature': 'Up', 'item_name': '嘴角走势'},\n {'item_feature': 'Have', 'item_name': '双眼皮'},\n {'item_feature': 'Have', 'item_name': '卧蚕'},\n {'item_feature': 'Normal', 'item_name': '脸型'},\n {'item_feature': 'Normal', 'item_name': '眼睛'},\n {'item_feature': 'Normal', 'item_name': '苹果肌'},\n {'item_feature': 'Round', 'item_name': '下巴尖圆'},\n {'item_feature': 'Normal', 'item_name': '鼻梁'},\n {'item_feature': 'Normal', 'item_name': '海鸥线'},\n {'item_feature': 'Normal', 'item_name': '下颌角宽窄'},\n {'item_feature': 'Normal', 'item_name': '三庭比例'},\n {'item_feature': 'Normal', 'item_name': '瞳距'},\n {'item_feature': 'Normal', 'item_name': '上嘴唇'},\n {'item_feature': 'Normal', 'item_name': '下嘴唇'},\n {'item_feature': 'Normal', 'item_name': '人中'},\n {'item_feature': 'Normal', 'item_name': '下巴长短'},\n {'item_feature': 'Normal', 'item_name': '鼻翼'},\n {'item_feature': 'Normal', 'item_name': '眼袋'},\n {'item_feature': 'Normal', 'item_name': '法令纹'},\n {'item_feature': 'Normal', 'item_name': '颧弓'},\n {'item_feature': 'Normal', 'item_name': '太阳穴'},\n {'item_feature': '普通脸', 'item_name': '稀有脸'}]"
     },
     "metadata": {},
     "execution_count": 4
    }
   ],
   "source": [
    "import ast\n",
    "features_list = ast.literal_eval(df['feature'][1])\n",
    "features_list"
   ]
  },
  {
   "cell_type": "code",
   "execution_count": 5,
   "metadata": {},
   "outputs": [
    {
     "output_type": "execute_result",
     "data": {
      "text/plain": "   item_feature item_name\n0        Normal      颧弓宽度\n1        Normal     下颌角宽度\n2         Short      骨相脸长\n3        Normal      黄金三角\n4         Round    左内眼角度数\n5        Normal    右内眼角度数\n6        Normal      嘴唇宽度\n7        Normal      骨相鼻长\n8        Normal      下巴宽度\n9        Normal      眉毛长度\n10       Normal      眉尾锐度\n11       Normal      鼻翼宽度\n12         Wide    瞳孔颧弓距离\n13       Normal     内眼角间距\n14       Normal      眼睛长短\n15         Wide   外眼角颧弓留白\n16        Short      下巴长度\n17          Far       眉眼距\n18       Normal      人中长度\n19       Normal      眼睛高度\n20       Normal     下嘴唇厚度\n21       Normal     上嘴唇厚度\n22       Normal      综合粗细\n23     Drooping      眉毛挑度\n24         Long     中下庭比例\n25        Round    颧弓下颌角比\n26        Round        眼角\n27       Normal        面颊\n28       Normal      五眼比例\n29           Up        眼尾\n30           Up      嘴角走势\n31         Have       双眼皮\n32         Have        卧蚕\n33       Normal        脸型\n34       Normal        眼睛\n35       Normal       苹果肌\n36        Round      下巴尖圆\n37       Normal        鼻梁\n38       Normal       海鸥线\n39       Normal     下颌角宽窄\n40       Normal      三庭比例\n41       Normal        瞳距\n42       Normal       上嘴唇\n43       Normal       下嘴唇\n44       Normal        人中\n45       Normal      下巴长短\n46       Normal        鼻翼\n47       Normal        眼袋\n48       Normal       法令纹\n49       Normal        颧弓\n50       Normal       太阳穴\n51          普通脸       稀有脸",
      "text/html": "<div>\n<style scoped>\n    .dataframe tbody tr th:only-of-type {\n        vertical-align: middle;\n    }\n\n    .dataframe tbody tr th {\n        vertical-align: top;\n    }\n\n    .dataframe thead th {\n        text-align: right;\n    }\n</style>\n<table border=\"1\" class=\"dataframe\">\n  <thead>\n    <tr style=\"text-align: right;\">\n      <th></th>\n      <th>item_feature</th>\n      <th>item_name</th>\n    </tr>\n  </thead>\n  <tbody>\n    <tr>\n      <th>0</th>\n      <td>Normal</td>\n      <td>颧弓宽度</td>\n    </tr>\n    <tr>\n      <th>1</th>\n      <td>Normal</td>\n      <td>下颌角宽度</td>\n    </tr>\n    <tr>\n      <th>2</th>\n      <td>Short</td>\n      <td>骨相脸长</td>\n    </tr>\n    <tr>\n      <th>3</th>\n      <td>Normal</td>\n      <td>黄金三角</td>\n    </tr>\n    <tr>\n      <th>4</th>\n      <td>Round</td>\n      <td>左内眼角度数</td>\n    </tr>\n    <tr>\n      <th>5</th>\n      <td>Normal</td>\n      <td>右内眼角度数</td>\n    </tr>\n    <tr>\n      <th>6</th>\n      <td>Normal</td>\n      <td>嘴唇宽度</td>\n    </tr>\n    <tr>\n      <th>7</th>\n      <td>Normal</td>\n      <td>骨相鼻长</td>\n    </tr>\n    <tr>\n      <th>8</th>\n      <td>Normal</td>\n      <td>下巴宽度</td>\n    </tr>\n    <tr>\n      <th>9</th>\n      <td>Normal</td>\n      <td>眉毛长度</td>\n    </tr>\n    <tr>\n      <th>10</th>\n      <td>Normal</td>\n      <td>眉尾锐度</td>\n    </tr>\n    <tr>\n      <th>11</th>\n      <td>Normal</td>\n      <td>鼻翼宽度</td>\n    </tr>\n    <tr>\n      <th>12</th>\n      <td>Wide</td>\n      <td>瞳孔颧弓距离</td>\n    </tr>\n    <tr>\n      <th>13</th>\n      <td>Normal</td>\n      <td>内眼角间距</td>\n    </tr>\n    <tr>\n      <th>14</th>\n      <td>Normal</td>\n      <td>眼睛长短</td>\n    </tr>\n    <tr>\n      <th>15</th>\n      <td>Wide</td>\n      <td>外眼角颧弓留白</td>\n    </tr>\n    <tr>\n      <th>16</th>\n      <td>Short</td>\n      <td>下巴长度</td>\n    </tr>\n    <tr>\n      <th>17</th>\n      <td>Far</td>\n      <td>眉眼距</td>\n    </tr>\n    <tr>\n      <th>18</th>\n      <td>Normal</td>\n      <td>人中长度</td>\n    </tr>\n    <tr>\n      <th>19</th>\n      <td>Normal</td>\n      <td>眼睛高度</td>\n    </tr>\n    <tr>\n      <th>20</th>\n      <td>Normal</td>\n      <td>下嘴唇厚度</td>\n    </tr>\n    <tr>\n      <th>21</th>\n      <td>Normal</td>\n      <td>上嘴唇厚度</td>\n    </tr>\n    <tr>\n      <th>22</th>\n      <td>Normal</td>\n      <td>综合粗细</td>\n    </tr>\n    <tr>\n      <th>23</th>\n      <td>Drooping</td>\n      <td>眉毛挑度</td>\n    </tr>\n    <tr>\n      <th>24</th>\n      <td>Long</td>\n      <td>中下庭比例</td>\n    </tr>\n    <tr>\n      <th>25</th>\n      <td>Round</td>\n      <td>颧弓下颌角比</td>\n    </tr>\n    <tr>\n      <th>26</th>\n      <td>Round</td>\n      <td>眼角</td>\n    </tr>\n    <tr>\n      <th>27</th>\n      <td>Normal</td>\n      <td>面颊</td>\n    </tr>\n    <tr>\n      <th>28</th>\n      <td>Normal</td>\n      <td>五眼比例</td>\n    </tr>\n    <tr>\n      <th>29</th>\n      <td>Up</td>\n      <td>眼尾</td>\n    </tr>\n    <tr>\n      <th>30</th>\n      <td>Up</td>\n      <td>嘴角走势</td>\n    </tr>\n    <tr>\n      <th>31</th>\n      <td>Have</td>\n      <td>双眼皮</td>\n    </tr>\n    <tr>\n      <th>32</th>\n      <td>Have</td>\n      <td>卧蚕</td>\n    </tr>\n    <tr>\n      <th>33</th>\n      <td>Normal</td>\n      <td>脸型</td>\n    </tr>\n    <tr>\n      <th>34</th>\n      <td>Normal</td>\n      <td>眼睛</td>\n    </tr>\n    <tr>\n      <th>35</th>\n      <td>Normal</td>\n      <td>苹果肌</td>\n    </tr>\n    <tr>\n      <th>36</th>\n      <td>Round</td>\n      <td>下巴尖圆</td>\n    </tr>\n    <tr>\n      <th>37</th>\n      <td>Normal</td>\n      <td>鼻梁</td>\n    </tr>\n    <tr>\n      <th>38</th>\n      <td>Normal</td>\n      <td>海鸥线</td>\n    </tr>\n    <tr>\n      <th>39</th>\n      <td>Normal</td>\n      <td>下颌角宽窄</td>\n    </tr>\n    <tr>\n      <th>40</th>\n      <td>Normal</td>\n      <td>三庭比例</td>\n    </tr>\n    <tr>\n      <th>41</th>\n      <td>Normal</td>\n      <td>瞳距</td>\n    </tr>\n    <tr>\n      <th>42</th>\n      <td>Normal</td>\n      <td>上嘴唇</td>\n    </tr>\n    <tr>\n      <th>43</th>\n      <td>Normal</td>\n      <td>下嘴唇</td>\n    </tr>\n    <tr>\n      <th>44</th>\n      <td>Normal</td>\n      <td>人中</td>\n    </tr>\n    <tr>\n      <th>45</th>\n      <td>Normal</td>\n      <td>下巴长短</td>\n    </tr>\n    <tr>\n      <th>46</th>\n      <td>Normal</td>\n      <td>鼻翼</td>\n    </tr>\n    <tr>\n      <th>47</th>\n      <td>Normal</td>\n      <td>眼袋</td>\n    </tr>\n    <tr>\n      <th>48</th>\n      <td>Normal</td>\n      <td>法令纹</td>\n    </tr>\n    <tr>\n      <th>49</th>\n      <td>Normal</td>\n      <td>颧弓</td>\n    </tr>\n    <tr>\n      <th>50</th>\n      <td>Normal</td>\n      <td>太阳穴</td>\n    </tr>\n    <tr>\n      <th>51</th>\n      <td>普通脸</td>\n      <td>稀有脸</td>\n    </tr>\n  </tbody>\n</table>\n</div>"
     },
     "metadata": {},
     "execution_count": 5
    }
   ],
   "source": [
    "features = pd.DataFrame(features_list)\n",
    "features"
   ]
  },
  {
   "cell_type": "code",
   "execution_count": 7,
   "metadata": {
    "tags": []
   },
   "outputs": [],
   "source": [
    "# we want each feature to be a column\n",
    "result = []\n",
    "for idx, row in df.iterrows():\n",
    "    feature_list = ast.literal_eval(row['feature'])\n",
    "    dct1 = {}\n",
    "    for dct in feature_list:\n",
    "        #print(dct['item_feature'], dct['item_name'])\n",
    "        dct1[dct['item_name']] = dct['item_feature']\n",
    "    dct1['id']=row['id']\n",
    "    result.append(dct1)"
   ]
  },
  {
   "cell_type": "code",
   "execution_count": 8,
   "metadata": {
    "tags": []
   },
   "outputs": [
    {
     "output_type": "stream",
     "name": "stdout",
     "text": "<class 'pandas.core.frame.DataFrame'>\nRangeIndex: 5 entries, 0 to 4\nData columns (total 54 columns):\n #   Column   Non-Null Count  Dtype \n---  ------   --------------  ----- \n 0   颧弓宽度     5 non-null      object\n 1   骨相脸长     3 non-null      object\n 2   下颌角宽度    5 non-null      object\n 3   黄金三角     5 non-null      object\n 4   右内眼角度数   3 non-null      object\n 5   左内眼角度数   3 non-null      object\n 6   骨相鼻长     5 non-null      object\n 7   下巴宽度     5 non-null      object\n 8   嘴唇宽度     5 non-null      object\n 9   眉毛长度     5 non-null      object\n 10  瞳孔颧弓距离   5 non-null      object\n 11  鼻翼宽度     3 non-null      object\n 12  眉尾锐度     5 non-null      object\n 13  内眼角间距    5 non-null      object\n 14  下巴长度     3 non-null      object\n 15  外眼角颧弓留白  5 non-null      object\n 16  眼睛长短     5 non-null      object\n 17  人中长度     3 non-null      object\n 18  眼睛高度     5 non-null      object\n 19  眉眼距      5 non-null      object\n 20  下嘴唇厚度    3 non-null      object\n 21  上嘴唇厚度    3 non-null      object\n 22  综合粗细     5 non-null      object\n 23  眉毛挑度     5 non-null      object\n 24  颧弓下颌角比   5 non-null      object\n 25  中下庭比例    5 non-null      object\n 26  面颊       5 non-null      object\n 27  鼻梁       5 non-null      object\n 28  五眼比例     5 non-null      object\n 29  眼尾       5 non-null      object\n 30  下颌角宽窄    5 non-null      object\n 31  双眼皮      5 non-null      object\n 32  太阳穴      5 non-null      object\n 33  眼袋       5 non-null      object\n 34  卧蚕       5 non-null      object\n 35  颧弓       5 non-null      object\n 36  法令纹      5 non-null      object\n 37  嘴角走势     5 non-null      object\n 38  海鸥线      5 non-null      object\n 39  瞳距       5 non-null      object\n 40  脸型       5 non-null      object\n 41  苹果肌      5 non-null      object\n 42  鼻翼       5 non-null      object\n 43  下巴尖圆     5 non-null      object\n 44  眼睛       5 non-null      object\n 45  三庭比例     5 non-null      object\n 46  上嘴唇      5 non-null      object\n 47  下嘴唇      5 non-null      object\n 48  人中       5 non-null      object\n 49  下巴长短     5 non-null      object\n 50  眼角       5 non-null      object\n 51  稀有脸      5 non-null      object\n 52  id       5 non-null      int64 \n 53  脸长T字比    2 non-null      object\ndtypes: int64(1), object(53)\nmemory usage: 2.2+ KB\n"
    }
   ],
   "source": [
    "df1 = pd.DataFrame(result)\n",
    "df1.info()"
   ]
  },
  {
   "cell_type": "code",
   "execution_count": 9,
   "metadata": {},
   "outputs": [
    {
     "output_type": "execute_result",
     "data": {
      "text/plain": "      颧弓宽度    骨相脸长   下颌角宽度    黄金三角  右内眼角度数  左内眼角度数    骨相鼻长    下巴宽度    嘴唇宽度  \\\n0  Extrude  Normal    Wide  Normal  Normal  Normal  Normal  Normal  Normal   \n1   Normal   Short  Normal  Normal  Normal   Round  Normal  Normal  Normal   \n2  Extrude     NaN    Wide     Big     NaN     NaN   Short    Wide  Normal   \n3   Normal     NaN  Normal     Big     NaN     NaN   Short  Normal  Normal   \n4   Normal  Normal  Normal  Normal   Round  Normal  Normal  Normal  Normal   \n\n     眉毛长度  ...      眼睛    三庭比例     上嘴唇     下嘴唇      人中    下巴长短      眼角  稀有脸  \\\n0    Long  ...  Normal  Normal  Normal  Normal  Normal  Normal  Normal  普通脸   \n1  Normal  ...  Normal  Normal  Normal  Normal  Normal  Normal   Round  普通脸   \n2  Normal  ...   Small   Short    Thin    Thin  Normal    Long  Normal  普通脸   \n3  Normal  ...   Small  Normal  Normal  Normal   Short  Normal   Sharp  普通脸   \n4  Normal  ...     Big  Normal  Normal  Normal  Normal  Normal   Round  普通脸   \n\n       id   脸长T字比  \n0   39551     NaN  \n1   70993     NaN  \n2  185830  Little  \n3  269632  Little  \n4  110328     NaN  \n\n[5 rows x 54 columns]",
      "text/html": "<div>\n<style scoped>\n    .dataframe tbody tr th:only-of-type {\n        vertical-align: middle;\n    }\n\n    .dataframe tbody tr th {\n        vertical-align: top;\n    }\n\n    .dataframe thead th {\n        text-align: right;\n    }\n</style>\n<table border=\"1\" class=\"dataframe\">\n  <thead>\n    <tr style=\"text-align: right;\">\n      <th></th>\n      <th>颧弓宽度</th>\n      <th>骨相脸长</th>\n      <th>下颌角宽度</th>\n      <th>黄金三角</th>\n      <th>右内眼角度数</th>\n      <th>左内眼角度数</th>\n      <th>骨相鼻长</th>\n      <th>下巴宽度</th>\n      <th>嘴唇宽度</th>\n      <th>眉毛长度</th>\n      <th>...</th>\n      <th>眼睛</th>\n      <th>三庭比例</th>\n      <th>上嘴唇</th>\n      <th>下嘴唇</th>\n      <th>人中</th>\n      <th>下巴长短</th>\n      <th>眼角</th>\n      <th>稀有脸</th>\n      <th>id</th>\n      <th>脸长T字比</th>\n    </tr>\n  </thead>\n  <tbody>\n    <tr>\n      <th>0</th>\n      <td>Extrude</td>\n      <td>Normal</td>\n      <td>Wide</td>\n      <td>Normal</td>\n      <td>Normal</td>\n      <td>Normal</td>\n      <td>Normal</td>\n      <td>Normal</td>\n      <td>Normal</td>\n      <td>Long</td>\n      <td>...</td>\n      <td>Normal</td>\n      <td>Normal</td>\n      <td>Normal</td>\n      <td>Normal</td>\n      <td>Normal</td>\n      <td>Normal</td>\n      <td>Normal</td>\n      <td>普通脸</td>\n      <td>39551</td>\n      <td>NaN</td>\n    </tr>\n    <tr>\n      <th>1</th>\n      <td>Normal</td>\n      <td>Short</td>\n      <td>Normal</td>\n      <td>Normal</td>\n      <td>Normal</td>\n      <td>Round</td>\n      <td>Normal</td>\n      <td>Normal</td>\n      <td>Normal</td>\n      <td>Normal</td>\n      <td>...</td>\n      <td>Normal</td>\n      <td>Normal</td>\n      <td>Normal</td>\n      <td>Normal</td>\n      <td>Normal</td>\n      <td>Normal</td>\n      <td>Round</td>\n      <td>普通脸</td>\n      <td>70993</td>\n      <td>NaN</td>\n    </tr>\n    <tr>\n      <th>2</th>\n      <td>Extrude</td>\n      <td>NaN</td>\n      <td>Wide</td>\n      <td>Big</td>\n      <td>NaN</td>\n      <td>NaN</td>\n      <td>Short</td>\n      <td>Wide</td>\n      <td>Normal</td>\n      <td>Normal</td>\n      <td>...</td>\n      <td>Small</td>\n      <td>Short</td>\n      <td>Thin</td>\n      <td>Thin</td>\n      <td>Normal</td>\n      <td>Long</td>\n      <td>Normal</td>\n      <td>普通脸</td>\n      <td>185830</td>\n      <td>Little</td>\n    </tr>\n    <tr>\n      <th>3</th>\n      <td>Normal</td>\n      <td>NaN</td>\n      <td>Normal</td>\n      <td>Big</td>\n      <td>NaN</td>\n      <td>NaN</td>\n      <td>Short</td>\n      <td>Normal</td>\n      <td>Normal</td>\n      <td>Normal</td>\n      <td>...</td>\n      <td>Small</td>\n      <td>Normal</td>\n      <td>Normal</td>\n      <td>Normal</td>\n      <td>Short</td>\n      <td>Normal</td>\n      <td>Sharp</td>\n      <td>普通脸</td>\n      <td>269632</td>\n      <td>Little</td>\n    </tr>\n    <tr>\n      <th>4</th>\n      <td>Normal</td>\n      <td>Normal</td>\n      <td>Normal</td>\n      <td>Normal</td>\n      <td>Round</td>\n      <td>Normal</td>\n      <td>Normal</td>\n      <td>Normal</td>\n      <td>Normal</td>\n      <td>Normal</td>\n      <td>...</td>\n      <td>Big</td>\n      <td>Normal</td>\n      <td>Normal</td>\n      <td>Normal</td>\n      <td>Normal</td>\n      <td>Normal</td>\n      <td>Round</td>\n      <td>普通脸</td>\n      <td>110328</td>\n      <td>NaN</td>\n    </tr>\n  </tbody>\n</table>\n<p>5 rows × 54 columns</p>\n</div>"
     },
     "metadata": {},
     "execution_count": 9
    }
   ],
   "source": [
    "df1.head()"
   ]
  },
  {
   "cell_type": "code",
   "execution_count": 10,
   "metadata": {},
   "outputs": [
    {
     "output_type": "execute_result",
     "data": {
      "text/plain": "       id     颧弓宽度    骨相脸长   下颌角宽度    黄金三角  右内眼角度数  左内眼角度数    骨相鼻长    下巴宽度  \\\n0   39551  Extrude  Normal    Wide  Normal  Normal  Normal  Normal  Normal   \n1   70993   Normal   Short  Normal  Normal  Normal   Round  Normal  Normal   \n2  185830  Extrude     NaN    Wide     Big     NaN     NaN   Short    Wide   \n3  269632   Normal     NaN  Normal     Big     NaN     NaN   Short  Normal   \n4  110328   Normal  Normal  Normal  Normal   Round  Normal  Normal  Normal   \n\n     嘴唇宽度  ...   下巴尖圆      眼睛    三庭比例     上嘴唇     下嘴唇      人中    下巴长短      眼角  \\\n0  Normal  ...  Round  Normal  Normal  Normal  Normal  Normal  Normal  Normal   \n1  Normal  ...  Round  Normal  Normal  Normal  Normal  Normal  Normal   Round   \n2  Normal  ...  Round   Small   Short    Thin    Thin  Normal    Long  Normal   \n3  Normal  ...  Round   Small  Normal  Normal  Normal   Short  Normal   Sharp   \n4  Normal  ...  Round     Big  Normal  Normal  Normal  Normal  Normal   Round   \n\n   稀有脸   脸长T字比  \n0  普通脸     NaN  \n1  普通脸     NaN  \n2  普通脸  Little  \n3  普通脸  Little  \n4  普通脸     NaN  \n\n[5 rows x 54 columns]",
      "text/html": "<div>\n<style scoped>\n    .dataframe tbody tr th:only-of-type {\n        vertical-align: middle;\n    }\n\n    .dataframe tbody tr th {\n        vertical-align: top;\n    }\n\n    .dataframe thead th {\n        text-align: right;\n    }\n</style>\n<table border=\"1\" class=\"dataframe\">\n  <thead>\n    <tr style=\"text-align: right;\">\n      <th></th>\n      <th>id</th>\n      <th>颧弓宽度</th>\n      <th>骨相脸长</th>\n      <th>下颌角宽度</th>\n      <th>黄金三角</th>\n      <th>右内眼角度数</th>\n      <th>左内眼角度数</th>\n      <th>骨相鼻长</th>\n      <th>下巴宽度</th>\n      <th>嘴唇宽度</th>\n      <th>...</th>\n      <th>下巴尖圆</th>\n      <th>眼睛</th>\n      <th>三庭比例</th>\n      <th>上嘴唇</th>\n      <th>下嘴唇</th>\n      <th>人中</th>\n      <th>下巴长短</th>\n      <th>眼角</th>\n      <th>稀有脸</th>\n      <th>脸长T字比</th>\n    </tr>\n  </thead>\n  <tbody>\n    <tr>\n      <th>0</th>\n      <td>39551</td>\n      <td>Extrude</td>\n      <td>Normal</td>\n      <td>Wide</td>\n      <td>Normal</td>\n      <td>Normal</td>\n      <td>Normal</td>\n      <td>Normal</td>\n      <td>Normal</td>\n      <td>Normal</td>\n      <td>...</td>\n      <td>Round</td>\n      <td>Normal</td>\n      <td>Normal</td>\n      <td>Normal</td>\n      <td>Normal</td>\n      <td>Normal</td>\n      <td>Normal</td>\n      <td>Normal</td>\n      <td>普通脸</td>\n      <td>NaN</td>\n    </tr>\n    <tr>\n      <th>1</th>\n      <td>70993</td>\n      <td>Normal</td>\n      <td>Short</td>\n      <td>Normal</td>\n      <td>Normal</td>\n      <td>Normal</td>\n      <td>Round</td>\n      <td>Normal</td>\n      <td>Normal</td>\n      <td>Normal</td>\n      <td>...</td>\n      <td>Round</td>\n      <td>Normal</td>\n      <td>Normal</td>\n      <td>Normal</td>\n      <td>Normal</td>\n      <td>Normal</td>\n      <td>Normal</td>\n      <td>Round</td>\n      <td>普通脸</td>\n      <td>NaN</td>\n    </tr>\n    <tr>\n      <th>2</th>\n      <td>185830</td>\n      <td>Extrude</td>\n      <td>NaN</td>\n      <td>Wide</td>\n      <td>Big</td>\n      <td>NaN</td>\n      <td>NaN</td>\n      <td>Short</td>\n      <td>Wide</td>\n      <td>Normal</td>\n      <td>...</td>\n      <td>Round</td>\n      <td>Small</td>\n      <td>Short</td>\n      <td>Thin</td>\n      <td>Thin</td>\n      <td>Normal</td>\n      <td>Long</td>\n      <td>Normal</td>\n      <td>普通脸</td>\n      <td>Little</td>\n    </tr>\n    <tr>\n      <th>3</th>\n      <td>269632</td>\n      <td>Normal</td>\n      <td>NaN</td>\n      <td>Normal</td>\n      <td>Big</td>\n      <td>NaN</td>\n      <td>NaN</td>\n      <td>Short</td>\n      <td>Normal</td>\n      <td>Normal</td>\n      <td>...</td>\n      <td>Round</td>\n      <td>Small</td>\n      <td>Normal</td>\n      <td>Normal</td>\n      <td>Normal</td>\n      <td>Short</td>\n      <td>Normal</td>\n      <td>Sharp</td>\n      <td>普通脸</td>\n      <td>Little</td>\n    </tr>\n    <tr>\n      <th>4</th>\n      <td>110328</td>\n      <td>Normal</td>\n      <td>Normal</td>\n      <td>Normal</td>\n      <td>Normal</td>\n      <td>Round</td>\n      <td>Normal</td>\n      <td>Normal</td>\n      <td>Normal</td>\n      <td>Normal</td>\n      <td>...</td>\n      <td>Round</td>\n      <td>Big</td>\n      <td>Normal</td>\n      <td>Normal</td>\n      <td>Normal</td>\n      <td>Normal</td>\n      <td>Normal</td>\n      <td>Round</td>\n      <td>普通脸</td>\n      <td>NaN</td>\n    </tr>\n  </tbody>\n</table>\n<p>5 rows × 54 columns</p>\n</div>"
     },
     "metadata": {},
     "execution_count": 10
    }
   ],
   "source": [
    "# move id to the first column\n",
    "col_name=\"id\"\n",
    "temp = df1.pop(col_name)\n",
    "df1.insert(0, col_name, temp)\n",
    "df1.head()"
   ]
  }
 ]
}