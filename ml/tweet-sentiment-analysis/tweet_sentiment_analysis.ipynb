{
 "cells": [
  {
   "cell_type": "markdown",
   "metadata": {},
   "source": [
    "# 1. Extracting twitter data (tweepy + pandas)"
   ]
  },
  {
   "cell_type": "markdown",
   "metadata": {},
   "source": [
    "## 1.1. Importing our libraries"
   ]
  },
  {
   "cell_type": "code",
   "execution_count": 59,
   "metadata": {
    "ExecuteTime": {
     "end_time": "2017-09-02T03:21:57.428820Z",
     "start_time": "2017-09-02T03:21:56.145867Z"
    },
    "slideshow": {
     "slide_type": "slide"
    }
   },
   "outputs": [],
   "source": [
    "# General:\n",
    "import tweepy           # To consume Twitter's API\n",
    "import pandas as pd     # To handle data\n",
    "import numpy as np      # For number computing\n",
    "import os               # For getting environment variables\n",
    "\n",
    "# For plotting and visualization:\n",
    "import matplotlib.pyplot as plt\n",
    "%matplotlib inline"
   ]
  },
  {
   "cell_type": "markdown",
   "metadata": {
    "slideshow": {
     "slide_type": "fragment"
    }
   },
   "source": [
    "## 1.2. Creating a Twitter App\n",
    "In order to extract tweets for a posterior analysis, we need to access to our Twitter account and create an app. The website to do this is https://apps.twitter.com/. (If you don't know how to do this, you can follow this tutorial video https://www.youtube.com/watch?v=BOA7SD_09Qk to create an account and an application.)\n",
    "\n",
    "From this app that we're creating we will save the following information in a script called credentials.py:\n",
    "\n",
    "Consumer Key (API Key)\n",
    "Consumer Secret (API Secret)\n",
    "Access Token\n",
    "Access Token Secret"
   ]
  },
  {
   "cell_type": "code",
   "execution_count": 60,
   "metadata": {
    "ExecuteTime": {
     "end_time": "2017-09-02T03:21:59.089623Z",
     "start_time": "2017-09-02T03:21:59.077624Z"
    }
   },
   "outputs": [],
   "source": [
    "# Get the API key from local environment variable\n",
    "CONSUMER_KEY = os.environ.get('TWITTER_CONSUMER_KEY')\n",
    "CONSUMER_SECRET = os.environ.get('TWITTER_CONSUMER_SECRET')\n",
    "ACCESS_TOKEN = os.environ.get('TWITTER_ACCESS_TOKEN')\n",
    "ACCESS_SECRET = os.environ.get('TWITTER_ACCESS_SECRET')\n",
    "\n",
    "# Configuración del API:\n",
    "def twitter_config():\n",
    "    \"\"\"\n",
    "    Utility function to setup the Twitter's API\n",
    "    with our access keys provided.\n",
    "    \"\"\"\n",
    "    # Autenticar y acceder usando llaves:\n",
    "    auth = tweepy.OAuthHandler(CONSUMER_KEY, CONSUMER_SECRET)\n",
    "    auth.set_access_token(ACCESS_TOKEN, ACCESS_SECRET)\n",
    "\n",
    "    # Regresar acceso al API:\n",
    "    api = tweepy.API(auth)\n",
    "    return api"
   ]
  },
  {
   "cell_type": "markdown",
   "metadata": {},
   "source": [
    "## 1.3 Tweets extraction"
   ]
  },
  {
   "cell_type": "markdown",
   "metadata": {},
   "source": [
    "Now that we've created a function to setup the Twitter API, we can use this function to create an \"extractor\" object. After this, we will use Tweepy's function extractor.user_timeline(screen_name, count) to extract from screen_name's user the quantity of count tweets.\n",
    "\n",
    "As it is mentioned in the title, I've chosen @realDonaldTrump as the user to extract data for a posterior analysis. Yeah, we wanna keep it interesting, LOL.\n",
    "\n",
    "The way to extract Twitter's data is as follows:\n",
    "\n",
    "\n",
    "<!-- <iframe src='https://twitter.com/realDonaldTrump' width=700 height=350></iframe> -->"
   ]
  },
  {
   "cell_type": "code",
   "execution_count": 61,
   "metadata": {
    "ExecuteTime": {
     "end_time": "2017-09-02T03:22:03.421227Z",
     "start_time": "2017-09-02T03:22:02.131664Z"
    }
   },
   "outputs": [
    {
     "name": "stdout",
     "output_type": "stream",
     "text": [
      "Number of tweets extracted: 200.\n",
      "\n",
      "5 recent tweets:\n",
      "\n",
      ".@FLOTUS Melania and I join millions of people around the world in mourning the passing of Billy Graham. Our prayer… https://t.co/Q8BrGTiHuP\n",
      "Yesterday, it was my great honor to recognize extraordinary Law Enforcement Officers and First Responders, and to a… https://t.co/PsfNaJrfEB\n",
      "Question: If all of the Russian meddling took place during the Obama Administration, right up to January 20th, why… https://t.co/dquN8v8VwU\n",
      "The GREAT Billy Graham is dead. There was nobody like him! He will be missed by Christians and all religions. A very special man.\n",
      "@CNN @MSNBC Whether we are Republican or Democrat, we must now focus on strengthening Background Checks!\n"
     ]
    }
   ],
   "source": [
    "# We create an extractor object:\n",
    "extractor = twitter_config()\n",
    "\n",
    "# We create a tweet list as follows:\n",
    "tweets = extractor.user_timeline(screen_name=\"realDonaldTrump\", count=200)\n",
    "print(\"Number of tweets extracted: {}.\\n\".format(len(tweets)))\n",
    "\n",
    "# We print the most recent 5 tweets:\n",
    "print(\"5 recent tweets:\\n\")\n",
    "for tweet in tweets[:5]:\n",
    "    print(tweet.text)"
   ]
  },
  {
   "cell_type": "markdown",
   "metadata": {},
   "source": [
    "We now have an extractor and extracted data, which is listed in the tweets variable. I must mention at this point that each element in that list is a tweet object from Tweepy, and we will learn how to handle this data in the next subsection."
   ]
  },
  {
   "cell_type": "markdown",
   "metadata": {},
   "source": [
    "## 1.4 Creating a (pandas) DataFrame"
   ]
  },
  {
   "cell_type": "markdown",
   "metadata": {},
   "source": [
    "We now have initial information to construct a pandas DataFrame, in order to manipulate the info in a very easy way.\n",
    "\n",
    "IPython's display function plots an output in a friendly way, and the head method of a dataframe allows us to visualize the first 5 elements of the dataframe (or the first number of elements that are passed as an argument)."
   ]
  },
  {
   "cell_type": "code",
   "execution_count": 62,
   "metadata": {
    "ExecuteTime": {
     "end_time": "2017-09-02T03:22:07.856260Z",
     "start_time": "2017-09-02T03:22:07.833635Z"
    }
   },
   "outputs": [
    {
     "data": {
      "text/html": [
       "<div>\n",
       "<style scoped>\n",
       "    .dataframe tbody tr th:only-of-type {\n",
       "        vertical-align: middle;\n",
       "    }\n",
       "\n",
       "    .dataframe tbody tr th {\n",
       "        vertical-align: top;\n",
       "    }\n",
       "\n",
       "    .dataframe thead th {\n",
       "        text-align: right;\n",
       "    }\n",
       "</style>\n",
       "<table border=\"1\" class=\"dataframe\">\n",
       "  <thead>\n",
       "    <tr style=\"text-align: right;\">\n",
       "      <th></th>\n",
       "      <th>Tweets</th>\n",
       "    </tr>\n",
       "  </thead>\n",
       "  <tbody>\n",
       "    <tr>\n",
       "      <th>0</th>\n",
       "      <td>.@FLOTUS Melania and I join millions of people...</td>\n",
       "    </tr>\n",
       "    <tr>\n",
       "      <th>1</th>\n",
       "      <td>Yesterday, it was my great honor to recognize ...</td>\n",
       "    </tr>\n",
       "    <tr>\n",
       "      <th>2</th>\n",
       "      <td>Question: If all of the Russian meddling took ...</td>\n",
       "    </tr>\n",
       "    <tr>\n",
       "      <th>3</th>\n",
       "      <td>The GREAT Billy Graham is dead. There was nobo...</td>\n",
       "    </tr>\n",
       "    <tr>\n",
       "      <th>4</th>\n",
       "      <td>@CNN @MSNBC Whether we are Republican or Democ...</td>\n",
       "    </tr>\n",
       "    <tr>\n",
       "      <th>5</th>\n",
       "      <td>So true, thank you! https://t.co/9TTXlfokYz</td>\n",
       "    </tr>\n",
       "    <tr>\n",
       "      <th>6</th>\n",
       "      <td>Bad ratings @CNN &amp;amp; @MSNBC got scammed when...</td>\n",
       "    </tr>\n",
       "    <tr>\n",
       "      <th>7</th>\n",
       "      <td>Main Street is BOOMING thanks to our incredibl...</td>\n",
       "    </tr>\n",
       "    <tr>\n",
       "      <th>8</th>\n",
       "      <td>....cameras running. Another False Accusation....</td>\n",
       "    </tr>\n",
       "    <tr>\n",
       "      <th>9</th>\n",
       "      <td>A woman I don’t know and, to the best of my kn...</td>\n",
       "    </tr>\n",
       "  </tbody>\n",
       "</table>\n",
       "</div>"
      ],
      "text/plain": [
       "                                              Tweets\n",
       "0  .@FLOTUS Melania and I join millions of people...\n",
       "1  Yesterday, it was my great honor to recognize ...\n",
       "2  Question: If all of the Russian meddling took ...\n",
       "3  The GREAT Billy Graham is dead. There was nobo...\n",
       "4  @CNN @MSNBC Whether we are Republican or Democ...\n",
       "5        So true, thank you! https://t.co/9TTXlfokYz\n",
       "6  Bad ratings @CNN &amp; @MSNBC got scammed when...\n",
       "7  Main Street is BOOMING thanks to our incredibl...\n",
       "8  ....cameras running. Another False Accusation....\n",
       "9  A woman I don’t know and, to the best of my kn..."
      ]
     },
     "execution_count": 62,
     "metadata": {},
     "output_type": "execute_result"
    }
   ],
   "source": [
    "# We create a pandas dataframe as follows:\n",
    "data = pd.DataFrame(data=[tweet.text for tweet in tweets], columns=['Tweets'])\n",
    "\n",
    "# We display the first 10 elements of the dataframe:\n",
    "data.head(10)"
   ]
  },
  {
   "cell_type": "markdown",
   "metadata": {},
   "source": [
    "An interesting thing is the number if internal methods that the tweetstructure has in Tweepy:"
   ]
  },
  {
   "cell_type": "code",
   "execution_count": 63,
   "metadata": {
    "ExecuteTime": {
     "end_time": "2017-09-02T03:22:34.896911Z",
     "start_time": "2017-09-02T03:22:34.891327Z"
    }
   },
   "outputs": [
    {
     "name": "stdout",
     "output_type": "stream",
     "text": [
      "['__class__', '__delattr__', '__dict__', '__dir__', '__doc__', '__eq__', '__format__', '__ge__', '__getattribute__', '__getstate__', '__gt__', '__hash__', '__init__', '__init_subclass__', '__le__', '__lt__', '__module__', '__ne__', '__new__', '__reduce__', '__reduce_ex__', '__repr__', '__setattr__', '__sizeof__', '__str__', '__subclasshook__', '__weakref__', '_api', '_json', 'author', 'contributors', 'coordinates', 'created_at', 'destroy', 'entities', 'favorite', 'favorite_count', 'favorited', 'geo', 'id', 'id_str', 'in_reply_to_screen_name', 'in_reply_to_status_id', 'in_reply_to_status_id_str', 'in_reply_to_user_id', 'in_reply_to_user_id_str', 'is_quote_status', 'lang', 'parse', 'parse_list', 'place', 'possibly_sensitive', 'retweet', 'retweet_count', 'retweeted', 'retweets', 'source', 'source_url', 'text', 'truncated', 'user']\n"
     ]
    }
   ],
   "source": [
    "# Internal methods of a single tweet object:\n",
    "print(dir(tweets[0]))"
   ]
  },
  {
   "cell_type": "markdown",
   "metadata": {},
   "source": [
    "The interesting part from here is the quantity of metadata contained in a single tweet. If we want to obtain data such as the creation date, or the source of creation, we can access the info with this attributes. An example is the following:"
   ]
  },
  {
   "cell_type": "code",
   "execution_count": 64,
   "metadata": {
    "ExecuteTime": {
     "end_time": "2017-09-02T03:22:37.416236Z",
     "start_time": "2017-09-02T03:22:37.399849Z"
    }
   },
   "outputs": [
    {
     "name": "stdout",
     "output_type": "stream",
     "text": [
      "966420452070559749\n",
      "2018-02-21 21:12:45\n",
      "Twitter for iPhone\n",
      "40910\n",
      "9725\n",
      "None\n",
      "None\n",
      "{'hashtags': [], 'symbols': [], 'user_mentions': [{'screen_name': 'FLOTUS', 'name': 'Melania Trump', 'id': 818876014390603776, 'id_str': '818876014390603776', 'indices': [1, 8]}], 'urls': [{'url': 'https://t.co/Q8BrGTiHuP', 'expanded_url': 'https://twitter.com/i/web/status/966420452070559749', 'display_url': 'twitter.com/i/web/status/9…', 'indices': [117, 140]}]}\n"
     ]
    }
   ],
   "source": [
    "# We print info from the first tweet:\n",
    "print(tweets[0].id)\n",
    "print(tweets[0].created_at)\n",
    "print(tweets[0].source)\n",
    "print(tweets[0].favorite_count)\n",
    "print(tweets[0].retweet_count)\n",
    "print(tweets[0].geo)\n",
    "print(tweets[0].coordinates)\n",
    "print(tweets[0].entities)"
   ]
  },
  {
   "cell_type": "markdown",
   "metadata": {},
   "source": [
    "## 1.5 Adding relevant info to our dataframe"
   ]
  },
  {
   "cell_type": "markdown",
   "metadata": {},
   "source": [
    "As we can see, we can obtain a lot of data from a single tweet. But not all this data is always useful for specific stuff. In our case we well just add some data to our dataframe. For this we will use Pythons list comprehension and a new column will be added to the dataframe by just simply adding the name of the content between square brackets and assign the content. The code goes as...:"
   ]
  },
  {
   "cell_type": "code",
   "execution_count": 65,
   "metadata": {
    "ExecuteTime": {
     "end_time": "2017-09-02T03:22:40.934212Z",
     "start_time": "2017-09-02T03:22:40.915152Z"
    }
   },
   "outputs": [],
   "source": [
    "# We add relevant data:\n",
    "data['len']  = np.array([len(tweet.text) for tweet in tweets])\n",
    "data['ID']   = np.array([tweet.id for tweet in tweets])\n",
    "data['Date'] = np.array([tweet.created_at for tweet in tweets])\n",
    "data['Source'] = np.array([tweet.source for tweet in tweets])\n",
    "data['Likes']  = np.array([tweet.favorite_count for tweet in tweets])\n",
    "data['RTs']    = np.array([tweet.retweet_count for tweet in tweets])"
   ]
  },
  {
   "cell_type": "markdown",
   "metadata": {},
   "source": [
    "And to display again the dataframe to see the changes we just...:"
   ]
  },
  {
   "cell_type": "code",
   "execution_count": 66,
   "metadata": {
    "ExecuteTime": {
     "end_time": "2017-09-02T03:22:43.176975Z",
     "start_time": "2017-09-02T03:22:43.156025Z"
    }
   },
   "outputs": [
    {
     "data": {
      "text/html": [
       "<div>\n",
       "<style scoped>\n",
       "    .dataframe tbody tr th:only-of-type {\n",
       "        vertical-align: middle;\n",
       "    }\n",
       "\n",
       "    .dataframe tbody tr th {\n",
       "        vertical-align: top;\n",
       "    }\n",
       "\n",
       "    .dataframe thead th {\n",
       "        text-align: right;\n",
       "    }\n",
       "</style>\n",
       "<table border=\"1\" class=\"dataframe\">\n",
       "  <thead>\n",
       "    <tr style=\"text-align: right;\">\n",
       "      <th></th>\n",
       "      <th>Tweets</th>\n",
       "      <th>len</th>\n",
       "      <th>ID</th>\n",
       "      <th>Date</th>\n",
       "      <th>Source</th>\n",
       "      <th>Likes</th>\n",
       "      <th>RTs</th>\n",
       "    </tr>\n",
       "  </thead>\n",
       "  <tbody>\n",
       "    <tr>\n",
       "      <th>0</th>\n",
       "      <td>.@FLOTUS Melania and I join millions of people...</td>\n",
       "      <td>140</td>\n",
       "      <td>966420452070559749</td>\n",
       "      <td>2018-02-21 21:12:45</td>\n",
       "      <td>Twitter for iPhone</td>\n",
       "      <td>40910</td>\n",
       "      <td>9725</td>\n",
       "    </tr>\n",
       "    <tr>\n",
       "      <th>1</th>\n",
       "      <td>Yesterday, it was my great honor to recognize ...</td>\n",
       "      <td>140</td>\n",
       "      <td>966377081469882368</td>\n",
       "      <td>2018-02-21 18:20:25</td>\n",
       "      <td>Media Studio</td>\n",
       "      <td>45070</td>\n",
       "      <td>9833</td>\n",
       "    </tr>\n",
       "    <tr>\n",
       "      <th>2</th>\n",
       "      <td>Question: If all of the Russian meddling took ...</td>\n",
       "      <td>139</td>\n",
       "      <td>966321700588711936</td>\n",
       "      <td>2018-02-21 14:40:21</td>\n",
       "      <td>Twitter for iPhone</td>\n",
       "      <td>84157</td>\n",
       "      <td>24260</td>\n",
       "    </tr>\n",
       "    <tr>\n",
       "      <th>3</th>\n",
       "      <td>The GREAT Billy Graham is dead. There was nobo...</td>\n",
       "      <td>129</td>\n",
       "      <td>966317112565420033</td>\n",
       "      <td>2018-02-21 14:22:07</td>\n",
       "      <td>Twitter for iPhone</td>\n",
       "      <td>113267</td>\n",
       "      <td>24967</td>\n",
       "    </tr>\n",
       "    <tr>\n",
       "      <th>4</th>\n",
       "      <td>@CNN @MSNBC Whether we are Republican or Democ...</td>\n",
       "      <td>104</td>\n",
       "      <td>966119932793585664</td>\n",
       "      <td>2018-02-21 01:18:36</td>\n",
       "      <td>Twitter for iPhone</td>\n",
       "      <td>71367</td>\n",
       "      <td>14623</td>\n",
       "    </tr>\n",
       "    <tr>\n",
       "      <th>5</th>\n",
       "      <td>So true, thank you! https://t.co/9TTXlfokYz</td>\n",
       "      <td>43</td>\n",
       "      <td>966118856874971138</td>\n",
       "      <td>2018-02-21 01:14:19</td>\n",
       "      <td>Twitter for iPhone</td>\n",
       "      <td>88297</td>\n",
       "      <td>20033</td>\n",
       "    </tr>\n",
       "    <tr>\n",
       "      <th>6</th>\n",
       "      <td>Bad ratings @CNN &amp;amp; @MSNBC got scammed when...</td>\n",
       "      <td>144</td>\n",
       "      <td>966117265426001920</td>\n",
       "      <td>2018-02-21 01:08:00</td>\n",
       "      <td>Twitter for iPhone</td>\n",
       "      <td>84866</td>\n",
       "      <td>20497</td>\n",
       "    </tr>\n",
       "    <tr>\n",
       "      <th>7</th>\n",
       "      <td>Main Street is BOOMING thanks to our incredibl...</td>\n",
       "      <td>139</td>\n",
       "      <td>966006815745040384</td>\n",
       "      <td>2018-02-20 17:49:07</td>\n",
       "      <td>Twitter for iPhone</td>\n",
       "      <td>68042</td>\n",
       "      <td>16447</td>\n",
       "    </tr>\n",
       "    <tr>\n",
       "      <th>8</th>\n",
       "      <td>....cameras running. Another False Accusation....</td>\n",
       "      <td>140</td>\n",
       "      <td>965971586913374208</td>\n",
       "      <td>2018-02-20 15:29:07</td>\n",
       "      <td>Twitter for iPhone</td>\n",
       "      <td>73635</td>\n",
       "      <td>18908</td>\n",
       "    </tr>\n",
       "    <tr>\n",
       "      <th>9</th>\n",
       "      <td>A woman I don’t know and, to the best of my kn...</td>\n",
       "      <td>139</td>\n",
       "      <td>965968309358333952</td>\n",
       "      <td>2018-02-20 15:16:06</td>\n",
       "      <td>Twitter for iPhone</td>\n",
       "      <td>89342</td>\n",
       "      <td>20787</td>\n",
       "    </tr>\n",
       "  </tbody>\n",
       "</table>\n",
       "</div>"
      ],
      "text/plain": [
       "                                              Tweets  len                  ID  \\\n",
       "0  .@FLOTUS Melania and I join millions of people...  140  966420452070559749   \n",
       "1  Yesterday, it was my great honor to recognize ...  140  966377081469882368   \n",
       "2  Question: If all of the Russian meddling took ...  139  966321700588711936   \n",
       "3  The GREAT Billy Graham is dead. There was nobo...  129  966317112565420033   \n",
       "4  @CNN @MSNBC Whether we are Republican or Democ...  104  966119932793585664   \n",
       "5        So true, thank you! https://t.co/9TTXlfokYz   43  966118856874971138   \n",
       "6  Bad ratings @CNN &amp; @MSNBC got scammed when...  144  966117265426001920   \n",
       "7  Main Street is BOOMING thanks to our incredibl...  139  966006815745040384   \n",
       "8  ....cameras running. Another False Accusation....  140  965971586913374208   \n",
       "9  A woman I don’t know and, to the best of my kn...  139  965968309358333952   \n",
       "\n",
       "                 Date              Source   Likes    RTs  \n",
       "0 2018-02-21 21:12:45  Twitter for iPhone   40910   9725  \n",
       "1 2018-02-21 18:20:25        Media Studio   45070   9833  \n",
       "2 2018-02-21 14:40:21  Twitter for iPhone   84157  24260  \n",
       "3 2018-02-21 14:22:07  Twitter for iPhone  113267  24967  \n",
       "4 2018-02-21 01:18:36  Twitter for iPhone   71367  14623  \n",
       "5 2018-02-21 01:14:19  Twitter for iPhone   88297  20033  \n",
       "6 2018-02-21 01:08:00  Twitter for iPhone   84866  20497  \n",
       "7 2018-02-20 17:49:07  Twitter for iPhone   68042  16447  \n",
       "8 2018-02-20 15:29:07  Twitter for iPhone   73635  18908  \n",
       "9 2018-02-20 15:16:06  Twitter for iPhone   89342  20787  "
      ]
     },
     "execution_count": 66,
     "metadata": {},
     "output_type": "execute_result"
    }
   ],
   "source": [
    "# Display of first 10 elements from dataframe:\n",
    "data.head(10)"
   ]
  },
  {
   "cell_type": "markdown",
   "metadata": {},
   "source": [
    "Now that we have extracted and have the data in an easy-to-handle ordered way, we're ready to do a bit more of manipulation to visualize some plots and gather some statistical data. The first part of the workshop is done."
   ]
  },
  {
   "cell_type": "markdown",
   "metadata": {},
   "source": [
    "# 2. Visualization and basic statistics"
   ]
  },
  {
   "cell_type": "markdown",
   "metadata": {},
   "source": [
    "## 2.1. Averages and popularity"
   ]
  },
  {
   "cell_type": "markdown",
   "metadata": {},
   "source": [
    "We first want to calculate some basic statistical data, such as the mean of the length of characters of all tweets, the tweet with more likes and retweets, etc.\n",
    "\n",
    "From now, I'll just add some input code and the output right below the code.\n",
    "\n",
    "To obtain the mean, using numpy:"
   ]
  },
  {
   "cell_type": "code",
   "execution_count": 67,
   "metadata": {
    "ExecuteTime": {
     "end_time": "2017-09-02T03:22:50.136159Z",
     "start_time": "2017-09-02T03:22:50.127691Z"
    }
   },
   "outputs": [
    {
     "name": "stdout",
     "output_type": "stream",
     "text": [
      "The average length in tweets: 129.28\n"
     ]
    }
   ],
   "source": [
    "# We extract the mean of lenghts:\n",
    "mean = np.mean(data['len'])\n",
    "\n",
    "print(\"The average length in tweets: {}\".format(mean))"
   ]
  },
  {
   "cell_type": "code",
   "execution_count": 68,
   "metadata": {
    "ExecuteTime": {
     "end_time": "2017-09-02T03:22:52.201735Z",
     "start_time": "2017-09-02T03:22:52.173380Z"
    }
   },
   "outputs": [
    {
     "name": "stdout",
     "output_type": "stream",
     "text": [
      "123 123\n",
      "The tweet with more likes is: \n",
      "Somebody please inform Jay-Z that because of my policies, Black Unemployment has just been reported to be at the LOWEST RATE EVER RECORDED!\n",
      "Number of likes: 240365\n",
      "139 characters.\n",
      "\n",
      "The tweet with more retweets is: \n",
      "Somebody please inform Jay-Z that because of my policies, Black Unemployment has just been reported to be at the LOWEST RATE EVER RECORDED!\n",
      "Number of retweets: 63855\n",
      "139 characters.\n",
      "\n"
     ]
    }
   ],
   "source": [
    "# We extract the tweet with more FAVs and more RTs:\n",
    " \n",
    "fav_max = np.max(data['Likes'])\n",
    "rt_max  = np.max(data['RTs'])\n",
    "\n",
    "# get the index of the tweet with max fav and rt\n",
    "# .index[0] returns the first one\n",
    "fav = data[data.Likes == fav_max].index[0]\n",
    "rt  = data[data.RTs == rt_max].index[0]\n",
    "print(fav, rt) # this could be the same tweet\n",
    " \n",
    "# Max FAVs:\n",
    "print(\"The tweet with more likes is: \\n{}\".format(data['Tweets'][fav]))\n",
    "print(\"Number of likes: {}\".format(fav_max))\n",
    "print(\"{} characters.\\n\".format(data['len'][fav]))\n",
    " \n",
    "# Max RTs:\n",
    "print(\"The tweet with more retweets is: \\n{}\".format(data['Tweets'][rt]))\n",
    "print(\"Number of retweets: {}\".format(rt_max))\n",
    "print(\"{} characters.\\n\".format(data['len'][rt]))"
   ]
  },
  {
   "cell_type": "markdown",
   "metadata": {},
   "source": [
    "This is common, but it won't necessarily happen: the tweet with more likes is the tweet with more retweets. What we're doing is that we find the maximum number of likes from the 'Likes' column and the maximum number of retweets from the 'RTs' using numpy's max function. With this we just look for the index in each of both columns that satisfy to be the maximum. Since more than one could have the same number of likes/retweets (the maximum) we just need to take the first one found, and that's why we use .index[0] to assign the index to the variables favand rt. To print the tweet that satisfies, we access the data in the same way we would access a matrix or any indexed object."
   ]
  },
  {
   "cell_type": "markdown",
   "metadata": {},
   "source": [
    "## 2.2. Time series"
   ]
  },
  {
   "cell_type": "markdown",
   "metadata": {},
   "source": [
    "Pandas has its own object for time series. Since we have a whole vector with creation dates, we can construct time series respect tweets lengths, likes and retweets."
   ]
  },
  {
   "cell_type": "code",
   "execution_count": 69,
   "metadata": {
    "ExecuteTime": {
     "end_time": "2017-09-02T03:22:54.706966Z",
     "start_time": "2017-09-02T03:22:54.700391Z"
    }
   },
   "outputs": [],
   "source": [
    "# We create time series for data:\n",
    "\n",
    "tlen = pd.Series(data=data['len'].values, index=data['Date'])\n",
    "tfav = pd.Series(data=data['Likes'].values, index=data['Date'])\n",
    "tret = pd.Series(data=data['RTs'].values, index=data['Date'])"
   ]
  },
  {
   "cell_type": "markdown",
   "metadata": {},
   "source": [
    "And if we want to plot the time series, pandas already has its own method in the object. We can plot a time series as follows:"
   ]
  },
  {
   "cell_type": "code",
   "execution_count": 70,
   "metadata": {
    "ExecuteTime": {
     "end_time": "2017-09-02T03:22:56.848418Z",
     "start_time": "2017-09-02T03:22:56.478088Z"
    }
   },
   "outputs": [
    {
     "data": {
      "image/png": "[encoded data removed]",
      "text/plain": [
       "<matplotlib.figure.Figure at 0x10a670da0>"
      ]
     },
     "metadata": {},
     "output_type": "display_data"
    }
   ],
   "source": [
    "# Lenghts along time:\n",
    "tlen.plot(figsize=(16,4), color='r');"
   ]
  },
  {
   "cell_type": "markdown",
   "metadata": {},
   "source": [
    "And to plot the likes versus the retweets in the same chart:"
   ]
  },
  {
   "cell_type": "code",
   "execution_count": 71,
   "metadata": {
    "ExecuteTime": {
     "end_time": "2017-09-02T03:22:58.905107Z",
     "start_time": "2017-09-02T03:22:58.482217Z"
    }
   },
   "outputs": [
    {
     "data": {
      "image/png": "[encoded data removed]",
      "text/plain": [
       "<matplotlib.figure.Figure at 0x10a5f1550>"
      ]
     },
     "metadata": {},
     "output_type": "display_data"
    }
   ],
   "source": [
    "# Likes vs retweets visualization:\n",
    "tfav.plot(figsize=(16,4), label=\"Likes\", legend=True)\n",
    "tret.plot(figsize=(16,4), label=\"Retweets\", legend=True);"
   ]
  },
  {
   "cell_type": "markdown",
   "metadata": {},
   "source": [
    "## 2.3. Pie charts of sources"
   ]
  },
  {
   "cell_type": "markdown",
   "metadata": {},
   "source": [
    "We're almost done with this second section of the workshop. Now we will plot the sources in a pie chart, since we realized that not every tweet is tweeted from the same source (😱🤔). We first clean all the sources:"
   ]
  },
  {
   "cell_type": "code",
   "execution_count": 72,
   "metadata": {
    "ExecuteTime": {
     "end_time": "2017-09-02T03:23:04.730613Z",
     "start_time": "2017-09-02T03:23:04.718663Z"
    }
   },
   "outputs": [
    {
     "name": "stdout",
     "output_type": "stream",
     "text": [
      "Creation of content sources:\n",
      "* Twitter for iPhone\n",
      "* Media Studio\n",
      "* Twitter for iPad\n"
     ]
    }
   ],
   "source": [
    "# We obtain all possible sources:\n",
    "sources = []\n",
    "for source in data['Source']:\n",
    "    if source not in sources:\n",
    "        sources.append(source)\n",
    " \n",
    "# We print sources list:\n",
    "print(\"Creation of content sources:\")\n",
    "for source in sources:\n",
    "    print(\"* {}\".format(source))"
   ]
  },
  {
   "cell_type": "markdown",
   "metadata": {},
   "source": [
    "With the following output, we realize that basically this twitter account has two sources: Creation of content sources: Twitter for iPhone Media Studio\n",
    "\n",
    "We now count the number of each source and create a pie chart. You'll notice that this code cell is not the most optimized one... Please have in mind that it was 4 in the morning when I was designing this workshop."
   ]
  },
  {
   "cell_type": "code",
   "execution_count": 73,
   "metadata": {
    "ExecuteTime": {
     "end_time": "2017-09-02T03:23:09.325071Z",
     "start_time": "2017-09-02T03:23:09.108949Z"
    }
   },
   "outputs": [
    {
     "data": {
      "image/png": "[encoded data removed]",
      "text/plain": [
       "<matplotlib.figure.Figure at 0x10a68df28>"
      ]
     },
     "metadata": {},
     "output_type": "display_data"
    }
   ],
   "source": [
    "# We create a numpy vector mapped to labels:\n",
    "percent = np.zeros(len(sources))\n",
    " \n",
    "for source in data['Source']:\n",
    "    for index in range(len(sources)):\n",
    "        if source == sources[index]:\n",
    "            percent[index] += 1\n",
    "            pass\n",
    " \n",
    "percent /= 100\n",
    " \n",
    "# Pie chart:\n",
    "pie_chart = pd.Series(percent, index=sources, name='Sources')\n",
    "pie_chart.plot.pie(fontsize=11, autopct='%.2f', figsize=(6, 6));"
   ]
  },
  {
   "cell_type": "markdown",
   "metadata": {},
   "source": [
    "And we can see the percentage of tweets per source.\n",
    "\n",
    "We can now proceed to do sentiment analysis."
   ]
  },
  {
   "cell_type": "markdown",
   "metadata": {},
   "source": [
    "# 3. Sentiment analysis"
   ]
  },
  {
   "cell_type": "markdown",
   "metadata": {},
   "source": [
    "## 3.1. Importing textblob"
   ]
  },
  {
   "cell_type": "markdown",
   "metadata": {},
   "source": [
    "As we mentioned at the beginning of this workshop, textblob will allow us to do sentiment analysis in a very simple way. We will also use the `re` library from Python, which is used to work with regular expressions. For this, I'll provide you two utility functions to: a) clean text (which means that any symbol distinct to an alphanumeric value will be remapped into a new one that satisfies this condition), and b) create a classifier to analyze the polarity of each tweet after cleaning the text in it. I won't explain the specific way in which the function that cleans works, since it would be extended and it might be better understood in the official `re` documentation: https://docs.python.org/3/library/re.html.\n",
    "\n",
    "TextBlob stands on the giant shoulders of NLTK and pattern, and plays nicely with both."
   ]
  },
  {
   "cell_type": "code",
   "execution_count": 74,
   "metadata": {
    "ExecuteTime": {
     "end_time": "2017-09-02T03:23:16.245473Z",
     "start_time": "2017-09-02T03:23:15.503957Z"
    }
   },
   "outputs": [],
   "source": [
    "from textblob import TextBlob\n",
    "import re\n",
    " \n",
    "def clean_tweet(tweet):\n",
    "    '''\n",
    "    Utility function to clean the text in a tweet by removing\n",
    "    links and special characters using regex.\n",
    "    '''\n",
    "    return ' '.join(re.sub(\"(@[A-Za-z0-9]+)|([^0-9A-Za-z \\t])|(\\w+:\\/\\/\\S+)\", \" \", tweet).split())\n",
    " \n",
    "def analize_sentiment(tweet):\n",
    "    '''\n",
    "    Utility function to classify the polarity of a tweet\n",
    "    using textblob.\n",
    "    '''\n",
    "    analysis = TextBlob(clean_tweet(tweet))\n",
    "    if analysis.sentiment.polarity > 0:\n",
    "        return 1\n",
    "    elif analysis.sentiment.polarity == 0:\n",
    "        return 0\n",
    "    else:\n",
    "        return -1"
   ]
  },
  {
   "cell_type": "markdown",
   "metadata": {},
   "source": [
    "The way it works is that textblob already provides a trained analyzer (cool, right?). Textblob can work with different machine learning models used in natural language processing. If you want to train your own classifier (or at least check how it works) feel free to check the following link: https://textblob.readthedocs.io/en/dev/classifiers.html. It might result relevant since we're working with a pre-trained model (for which we don't know the data that was used).\n",
    "\n",
    "Anyway, getting back to the code we will just add an extra column to our data. This column will contain the sentiment analysis and we can plot the dataframe to see the update:"
   ]
  },
  {
   "cell_type": "code",
   "execution_count": 75,
   "metadata": {},
   "outputs": [
    {
     "data": {
      "text/html": [
       "<div>\n",
       "<style scoped>\n",
       "    .dataframe tbody tr th:only-of-type {\n",
       "        vertical-align: middle;\n",
       "    }\n",
       "\n",
       "    .dataframe tbody tr th {\n",
       "        vertical-align: top;\n",
       "    }\n",
       "\n",
       "    .dataframe thead th {\n",
       "        text-align: right;\n",
       "    }\n",
       "</style>\n",
       "<table border=\"1\" class=\"dataframe\">\n",
       "  <thead>\n",
       "    <tr style=\"text-align: right;\">\n",
       "      <th></th>\n",
       "      <th>Tweets</th>\n",
       "      <th>len</th>\n",
       "      <th>ID</th>\n",
       "      <th>Date</th>\n",
       "      <th>Source</th>\n",
       "      <th>Likes</th>\n",
       "      <th>RTs</th>\n",
       "      <th>SA</th>\n",
       "    </tr>\n",
       "  </thead>\n",
       "  <tbody>\n",
       "    <tr>\n",
       "      <th>0</th>\n",
       "      <td>.@FLOTUS Melania and I join millions of people...</td>\n",
       "      <td>140</td>\n",
       "      <td>966420452070559749</td>\n",
       "      <td>2018-02-21 21:12:45</td>\n",
       "      <td>Twitter for iPhone</td>\n",
       "      <td>40910</td>\n",
       "      <td>9725</td>\n",
       "      <td>0</td>\n",
       "    </tr>\n",
       "    <tr>\n",
       "      <th>1</th>\n",
       "      <td>Yesterday, it was my great honor to recognize ...</td>\n",
       "      <td>140</td>\n",
       "      <td>966377081469882368</td>\n",
       "      <td>2018-02-21 18:20:25</td>\n",
       "      <td>Media Studio</td>\n",
       "      <td>45070</td>\n",
       "      <td>9833</td>\n",
       "      <td>1</td>\n",
       "    </tr>\n",
       "    <tr>\n",
       "      <th>2</th>\n",
       "      <td>Question: If all of the Russian meddling took ...</td>\n",
       "      <td>139</td>\n",
       "      <td>966321700588711936</td>\n",
       "      <td>2018-02-21 14:40:21</td>\n",
       "      <td>Twitter for iPhone</td>\n",
       "      <td>84157</td>\n",
       "      <td>24260</td>\n",
       "      <td>1</td>\n",
       "    </tr>\n",
       "    <tr>\n",
       "      <th>3</th>\n",
       "      <td>The GREAT Billy Graham is dead. There was nobo...</td>\n",
       "      <td>129</td>\n",
       "      <td>966317112565420033</td>\n",
       "      <td>2018-02-21 14:22:07</td>\n",
       "      <td>Twitter for iPhone</td>\n",
       "      <td>113267</td>\n",
       "      <td>24967</td>\n",
       "      <td>1</td>\n",
       "    </tr>\n",
       "    <tr>\n",
       "      <th>4</th>\n",
       "      <td>@CNN @MSNBC Whether we are Republican or Democ...</td>\n",
       "      <td>104</td>\n",
       "      <td>966119932793585664</td>\n",
       "      <td>2018-02-21 01:18:36</td>\n",
       "      <td>Twitter for iPhone</td>\n",
       "      <td>71367</td>\n",
       "      <td>14623</td>\n",
       "      <td>0</td>\n",
       "    </tr>\n",
       "    <tr>\n",
       "      <th>5</th>\n",
       "      <td>So true, thank you! https://t.co/9TTXlfokYz</td>\n",
       "      <td>43</td>\n",
       "      <td>966118856874971138</td>\n",
       "      <td>2018-02-21 01:14:19</td>\n",
       "      <td>Twitter for iPhone</td>\n",
       "      <td>88297</td>\n",
       "      <td>20033</td>\n",
       "      <td>1</td>\n",
       "    </tr>\n",
       "    <tr>\n",
       "      <th>6</th>\n",
       "      <td>Bad ratings @CNN &amp;amp; @MSNBC got scammed when...</td>\n",
       "      <td>144</td>\n",
       "      <td>966117265426001920</td>\n",
       "      <td>2018-02-21 01:08:00</td>\n",
       "      <td>Twitter for iPhone</td>\n",
       "      <td>84866</td>\n",
       "      <td>20497</td>\n",
       "      <td>-1</td>\n",
       "    </tr>\n",
       "    <tr>\n",
       "      <th>7</th>\n",
       "      <td>Main Street is BOOMING thanks to our incredibl...</td>\n",
       "      <td>139</td>\n",
       "      <td>966006815745040384</td>\n",
       "      <td>2018-02-20 17:49:07</td>\n",
       "      <td>Twitter for iPhone</td>\n",
       "      <td>68042</td>\n",
       "      <td>16447</td>\n",
       "      <td>1</td>\n",
       "    </tr>\n",
       "    <tr>\n",
       "      <th>8</th>\n",
       "      <td>....cameras running. Another False Accusation....</td>\n",
       "      <td>140</td>\n",
       "      <td>965971586913374208</td>\n",
       "      <td>2018-02-20 15:29:07</td>\n",
       "      <td>Twitter for iPhone</td>\n",
       "      <td>73635</td>\n",
       "      <td>18908</td>\n",
       "      <td>-1</td>\n",
       "    </tr>\n",
       "    <tr>\n",
       "      <th>9</th>\n",
       "      <td>A woman I don’t know and, to the best of my kn...</td>\n",
       "      <td>139</td>\n",
       "      <td>965968309358333952</td>\n",
       "      <td>2018-02-20 15:16:06</td>\n",
       "      <td>Twitter for iPhone</td>\n",
       "      <td>89342</td>\n",
       "      <td>20787</td>\n",
       "      <td>1</td>\n",
       "    </tr>\n",
       "  </tbody>\n",
       "</table>\n",
       "</div>"
      ],
      "text/plain": [
       "                                              Tweets  len                  ID  \\\n",
       "0  .@FLOTUS Melania and I join millions of people...  140  966420452070559749   \n",
       "1  Yesterday, it was my great honor to recognize ...  140  966377081469882368   \n",
       "2  Question: If all of the Russian meddling took ...  139  966321700588711936   \n",
       "3  The GREAT Billy Graham is dead. There was nobo...  129  966317112565420033   \n",
       "4  @CNN @MSNBC Whether we are Republican or Democ...  104  966119932793585664   \n",
       "5        So true, thank you! https://t.co/9TTXlfokYz   43  966118856874971138   \n",
       "6  Bad ratings @CNN &amp; @MSNBC got scammed when...  144  966117265426001920   \n",
       "7  Main Street is BOOMING thanks to our incredibl...  139  966006815745040384   \n",
       "8  ....cameras running. Another False Accusation....  140  965971586913374208   \n",
       "9  A woman I don’t know and, to the best of my kn...  139  965968309358333952   \n",
       "\n",
       "                 Date              Source   Likes    RTs  SA  \n",
       "0 2018-02-21 21:12:45  Twitter for iPhone   40910   9725   0  \n",
       "1 2018-02-21 18:20:25        Media Studio   45070   9833   1  \n",
       "2 2018-02-21 14:40:21  Twitter for iPhone   84157  24260   1  \n",
       "3 2018-02-21 14:22:07  Twitter for iPhone  113267  24967   1  \n",
       "4 2018-02-21 01:18:36  Twitter for iPhone   71367  14623   0  \n",
       "5 2018-02-21 01:14:19  Twitter for iPhone   88297  20033   1  \n",
       "6 2018-02-21 01:08:00  Twitter for iPhone   84866  20497  -1  \n",
       "7 2018-02-20 17:49:07  Twitter for iPhone   68042  16447   1  \n",
       "8 2018-02-20 15:29:07  Twitter for iPhone   73635  18908  -1  \n",
       "9 2018-02-20 15:16:06  Twitter for iPhone   89342  20787   1  "
      ]
     },
     "execution_count": 75,
     "metadata": {},
     "output_type": "execute_result"
    }
   ],
   "source": [
    "# We create a column with the result of the analysis:\n",
    "data['SA'] = np.array([ analize_sentiment(tweet) for tweet in data['Tweets'] ])\n",
    "\n",
    "# write the final data to csv\n",
    "# data.to_csv('trump-tweets.csv', encoding='utf-8', index=False)\n",
    "\n",
    "# We display the updated dataframe with the new column:\n",
    "data.head(10)"
   ]
  },
  {
   "cell_type": "markdown",
   "metadata": {},
   "source": [
    "As we can see, the last column contains the sentiment analysis (SA). We now just need to check the results."
   ]
  },
  {
   "cell_type": "markdown",
   "metadata": {},
   "source": [
    "## 3.2. Analyzing the results"
   ]
  },
  {
   "cell_type": "markdown",
   "metadata": {},
   "source": [
    "To have a simple way to verify the results, we will count the number of neutral, positive and negative tweets and extract the percentages."
   ]
  },
  {
   "cell_type": "code",
   "execution_count": 76,
   "metadata": {
    "ExecuteTime": {
     "end_time": "2017-09-02T03:23:40.349808Z",
     "start_time": "2017-09-02T03:23:40.216532Z"
    }
   },
   "outputs": [],
   "source": [
    "# We construct lists with classified tweets:\n",
    " \n",
    "pos_tweets = [ tweet for index, tweet in enumerate(data['Tweets']) if data['SA'][index] > 0]\n",
    "neu_tweets = [ tweet for index, tweet in enumerate(data['Tweets']) if data['SA'][index] == 0]\n",
    "neg_tweets = [ tweet for index, tweet in enumerate(data['Tweets']) if data['SA'][index] < 0]"
   ]
  },
  {
   "cell_type": "code",
   "execution_count": 77,
   "metadata": {
    "ExecuteTime": {
     "end_time": "2017-09-02T03:23:46.639845Z",
     "start_time": "2017-09-02T03:23:46.631584Z"
    }
   },
   "outputs": [
    {
     "name": "stdout",
     "output_type": "stream",
     "text": [
      "Percentage of positive tweets: 54.0%\n",
      "Percentage of neutral tweets: 23.5%\n",
      "Percentage of negative tweets: 22.5%\n"
     ]
    }
   ],
   "source": [
    "# We print percentages:\n",
    " \n",
    "print(\"Percentage of positive tweets: {}%\".format(len(pos_tweets)*100/len(data['Tweets'])))\n",
    "print(\"Percentage of neutral tweets: {}%\".format(len(neu_tweets)*100/len(data['Tweets'])))\n",
    "print(\"Percentage of negative tweets: {}%\".format(len(neg_tweets)*100/len(data['Tweets'])))"
   ]
  },
  {
   "cell_type": "markdown",
   "metadata": {},
   "source": [
    "We have to consider that we're working only with the 200 most recent tweets from D. Trump (last updated: September 2nd.). For more accurate results we can consider more tweets. An interesting thing (an invitation to the readers) is to analyze the polarity of the tweets from different sources, it might be deterministic that by only considering the tweets from one source the polarity would result more positive/negative. Anyway, I hope this resulted interesting.\n",
    "\n",
    "As we saw, we can extract, manipulate, visualize and analyze data in a very simple way with Python. I hope that this leaves some uncertainty in the reader, for further exploration using this tools."
   ]
  }
 ],
 "metadata": {
  "anaconda-cloud": {},
  "kernelspec": {
   "display_name": "Python 3",
   "language": "python",
   "name": "python3"
  },
  "language_info": {
   "codemirror_mode": {
    "name": "ipython",
    "version": 3
   },
   "file_extension": ".py",
   "mimetype": "text/x-python",
   "name": "python",
   "nbconvert_exporter": "python",
   "pygments_lexer": "ipython3",
   "version": "3.6.3"
  },
  "toc": {
   "colors": {
    "hover_highlight": "#DAA520",
    "navigate_num": "#000000",
    "navigate_text": "#333333",
    "running_highlight": "#FF0000",
    "selected_highlight": "#FFD700",
    "sidebar_border": "#EEEEEE",
    "wrapper_background": "#FFFFFF"
   },
   "moveMenuLeft": true,
   "nav_menu": {
    "height": "266px",
    "width": "252px"
   },
   "navigate_menu": true,
   "number_sections": true,
   "sideBar": true,
   "threshold": 4,
   "toc_cell": true,
   "toc_section_display": "block",
   "toc_window_display": false,
   "widenNotebook": false
  }
 },
 "nbformat": 4,
 "nbformat_minor": 2
}
