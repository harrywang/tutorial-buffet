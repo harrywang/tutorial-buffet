{
 "cells": [
  {
   "cell_type": "code",
   "execution_count": 2,
   "metadata": {},
   "outputs": [],
   "source": [
    "import numpy as np\n",
    "import pandas as pd\n",
    "from dask.distributed import Client\n",
    "import dask.dataframe as dd\n",
    "import math\n",
    "\n",
    "\n",
    "def roundup(x, base: int = 5):\n",
    "    \"\"\"Round `x` up to nearest `base`\"\"\"\n",
    "    return int(math.ceil(x / float(base))) * base\n",
    "\n",
    "\n",
    "def round_series_up(s: dd.Series) -> dd.Series:\n",
    "    \"\"\"Apply roundup function to all elements of `s`\"\"\"\n",
    "    return s.apply(roundup, meta=pd.Series(data=[], dtype=np.float32))\n",
    "\n",
    "\n",
    "def transform_dask_dataframe(df: dd.DataFrame) -> dd.DataFrame:\n",
    "    \"\"\"Process NYC taxi data\"\"\"\n",
    "    return (\n",
    "        df[[\n",
    "            'tpep_pickup_datetime', 'tpep_dropoff_datetime',\n",
    "            'trip_distance', 'total_amount'\n",
    "        ]]\n",
    "        .astype({\n",
    "            'tpep_pickup_datetime': 'datetime64[ms]',\n",
    "            'tpep_dropoff_datetime': 'datetime64[ms]'\n",
    "        })\n",
    "        .assign(drive_time=(lambda df: (\n",
    "            df.tpep_dropoff_datetime - df.tpep_pickup_datetime).dt.seconds\n",
    "            // 300))\n",
    "        .assign(drive_time=lambda df: round_series_up(df.drive_time))\n",
    "        .assign(trip_distance=lambda df: round_series_up(df.trip_distance))\n",
    "        .query('drive_time <= 120 & trip_distance <= 50')\n",
    "        .drop(['tpep_pickup_datetime', 'tpep_dropoff_datetime'], axis=1)\n",
    "        .round({'trip_distance': 0})\n",
    "        .groupby(['drive_time', 'trip_distance'])\n",
    "        .mean()\n",
    "        .rename(columns={'total_amount': 'avg_amount'})\n",
    "    )\n",
    "\n",
    "\n",
    "def compute_final_dataframe(df: dd.DataFrame) -> pd.DataFrame:\n",
    "    \"\"\"Execute dask task graph and compute final results\"\"\"\n",
    "    return (\n",
    "        df\n",
    "        .compute()\n",
    "        .reset_index()\n",
    "        .pivot(\n",
    "             index='drive_time',\n",
    "             columns='trip_distance',\n",
    "             values='avg_amount'\n",
    "        )\n",
    "        .fillna(0)\n",
    "    )"
   ]
  },
  {
   "cell_type": "code",
   "execution_count": 4,
   "metadata": {},
   "outputs": [],
   "source": [
    "client = Client()\n",
    "\n",
    "taxi_data = dd.read_csv(\n",
    "    's3://nyc-tlc/trip data/yellow_tripdata_2018-04.csv',\n",
    "    storage_options={'anon': True, 'use_ssl': False}\n",
    ")"
   ]
  },
  {
   "cell_type": "code",
   "execution_count": 5,
   "metadata": {},
   "outputs": [
    {
     "name": "stdout",
     "output_type": "stream",
     "text": [
      "trip_distance          0          5          10         15         20          25          30          35          40          45          50\n",
      "drive_time                                                                                                                                   \n",
      "0               34.106532   6.777906  29.322293  41.465332  48.328954   53.812857   62.784265  114.779697  137.180000  188.779091  237.975000\n",
      "5               13.162592  12.659089  28.653480  43.249538  64.541436   71.395503   91.944865   80.038333   52.800000    0.000000    0.000000\n",
      "10              28.810443  25.936256  36.371690  49.040409  65.759698   70.834030   88.876753  131.893420  155.772594  182.284359  245.113750\n",
      "15              35.985702  36.814331  49.385895  57.912027  66.867544   69.883872   85.950816  117.336853  153.899789  180.471179  220.812613\n",
      "20              55.574459  30.579348  60.521722  68.039804  68.516193   72.595018   90.693380  108.568716  157.129796  161.684426  196.237400\n",
      "25              66.791429  30.458696  55.902432  78.616142  73.989969   77.137736   93.932289  100.360847  116.372647  145.124000  167.110000\n",
      "30              74.150370  31.508947  45.310714  81.255882  91.749390   81.448600  110.209565  111.604167   89.682903  126.708889  179.240000\n",
      "35              71.494444  30.413548  25.760000  61.414000  87.074286   89.545000  102.988889  122.990000   77.975000  115.328750   97.180000\n",
      "40              73.516667  19.518095  65.654000  70.303333  69.334444  111.588571    0.000000  117.195000   73.272500   58.560000   63.360000\n",
      "45              75.693333  14.256061  55.020000  53.265000  68.119091   84.220000  149.805000   52.800000   71.890000   60.810000    0.000000\n",
      "50              46.530000  19.747500  34.402500  70.250000  55.306667   64.235000    0.000000    0.000000   96.232500   63.360000   58.560000\n",
      "55              64.853333  18.986000  72.578333  86.630000  91.860000   52.800000    0.000000  104.560000   58.560000    0.000000  258.320000\n",
      "60             115.900000  19.688000  32.447500  37.680000  65.540000   59.300000  127.930000    0.000000    0.000000   58.560000    0.000000\n",
      "65              74.640000  16.392778  33.515556  42.894000  67.030000  139.680000  219.320000  115.800000    0.000000    0.000000    0.000000\n",
      "70              78.750000  16.147500  46.852857  43.533333  56.812000    0.000000  195.300000    0.000000    0.000000    0.000000  270.820000\n",
      "75              70.800000  13.245556  33.462857  45.451667  70.014286   81.910000   57.300000    0.000000    0.000000    0.000000    0.000000\n",
      "80               0.800000  11.931905  31.335714  52.256667  69.336000    0.000000    0.000000    0.000000    0.000000    0.000000    0.000000\n",
      "85               0.000000  12.097917  39.472000  50.710000  63.056000   63.360000  248.670000    0.000000  148.320000    0.000000    0.000000\n",
      "90               0.000000  15.522609  30.681429  45.556000  64.444444   69.370000  132.300000    0.000000    0.000000    0.000000    0.000000\n",
      "95               0.000000  12.284000  37.143333  52.140000  66.917500   64.263333  275.300000  251.300000    0.000000    0.000000    0.000000\n",
      "100             64.420000  12.978000  34.481429  46.626667  69.510000   68.537500    0.000000    0.000000    0.000000    0.000000    0.000000\n",
      "105              0.000000  15.650500  30.158889  44.380000  59.416000   58.560000   84.060000    0.000000    0.000000    0.000000    0.000000\n",
      "110              0.000000  21.965556  32.080000  52.185000  77.046364   67.340000    0.000000    0.000000    0.000000    0.000000    0.000000\n",
      "115              0.000000  17.294138  33.300000  46.591667  60.487500   94.310000    0.000000    0.000000    0.000000  119.310000    0.000000\n",
      "120              0.000000  12.370714  33.294444  45.278571  60.311111   58.560000    0.000000    0.000000    0.000000    0.000000    0.000000\n"
     ]
    }
   ],
   "source": [
    "transformed_data = transform_dask_dataframe(taxi_data)\n",
    "fare_distribution = compute_final_dataframe(transformed_data)\n",
    "\n",
    "print(fare_distribution.to_string())"
   ]
  },
  {
   "cell_type": "code",
   "execution_count": null,
   "metadata": {},
   "outputs": [],
   "source": []
  }
 ],
 "metadata": {
  "interpreter": {
   "hash": "208527d23916e8198a5e2ad4f321099d3099f341618c98470416e359d4a9947c"
  },
  "kernelspec": {
   "display_name": "Python 3.8.10 64-bit ('venv': venv)",
   "language": "python",
   "name": "python3"
  },
  "language_info": {
   "codemirror_mode": {
    "name": "ipython",
    "version": 3
   },
   "file_extension": ".py",
   "mimetype": "text/x-python",
   "name": "python",
   "nbconvert_exporter": "python",
   "pygments_lexer": "ipython3",
   "version": "3.7.10"
  },
  "orig_nbformat": 4
 },
 "nbformat": 4,
 "nbformat_minor": 2
}
