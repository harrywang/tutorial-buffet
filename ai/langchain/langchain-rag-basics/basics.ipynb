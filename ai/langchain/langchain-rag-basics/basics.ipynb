{
 "cells": [
  {
   "cell_type": "markdown",
   "metadata": {},
   "source": [
    "# Document Loading"
   ]
  },
  {
   "cell_type": "markdown",
   "metadata": {},
   "source": [
    "## Retrieval augmented generation\n",
    " \n",
    "In retrieval augmented generation (RAG), an LLM retrieves contextual documents from an external dataset as part of its execution. \n",
    "\n",
    "This is useful if we want to ask question about specific documents (e.g., our PDFs, a set of videos, etc). \n",
    "\n",
    "<img width=\"1047\" alt=\"Screenshot 2024-04-15 at 12 24 00 PM\" src=\"https://github.com/harrywang/langchain-short-course/assets/595772/0c3cdde0-831d-4e11-91f2-670abc580d89\">"
   ]
  },
  {
   "cell_type": "code",
   "execution_count": 1,
   "metadata": {},
   "outputs": [],
   "source": [
    "import os\n",
    "import openai\n",
    "\n",
    "from dotenv import load_dotenv, find_dotenv\n",
    "_ = load_dotenv(find_dotenv()) # read local .env file\n",
    "\n",
    "openai.api_key  = os.environ['OPENAI_API_KEY']"
   ]
  },
  {
   "cell_type": "markdown",
   "metadata": {},
   "source": [
    "# Load PDF\n",
    "Each page is a `Document`.\n",
    "\n",
    "A `Document` contains text (`page_content`) and `metadata`."
   ]
  },
  {
   "cell_type": "code",
   "execution_count": 2,
   "metadata": {},
   "outputs": [],
   "source": [
    "# load pdf\n",
    "from langchain.document_loaders import PyPDFLoader\n",
    "loader = PyPDFLoader(\"data/nba-rules-2023.pdf\")\n",
    "pages = loader.load()"
   ]
  },
  {
   "cell_type": "code",
   "execution_count": 3,
   "metadata": {},
   "outputs": [
    {
     "data": {
      "text/plain": [
       "74"
      ]
     },
     "execution_count": 3,
     "metadata": {},
     "output_type": "execute_result"
    }
   ],
   "source": [
    "len(pages)"
   ]
  },
  {
   "cell_type": "code",
   "execution_count": 4,
   "metadata": {},
   "outputs": [
    {
     "data": {
      "text/plain": [
       "'This Page Intentionally Left Blank  \\nIt is here to hold a place for cover for screen version.  \\nDO NOT INCLUDE AS PART OF PRINT FILE!\\nOFFICIAL\\nRULES'"
      ]
     },
     "execution_count": 4,
     "metadata": {},
     "output_type": "execute_result"
    }
   ],
   "source": [
    "# content people don't see\n",
    "page = pages[0]\n",
    "page.page_content\n"
   ]
  },
  {
   "cell_type": "code",
   "execution_count": 5,
   "metadata": {},
   "outputs": [
    {
     "data": {
      "text/plain": [
       "'- 2 -RULES INDEX\\n RULE SECTION ARTICLE PAGE\\nBACKCOURT/FRONTCOURT \\n\\t Definitions  .......................................  4 VI a & b 19\\n Eight (8) Second Violation  ..............  4 VI f 19\\n Player Position Status  ......................  4 VI c 19\\n Ball Position Status  ..........................  4 VI d, e, & g 19\\nBALL\\n Dead Ball  .........................................  6 IV a 26\\n Jump—Center Circle  .......................  6 V  26\\n Jump—Free Throw Circle  ...............  6 VI  27\\n Live Ball  ..........................................  6 II  26\\n Putting in Play  .................................  6 I  25\\n Restrictions  ......................................  6 VII  27\\n Starting of Games & Overtime(s)  .... 6 I a 25\\n Starting of 2nd, 3rd, & 4th Periods  .. 6 I b 25\\nBASKET RING, BACKBOARD, SUPPORT\\n\\t Definition  .........................................  4 I  17\\n Hanging (Intentional) .......................  12A  IV  40\\n Hanging (Prevent Injury)  .................  12A  IV b EXCEPTION 40\\nCAPTAIN, DUTIES  ..............................  3 III  15\\nCLOCK (GAME)\\n Expiration of Time (Horn)  ...............  2 VIII g  14\\n Expiration of Time (No Horn)  .........  2 VIII h 14\\n Starting—Jump Ball  ........................  2 VIII b 14\\n   5 VIII a(3) 24\\n Starting—Missed Free Throw  .........  5 VIII a(1) 24\\n Starting—Throw-in  .........................  5 VIII a(2) 24\\n Stopping—Last Minute  ...................  5 V b(1) 22\\n Stopping—Last Two (2) Minute  ...... 5 V b(2) 22\\nCLUB PERSONNEL  ............................  3 IV c 15\\nCOACH\\n Attire  ................................................  COMMENTS ON RULES H-3 67\\n Bench  ...............................................  3 IV d 15\\n Box  ...................................................  3 IV a 15\\n Conduct  ............................................  12A  V  41\\n   12A  VII f 43\\n Ejection  ............................................  3 IV e 16\\n   12A  V b 41\\n Player-Coach  ....................................  3 IV b 15\\n\\t Speaking\\tto\\tOfficials—Before\\t  \\n Start of Game or Periods ..................  2 II i 10\\n Suspension  .......................................  COMMENTS ON RULES E 67\\nCOACH’S CHALLENGE  .....................  14   58'"
      ]
     },
     "execution_count": 5,
     "metadata": {},
     "output_type": "execute_result"
    }
   ],
   "source": [
    "page = pages[1]\n",
    "page.page_content"
   ]
  },
  {
   "cell_type": "code",
   "execution_count": 6,
   "metadata": {},
   "outputs": [
    {
     "data": {
      "text/plain": [
       "{'source': 'data/nba-rules-2023.pdf', 'page': 1}"
      ]
     },
     "execution_count": 6,
     "metadata": {},
     "output_type": "execute_result"
    }
   ],
   "source": [
    "page.metadata"
   ]
  },
  {
   "cell_type": "code",
   "execution_count": 7,
   "metadata": {},
   "outputs": [
    {
     "name": "stdout",
     "output_type": "stream",
     "text": [
      "\n",
      "\n",
      "\n",
      "\n",
      "\n",
      "\n",
      "\n",
      "\n",
      "\n",
      "\n",
      "\n",
      "\n",
      "The Tech Stack that Works for My (AI) Startups | harrywang.me\n",
      "\n",
      "\n",
      "\n",
      "\n",
      "\n",
      "\n",
      "\n",
      "\n",
      "\n",
      "\n",
      "\n",
      "\n",
      "\n",
      "\n",
      "\n",
      "\n",
      "\n",
      "\n",
      "\n",
      "harrywang.me\n",
      "\n",
      "\n",
      "\n",
      "\n",
      "\n",
      "\n",
      "\n",
      "\n",
      "\n",
      "\n",
      "\n",
      "\n",
      "\n",
      "\n",
      "\n",
      "\n",
      "\n",
      "\n",
      "\n",
      "\n",
      "\n",
      "\n",
      "\n",
      "\n",
      "\n",
      "\n",
      "\n",
      "\n",
      "\n",
      "\n",
      "Open menu\n",
      "\n",
      "\n",
      "\n",
      "\n",
      "\n",
      "\n",
      "\n",
      "\n",
      "\n",
      "\n",
      "                    Home\n",
      "                \n",
      "\n",
      "\n",
      "\n",
      "                        About\n",
      "                    \n",
      "\n",
      "\n",
      "                        Blog\n",
      "                    \n",
      "\n",
      "\n",
      "\n",
      "\n",
      "\n",
      "February 26, 2024\n",
      "The Tech Stack that Works for My (AI) Startups\n",
      "\n",
      "\n",
      "\n",
      "startup\n",
      "\n",
      "\n",
      "tech\n",
      "\n",
      "\n",
      "entrepreneurship\n",
      "\n",
      "\n",
      "\n",
      "Last updated in Feb. 2024\n",
      "In this post, I list the tech stack and related services tha\n"
     ]
    }
   ],
   "source": [
    "from langchain.document_loaders import WebBaseLoader\n",
    "\n",
    "loader = WebBaseLoader(\"https://harrywang.me/stack\")\n",
    "docs = loader.load()\n",
    "print(docs[0].page_content[:500])"
   ]
  },
  {
   "cell_type": "markdown",
   "metadata": {},
   "source": [
    "# Document Splitter\n"
   ]
  },
  {
   "cell_type": "code",
   "execution_count": 8,
   "metadata": {},
   "outputs": [],
   "source": [
    "from langchain.text_splitter import RecursiveCharacterTextSplitter, CharacterTextSplitter"
   ]
  },
  {
   "cell_type": "code",
   "execution_count": 9,
   "metadata": {},
   "outputs": [],
   "source": [
    "chunk_size =26\n",
    "chunk_overlap = 3"
   ]
  },
  {
   "cell_type": "code",
   "execution_count": 10,
   "metadata": {},
   "outputs": [],
   "source": [
    "r_splitter = RecursiveCharacterTextSplitter(\n",
    "    chunk_size=chunk_size,\n",
    "    chunk_overlap=chunk_overlap\n",
    ")\n",
    "c_splitter = CharacterTextSplitter(\n",
    "    chunk_size=chunk_size,\n",
    "    chunk_overlap=chunk_overlap\n",
    ")"
   ]
  },
  {
   "cell_type": "code",
   "execution_count": 11,
   "metadata": {},
   "outputs": [
    {
     "data": {
      "text/plain": [
       "['abcdefghijklmnopqrstuvwxyz']"
      ]
     },
     "execution_count": 11,
     "metadata": {},
     "output_type": "execute_result"
    }
   ],
   "source": [
    "text1 = 'abcdefghijklmnopqrstuvwxyz'\n",
    "r_splitter.split_text(text1)"
   ]
  },
  {
   "cell_type": "code",
   "execution_count": 12,
   "metadata": {},
   "outputs": [
    {
     "data": {
      "text/plain": [
       "['abcdefghijklmnopqrstuvwxyz', 'xyzabcdefghijklmnopqrstuvw', 'uvwxyz']"
      ]
     },
     "execution_count": 12,
     "metadata": {},
     "output_type": "execute_result"
    }
   ],
   "source": [
    "text2 = 'abcdefghijklmnopqrstuvwxyzabcdefghijklmnopqrstuvwxyz'\n",
    "r_splitter.split_text(text2)"
   ]
  },
  {
   "cell_type": "code",
   "execution_count": 13,
   "metadata": {},
   "outputs": [
    {
     "data": {
      "text/plain": [
       "['a b c d e f g h i j k l m', 'm n o p q r s t u v w x y', 'y z']"
      ]
     },
     "execution_count": 13,
     "metadata": {},
     "output_type": "execute_result"
    }
   ],
   "source": [
    "text3 = \"a b c d e f g h i j k l m n o p q r s t u v w x y z\"\n",
    "r_splitter.split_text(text3)"
   ]
  },
  {
   "cell_type": "code",
   "execution_count": 14,
   "metadata": {},
   "outputs": [
    {
     "data": {
      "text/plain": [
       "['a b c d e f g h i j k l m n o p q r s t u v w x y z']"
      ]
     },
     "execution_count": 14,
     "metadata": {},
     "output_type": "execute_result"
    }
   ],
   "source": [
    "c_splitter.split_text(text3)"
   ]
  },
  {
   "cell_type": "code",
   "execution_count": 15,
   "metadata": {},
   "outputs": [
    {
     "data": {
      "text/plain": [
       "['a b c d e f g h i j k l m', 'l m n o p q r s t u v w x', 'w x y z']"
      ]
     },
     "execution_count": 15,
     "metadata": {},
     "output_type": "execute_result"
    }
   ],
   "source": [
    "c_splitter = CharacterTextSplitter(\n",
    "    chunk_size=chunk_size,\n",
    "    chunk_overlap=chunk_overlap,\n",
    "    separator = ' '\n",
    ")\n",
    "c_splitter.split_text(text3)"
   ]
  },
  {
   "cell_type": "code",
   "execution_count": 16,
   "metadata": {},
   "outputs": [],
   "source": [
    "some_text = \"\"\"When writing documents, writers will use document structure to group content. \\\n",
    "This can convey to the reader, which idea's are related. For example, closely related ideas \\\n",
    "are in sentances. Similar ideas are in paragraphs. Paragraphs form a document. \\n\\n  \\\n",
    "Paragraphs are often delimited with a carriage return or two carriage returns. \\\n",
    "Carriage returns are the \"backslash n\" you see embedded in this string. \\\n",
    "Sentences have a period at the end, but also, have a space.\\\n",
    "and words are separated by space.\"\"\""
   ]
  },
  {
   "cell_type": "code",
   "execution_count": 17,
   "metadata": {},
   "outputs": [
    {
     "data": {
      "text/plain": [
       "496"
      ]
     },
     "execution_count": 17,
     "metadata": {},
     "output_type": "execute_result"
    }
   ],
   "source": [
    "len(some_text)"
   ]
  },
  {
   "cell_type": "code",
   "execution_count": 18,
   "metadata": {},
   "outputs": [],
   "source": [
    "c_splitter = CharacterTextSplitter(\n",
    "    chunk_size=450,\n",
    "    chunk_overlap=0,\n",
    "    separator = ' '\n",
    ")\n",
    "r_splitter = RecursiveCharacterTextSplitter(\n",
    "    chunk_size=450,\n",
    "    chunk_overlap=0, \n",
    "    separators=[\"\\n\\n\", \"\\n\", \" \", \"\"]\n",
    ")"
   ]
  },
  {
   "cell_type": "code",
   "execution_count": 19,
   "metadata": {},
   "outputs": [
    {
     "data": {
      "text/plain": [
       "['When writing documents, writers will use document structure to group content. This can convey to the reader, which idea\\'s are related. For example, closely related ideas are in sentances. Similar ideas are in paragraphs. Paragraphs form a document. \\n\\n Paragraphs are often delimited with a carriage return or two carriage returns. Carriage returns are the \"backslash n\" you see embedded in this string. Sentences have a period at the end, but also,',\n",
       " 'have a space.and words are separated by space.']"
      ]
     },
     "execution_count": 19,
     "metadata": {},
     "output_type": "execute_result"
    }
   ],
   "source": [
    "c_splitter.split_text(some_text)"
   ]
  },
  {
   "cell_type": "code",
   "execution_count": 20,
   "metadata": {},
   "outputs": [
    {
     "data": {
      "text/plain": [
       "[\"When writing documents, writers will use document structure to group content. This can convey to the reader, which idea's are related. For example, closely related ideas are in sentances. Similar ideas are in paragraphs. Paragraphs form a document.\",\n",
       " 'Paragraphs are often delimited with a carriage return or two carriage returns. Carriage returns are the \"backslash n\" you see embedded in this string. Sentences have a period at the end, but also, have a space.and words are separated by space.']"
      ]
     },
     "execution_count": 20,
     "metadata": {},
     "output_type": "execute_result"
    }
   ],
   "source": [
    "r_splitter.split_text(some_text)"
   ]
  },
  {
   "cell_type": "code",
   "execution_count": 21,
   "metadata": {},
   "outputs": [
    {
     "data": {
      "text/plain": [
       "[\"When writing documents, writers will use document structure to group content. This can convey to the reader, which idea's are related. For example,\",\n",
       " 'closely related ideas are in sentances. Similar ideas are in paragraphs. Paragraphs form a document.',\n",
       " 'Paragraphs are often delimited with a carriage return or two carriage returns. Carriage returns are the \"backslash n\" you see embedded in this',\n",
       " 'string. Sentences have a period at the end, but also, have a space.and words are separated by space.']"
      ]
     },
     "execution_count": 21,
     "metadata": {},
     "output_type": "execute_result"
    }
   ],
   "source": [
    "#Let's reduce the chunk size a bit and add a period to our separators:\n",
    "r_splitter = RecursiveCharacterTextSplitter(\n",
    "    chunk_size=150,\n",
    "    chunk_overlap=0,\n",
    "    separators=[\"\\n\\n\", \"\\n\", \"\\. \", \" \", \"\"]\n",
    ")\n",
    "r_splitter.split_text(some_text)"
   ]
  },
  {
   "cell_type": "code",
   "execution_count": 22,
   "metadata": {},
   "outputs": [
    {
     "data": {
      "text/plain": [
       "[\"When writing documents, writers will use document structure to group content. This can convey to the reader, which idea's are related. For example,\",\n",
       " 'closely related ideas are in sentances. Similar ideas are in paragraphs. Paragraphs form a document.',\n",
       " 'Paragraphs are often delimited with a carriage return or two carriage returns. Carriage returns are the \"backslash n\" you see embedded in this',\n",
       " 'string. Sentences have a period at the end, but also, have a space.and words are separated by space.']"
      ]
     },
     "execution_count": 22,
     "metadata": {},
     "output_type": "execute_result"
    }
   ],
   "source": [
    "r_splitter = RecursiveCharacterTextSplitter(\n",
    "    chunk_size=150,\n",
    "    chunk_overlap=0,\n",
    "    separators=[\"\\n\\n\", \"\\n\", \"(?<=\\. )\", \" \", \"\"]\n",
    ")\n",
    "r_splitter.split_text(some_text)"
   ]
  },
  {
   "cell_type": "code",
   "execution_count": 23,
   "metadata": {},
   "outputs": [],
   "source": [
    "from langchain.document_loaders import PyPDFLoader\n",
    "loader = PyPDFLoader(\"data/nba-rules-2023.pdf\")\n",
    "pages = loader.load()"
   ]
  },
  {
   "cell_type": "code",
   "execution_count": 24,
   "metadata": {},
   "outputs": [],
   "source": [
    "from langchain.text_splitter import CharacterTextSplitter\n",
    "text_splitter = CharacterTextSplitter(\n",
    "    separator=\"\\n\",\n",
    "    chunk_size=1000,\n",
    "    chunk_overlap=150,\n",
    "    length_function=len\n",
    ")\n",
    "docs = text_splitter.split_documents(pages)"
   ]
  },
  {
   "cell_type": "code",
   "execution_count": 25,
   "metadata": {},
   "outputs": [
    {
     "data": {
      "text/plain": [
       "(276, 74)"
      ]
     },
     "execution_count": 25,
     "metadata": {},
     "output_type": "execute_result"
    }
   ],
   "source": [
    "len(docs), len(pages)"
   ]
  },
  {
   "cell_type": "markdown",
   "metadata": {},
   "source": [
    "## Token splitting\n",
    "\n",
    "We can also split on token count explicity, if we want.\n",
    "\n",
    "This can be useful because LLMs often have context windows designated in tokens.\n",
    "\n",
    "Tokens are often ~4 characters.\n"
   ]
  },
  {
   "cell_type": "code",
   "execution_count": 26,
   "metadata": {},
   "outputs": [
    {
     "data": {
      "text/plain": [
       "['foo', ' bar', ' b', 'az', 'zy', 'foo']"
      ]
     },
     "execution_count": 26,
     "metadata": {},
     "output_type": "execute_result"
    }
   ],
   "source": [
    "from langchain.text_splitter import TokenTextSplitter\n",
    "text_splitter = TokenTextSplitter(chunk_size=1, chunk_overlap=0)\n",
    "\n",
    "text1 = \"foo bar bazzyfoo\"\n",
    "text_splitter.split_text(text1)"
   ]
  },
  {
   "cell_type": "code",
   "execution_count": 27,
   "metadata": {},
   "outputs": [
    {
     "name": "stdout",
     "output_type": "stream",
     "text": [
      "page_content='This Page Intentionally Left Blank  \\n' metadata={'source': 'data/nba-rules-2023.pdf', 'page': 0} {'source': 'data/nba-rules-2023.pdf', 'page': 0}\n"
     ]
    }
   ],
   "source": [
    "text_splitter = TokenTextSplitter(chunk_size=10, chunk_overlap=0)\n",
    "docs = text_splitter.split_documents(pages)\n",
    "print(docs[0], pages[0].metadata)"
   ]
  },
  {
   "cell_type": "code",
   "execution_count": null,
   "metadata": {},
   "outputs": [],
   "source": []
  },
  {
   "cell_type": "code",
   "execution_count": 28,
   "metadata": {},
   "outputs": [],
   "source": [
    "# embeddings\n",
    "# https://platform.openai.com/docs/guides/embeddings/what-are-embeddings\n",
    "# By default, the length of the embedding vector will be 1536 for text-embedding-3-small or \n",
    "# 3072 for text-embedding-3-large. \n",
    "# text-embedding-3-small\t$0.02 / 1M tokens\n",
    "# text-embedding-3-large\t$0.13 / 1M tokens\n",
    "\n",
    "from langchain_openai import OpenAIEmbeddings\n",
    "embedding = OpenAIEmbeddings(model=\"text-embedding-3-small\")"
   ]
  },
  {
   "cell_type": "code",
   "execution_count": 29,
   "metadata": {},
   "outputs": [],
   "source": [
    "sentence1 = \"i like dogs\"\n",
    "sentence2 = \"i like cats\"\n",
    "sentence3 = \"the weather is sweet outside\""
   ]
  },
  {
   "cell_type": "code",
   "execution_count": 30,
   "metadata": {},
   "outputs": [],
   "source": [
    "embedding1 = embedding.embed_query(sentence1)\n",
    "embedding2 = embedding.embed_query(sentence2)\n",
    "embedding3 = embedding.embed_query(sentence3)"
   ]
  },
  {
   "cell_type": "code",
   "execution_count": 31,
   "metadata": {},
   "outputs": [
    {
     "data": {
      "text/plain": [
       "(0.7222818700424505, 0.2678379503528554, 0.2573718290611007)"
      ]
     },
     "execution_count": 31,
     "metadata": {},
     "output_type": "execute_result"
    }
   ],
   "source": [
    "import numpy as np\n",
    "np.dot(embedding1, embedding2), np.dot(embedding1, embedding3), np.dot(embedding2, embedding3)"
   ]
  },
  {
   "cell_type": "code",
   "execution_count": 32,
   "metadata": {},
   "outputs": [],
   "source": [
    "!rm -rf ./data/chroma  # remove old database files if any"
   ]
  },
  {
   "cell_type": "code",
   "execution_count": 33,
   "metadata": {},
   "outputs": [],
   "source": [
    "from langchain.vectorstores import Chroma\n",
    "persist_directory = './data/chroma/'"
   ]
  },
  {
   "cell_type": "code",
   "execution_count": 34,
   "metadata": {},
   "outputs": [
    {
     "data": {
      "text/plain": [
       "79"
      ]
     },
     "execution_count": 34,
     "metadata": {},
     "output_type": "execute_result"
    }
   ],
   "source": [
    "from langchain.document_loaders import PyPDFLoader\n",
    "\n",
    "# Load PDF\n",
    "loaders = [\n",
    "    PyPDFLoader(\"data/getting-real/getting-real-01-introduction.pdf\"),\n",
    "    PyPDFLoader(\"data/getting-real/getting-real-02-starting-line.pdf\"),\n",
    "    PyPDFLoader(\"data/getting-real/getting-real-03-stay-lean.pdf\"),  # Duplicate documents on purpose\n",
    "    PyPDFLoader(\"data/getting-real/getting-real-03-stay-lean.pdf\"),  # Duplicate documents on purpose\n",
    "    PyPDFLoader(\"data/getting-real/getting-real-04-priorities.pdf\"), \n",
    "    PyPDFLoader(\"data/getting-real/getting-real-05-feature-selection.pdf\"), \n",
    "]\n",
    "docs = []\n",
    "for loader in loaders:\n",
    "    docs.extend(loader.load())\n",
    "\n",
    "# Split\n",
    "from langchain.text_splitter import RecursiveCharacterTextSplitter\n",
    "text_splitter = RecursiveCharacterTextSplitter(\n",
    "    chunk_size = 1500,\n",
    "    chunk_overlap = 150\n",
    ")\n",
    "\n",
    "splits = text_splitter.split_documents(docs)\n",
    "\n",
    "len(splits)"
   ]
  },
  {
   "cell_type": "code",
   "execution_count": 35,
   "metadata": {},
   "outputs": [],
   "source": [
    "vectordb = Chroma.from_documents(\n",
    "    documents=splits,\n",
    "    embedding=embedding,\n",
    "    persist_directory=persist_directory\n",
    ")"
   ]
  },
  {
   "cell_type": "code",
   "execution_count": 36,
   "metadata": {},
   "outputs": [
    {
     "name": "stdout",
     "output_type": "stream",
     "text": [
      "79\n"
     ]
    }
   ],
   "source": [
    "print(vectordb._collection.count())"
   ]
  },
  {
   "cell_type": "code",
   "execution_count": 37,
   "metadata": {},
   "outputs": [
    {
     "data": {
      "text/plain": [
       "3"
      ]
     },
     "execution_count": 37,
     "metadata": {},
     "output_type": "execute_result"
    }
   ],
   "source": [
    "question = \"what's a foul in basketball?\"\n",
    "docs = vectordb.similarity_search(question, k=3)\n",
    "len(docs)"
   ]
  },
  {
   "cell_type": "markdown",
   "metadata": {},
   "source": [
    "duplicate chunks (because of the duplicate pdfs in the index).\n",
    "\n",
    "Semantic search fetches all similar documents, but does not enforce diversity.\n",
    "\n",
    "`docs[0]` and `docs[1]` are indentical."
   ]
  },
  {
   "cell_type": "code",
   "execution_count": 38,
   "metadata": {},
   "outputs": [
    {
     "data": {
      "text/plain": [
       "'source of emergence. In the flocking birds example, as with a well-designed system, it’s the\\ninteractions and relationships that create the interesting beh avior.\\nThe harder we tighten things down, the less room there is for a creative, emergent solution.\\nWhether it’s locking down requirements before they are well understood or prematurely\\noptimizing code, or inventing complex navigation and workflow scenarios before letting end\\nusers play with the system, the result is the same: an overly complicated, stupid system instead\\nof a clean, elegant system that harnesses emergence.\\nKeep it small. Keep it simple. Let it happen.\\n—Andrew Hunt, The Pragmatic Programmers'"
      ]
     },
     "execution_count": 38,
     "metadata": {},
     "output_type": "execute_result"
    }
   ],
   "source": [
    "docs[0].page_content"
   ]
  },
  {
   "cell_type": "code",
   "execution_count": 39,
   "metadata": {},
   "outputs": [
    {
     "data": {
      "text/plain": [
       "'source of emergence. In the flocking birds example, as with a well-designed system, it’s the\\ninteractions and relationships that create the interesting beh avior.\\nThe harder we tighten things down, the less room there is for a creative, emergent solution.\\nWhether it’s locking down requirements before they are well understood or prematurely\\noptimizing code, or inventing complex navigation and workflow scenarios before letting end\\nusers play with the system, the result is the same: an overly complicated, stupid system instead\\nof a clean, elegant system that harnesses emergence.\\nKeep it small. Keep it simple. Let it happen.\\n—Andrew Hunt, The Pragmatic Programmers'"
      ]
     },
     "execution_count": 39,
     "metadata": {},
     "output_type": "execute_result"
    }
   ],
   "source": [
    "docs[1].page_content"
   ]
  },
  {
   "cell_type": "code",
   "execution_count": 40,
   "metadata": {},
   "outputs": [
    {
     "data": {
      "text/plain": [
       "'strokes than to be wishy-washy about it. If that comes off as cocky or arrogant, so be it. We’d\\nrather be provocative than water everything down with “it depends…” Of course there will be\\ntimes when these rules need to be stretched or broken. And some of these tactics may not apply\\nto your situation. Use your judgement and imagination.\\n“This won’t work inside my company.”\\nThink you’re too big to Get Real? Even Microsoft is Getting Real (and we doubt you’re bigger than\\nthem).'"
      ]
     },
     "execution_count": 40,
     "metadata": {},
     "output_type": "execute_result"
    }
   ],
   "source": [
    "docs[2].page_content"
   ]
  },
  {
   "cell_type": "code",
   "execution_count": 41,
   "metadata": {},
   "outputs": [
    {
     "name": "stderr",
     "output_type": "stream",
     "text": [
      "/Users/harrywang/sandbox/tutorial-buffet/langchain/langchain-rag-basics/venv/lib/python3.10/site-packages/langchain_core/_api/deprecation.py:119: LangChainDeprecationWarning: Since Chroma 0.4.x the manual persistence method is no longer supported as docs are automatically persisted.\n",
      "  warn_deprecated(\n"
     ]
    }
   ],
   "source": [
    "# Let's save this so we can use it later!\n",
    "vectordb.persist()"
   ]
  },
  {
   "cell_type": "code",
   "execution_count": null,
   "metadata": {},
   "outputs": [],
   "source": []
  },
  {
   "cell_type": "markdown",
   "metadata": {},
   "source": [
    "We can see a new failure mode.\n",
    "\n",
    "The question below asks a question about the third lecture, but includes results from other lectures as well."
   ]
  },
  {
   "cell_type": "code",
   "execution_count": 42,
   "metadata": {},
   "outputs": [
    {
     "name": "stdout",
     "output_type": "stream",
     "text": [
      "{'page': 2, 'source': 'data/getting-real/getting-real-03-stay-lean.pdf'}\n",
      "{'page': 2, 'source': 'data/getting-real/getting-real-03-stay-lean.pdf'}\n",
      "{'page': 4, 'source': 'data/getting-real/getting-real-03-stay-lean.pdf'}\n",
      "{'page': 4, 'source': 'data/getting-real/getting-real-03-stay-lean.pdf'}\n",
      "{'page': 3, 'source': 'data/getting-real/getting-real-03-stay-lean.pdf'}\n"
     ]
    }
   ],
   "source": [
    "question = \"what did they say about regression in the third lecture?\"\n",
    "docs = vectordb.similarity_search(question, k=5)\n",
    "for doc in docs:\n",
    "    print(doc.metadata)\n"
   ]
  },
  {
   "cell_type": "code",
   "execution_count": 43,
   "metadata": {},
   "outputs": [
    {
     "name": "stdout",
     "output_type": "stream",
     "text": [
      "source of emergence. In the flocking birds example, as with a well-designed system, it’s the\n",
      "interactions and relationships that create the interesting beh avior.\n",
      "The harder we tighten things down, the less room there is for a creative, emergent solution.\n",
      "Whether it’s locking down requirements before they are well understood or prematurely\n",
      "optimizing code, or inventing complex navigation and workflow scenarios before letting end\n",
      "users play with the system, the result is the same: an overly complicated, stupid system instead\n",
      "of a clean, elegant system that harnesses emergence.\n",
      "Keep it small. Keep it simple. Let it happen.\n",
      "—Andrew Hunt, The Pragmatic Programmers\n"
     ]
    }
   ],
   "source": [
    "print(docs[4].page_content)"
   ]
  },
  {
   "cell_type": "code",
   "execution_count": 44,
   "metadata": {},
   "outputs": [
    {
     "name": "stdout",
     "output_type": "stream",
     "text": [
      "4\n"
     ]
    }
   ],
   "source": [
    "# Chroma in-memory\n",
    "from langchain.vectorstores import Chroma\n",
    "from langchain_openai import OpenAIEmbeddings\n",
    "\n",
    "\n",
    "embedding = OpenAIEmbeddings(model=\"text-embedding-3-small\")\n",
    "\n",
    "persist_directory = './data/chroma/'\n",
    "\n",
    "vectordb = Chroma(\n",
    "    persist_directory=persist_directory,\n",
    "    embedding_function=embedding\n",
    ")\n",
    "\n",
    "texts = [\n",
    "    \"\"\"Michael Porter's five-force strategic analysis model, introduced in a 1979 article published in the Harvard Business Review, remains a fundamental tool for strategic analysts plotting the competitive landscape of an industry\"\"\",\n",
    "    \"\"\"Michael Porter's five-force strategic analysis model, introduced in a 1979 article published in the Harvard Business Review, remains a fundamental tool for strategic analysts plotting the competitive landscape of an industry\"\"\",\n",
    "    \"\"\"Five Forces include: Competitive Rivalry, Supplier Power, Buyer Power, Threat of Substitution, and Threat of New Entry.\"\"\",\n",
    "    \"\"\"The Four C Model of Creativity categorizes creative expression into four levels: mini-c (personal creative learning), little-c (creativity appreciated by others), Pro-c (professional-level creativity), and Big-C (historically significant creativity). This model emphasizes creativity as a lifelong process, important at all stages of personal and professional development.\"\"\",\n",
    "]\n",
    "\n",
    "smalldb = Chroma.from_texts(texts, embedding=embedding)\n",
    "\n",
    "print(smalldb._collection.count())  # 0 nothing loaded yet\n"
   ]
  },
  {
   "cell_type": "code",
   "execution_count": 45,
   "metadata": {},
   "outputs": [
    {
     "data": {
      "text/plain": [
       "[Document(page_content=\"Michael Porter's five-force strategic analysis model, introduced in a 1979 article published in the Harvard Business Review, remains a fundamental tool for strategic analysts plotting the competitive landscape of an industry\"),\n",
       " Document(page_content=\"Michael Porter's five-force strategic analysis model, introduced in a 1979 article published in the Harvard Business Review, remains a fundamental tool for strategic analysts plotting the competitive landscape of an industry\"),\n",
       " Document(page_content='Five Forces include: Competitive Rivalry, Supplier Power, Buyer Power, Threat of Substitution, and Threat of New Entry.')]"
      ]
     },
     "execution_count": 45,
     "metadata": {},
     "output_type": "execute_result"
    }
   ],
   "source": [
    "question = \"Tell me about porter's five forces model\"\n",
    "\n",
    "smalldb.similarity_search(question, k=3)"
   ]
  },
  {
   "cell_type": "markdown",
   "metadata": {},
   "source": [
    "### Addressing Diversity: Maximum marginal relevance"
   ]
  },
  {
   "cell_type": "code",
   "execution_count": 46,
   "metadata": {},
   "outputs": [
    {
     "data": {
      "text/plain": [
       "[Document(page_content=\"Michael Porter's five-force strategic analysis model, introduced in a 1979 article published in the Harvard Business Review, remains a fundamental tool for strategic analysts plotting the competitive landscape of an industry\"),\n",
       " Document(page_content='Five Forces include: Competitive Rivalry, Supplier Power, Buyer Power, Threat of Substitution, and Threat of New Entry.'),\n",
       " Document(page_content='The Four C Model of Creativity categorizes creative expression into four levels: mini-c (personal creative learning), little-c (creativity appreciated by others), Pro-c (professional-level creativity), and Big-C (historically significant creativity). This model emphasizes creativity as a lifelong process, important at all stages of personal and professional development.')]"
      ]
     },
     "execution_count": 46,
     "metadata": {},
     "output_type": "execute_result"
    }
   ],
   "source": [
    "# duplicate is gone\n",
    "\n",
    "smalldb.max_marginal_relevance_search(question, k=3, fetch_k=4)"
   ]
  },
  {
   "cell_type": "code",
   "execution_count": 47,
   "metadata": {},
   "outputs": [
    {
     "data": {
      "text/plain": [
       "[Document(page_content='The Four C Model of Creativity categorizes creative expression into four levels: mini-c (personal creative learning), little-c (creativity appreciated by others), Pro-c (professional-level creativity), and Big-C (historically significant creativity). This model emphasizes creativity as a lifelong process, important at all stages of personal and professional development.'),\n",
       " Document(page_content=\"Michael Porter's five-force strategic analysis model, introduced in a 1979 article published in the Harvard Business Review, remains a fundamental tool for strategic analysts plotting the competitive landscape of an industry\")]"
      ]
     },
     "execution_count": 47,
     "metadata": {},
     "output_type": "execute_result"
    }
   ],
   "source": [
    "question = \"Tell me about creativity models\"\n",
    "smalldb.similarity_search(question, k=2)"
   ]
  },
  {
   "cell_type": "code",
   "execution_count": 48,
   "metadata": {},
   "outputs": [
    {
     "data": {
      "text/plain": [
       "[(Document(page_content='The Four C Model of Creativity categorizes creative expression into four levels: mini-c (personal creative learning), little-c (creativity appreciated by others), Pro-c (professional-level creativity), and Big-C (historically significant creativity). This model emphasizes creativity as a lifelong process, important at all stages of personal and professional development.'),\n",
       "  0.6910927295684814),\n",
       " (Document(page_content=\"Michael Porter's five-force strategic analysis model, introduced in a 1979 article published in the Harvard Business Review, remains a fundamental tool for strategic analysts plotting the competitive landscape of an industry\"),\n",
       "  1.3747798204421997)]"
      ]
     },
     "execution_count": 48,
     "metadata": {},
     "output_type": "execute_result"
    }
   ],
   "source": [
    "# cosine distance, short the better\n",
    "smalldb.similarity_search_with_score(question, k=2)"
   ]
  },
  {
   "cell_type": "markdown",
   "metadata": {},
   "source": [
    "### Addressing Specificity: working with metadata\n",
    "\n",
    "In last lecture, we showed that a question about the third lecture can include results from other lectures as well.\n",
    "\n",
    "To address this, many vectorstores support operations on `metadata`.\n",
    "\n",
    "`metadata` provides context for each embedded chunk."
   ]
  },
  {
   "cell_type": "code",
   "execution_count": null,
   "metadata": {},
   "outputs": [],
   "source": []
  }
 ],
 "metadata": {
  "kernelspec": {
   "display_name": "venv",
   "language": "python",
   "name": "python3"
  },
  "language_info": {
   "codemirror_mode": {
    "name": "ipython",
    "version": 3
   },
   "file_extension": ".py",
   "mimetype": "text/x-python",
   "name": "python",
   "nbconvert_exporter": "python",
   "pygments_lexer": "ipython3",
   "version": "3.10.6"
  }
 },
 "nbformat": 4,
 "nbformat_minor": 2
}
